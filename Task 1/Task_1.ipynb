{
  "cells": [
    {
      "cell_type": "markdown",
      "metadata": {
        "id": "view-in-github",
        "colab_type": "text"
      },
      "source": [
        "<a href=\"https://colab.research.google.com/github/LarsGart/NLP-Social-Media-Mining-for-Health-Monitoring/blob/experimental/Task%201/Task_1.ipynb\" target=\"_parent\"><img src=\"https://colab.research.google.com/assets/colab-badge.svg\" alt=\"Open In Colab\"/></a>"
      ]
    },
    {
      "cell_type": "code",
      "source": [
        "!pip install demoji tensorflow_text"
      ],
      "metadata": {
        "colab": {
          "base_uri": "https://localhost:8080/"
        },
        "id": "rOZp3kGB3ca_",
        "outputId": "b00f0d98-f3f1-48a1-d6b2-23705e0beaf8"
      },
      "id": "rOZp3kGB3ca_",
      "execution_count": null,
      "outputs": [
        {
          "output_type": "stream",
          "name": "stdout",
          "text": [
            "Collecting demoji\n",
            "  Downloading demoji-1.1.0-py3-none-any.whl (42 kB)\n",
            "\u001b[K     |████████████████████████████████| 42 kB 1.4 MB/s \n",
            "\u001b[?25hCollecting tensorflow_text\n",
            "  Downloading tensorflow_text-2.8.1-cp37-cp37m-manylinux_2_12_x86_64.manylinux2010_x86_64.whl (4.9 MB)\n",
            "\u001b[K     |████████████████████████████████| 4.9 MB 16.4 MB/s \n",
            "\u001b[?25hRequirement already satisfied: tensorflow-hub>=0.8.0 in /usr/local/lib/python3.7/dist-packages (from tensorflow_text) (0.12.0)\n",
            "Requirement already satisfied: tensorflow<2.9,>=2.8.0 in /usr/local/lib/python3.7/dist-packages (from tensorflow_text) (2.8.0)\n",
            "Requirement already satisfied: tensorflow-io-gcs-filesystem>=0.23.1 in /usr/local/lib/python3.7/dist-packages (from tensorflow<2.9,>=2.8.0->tensorflow_text) (0.24.0)\n",
            "Requirement already satisfied: libclang>=9.0.1 in /usr/local/lib/python3.7/dist-packages (from tensorflow<2.9,>=2.8.0->tensorflow_text) (13.0.0)\n",
            "Requirement already satisfied: h5py>=2.9.0 in /usr/local/lib/python3.7/dist-packages (from tensorflow<2.9,>=2.8.0->tensorflow_text) (3.1.0)\n",
            "Requirement already satisfied: wrapt>=1.11.0 in /usr/local/lib/python3.7/dist-packages (from tensorflow<2.9,>=2.8.0->tensorflow_text) (1.13.3)\n",
            "Requirement already satisfied: typing-extensions>=3.6.6 in /usr/local/lib/python3.7/dist-packages (from tensorflow<2.9,>=2.8.0->tensorflow_text) (3.10.0.2)\n",
            "Requirement already satisfied: protobuf>=3.9.2 in /usr/local/lib/python3.7/dist-packages (from tensorflow<2.9,>=2.8.0->tensorflow_text) (3.17.3)\n",
            "Requirement already satisfied: absl-py>=0.4.0 in /usr/local/lib/python3.7/dist-packages (from tensorflow<2.9,>=2.8.0->tensorflow_text) (1.0.0)\n",
            "Requirement already satisfied: keras-preprocessing>=1.1.1 in /usr/local/lib/python3.7/dist-packages (from tensorflow<2.9,>=2.8.0->tensorflow_text) (1.1.2)\n",
            "Requirement already satisfied: termcolor>=1.1.0 in /usr/local/lib/python3.7/dist-packages (from tensorflow<2.9,>=2.8.0->tensorflow_text) (1.1.0)\n",
            "Requirement already satisfied: setuptools in /usr/local/lib/python3.7/dist-packages (from tensorflow<2.9,>=2.8.0->tensorflow_text) (57.4.0)\n",
            "Collecting tf-estimator-nightly==2.8.0.dev2021122109\n",
            "  Downloading tf_estimator_nightly-2.8.0.dev2021122109-py2.py3-none-any.whl (462 kB)\n",
            "\u001b[K     |████████████████████████████████| 462 kB 63.7 MB/s \n",
            "\u001b[?25hRequirement already satisfied: six>=1.12.0 in /usr/local/lib/python3.7/dist-packages (from tensorflow<2.9,>=2.8.0->tensorflow_text) (1.15.0)\n",
            "Requirement already satisfied: opt-einsum>=2.3.2 in /usr/local/lib/python3.7/dist-packages (from tensorflow<2.9,>=2.8.0->tensorflow_text) (3.3.0)\n",
            "Requirement already satisfied: gast>=0.2.1 in /usr/local/lib/python3.7/dist-packages (from tensorflow<2.9,>=2.8.0->tensorflow_text) (0.5.3)\n",
            "Requirement already satisfied: numpy>=1.20 in /usr/local/lib/python3.7/dist-packages (from tensorflow<2.9,>=2.8.0->tensorflow_text) (1.21.5)\n",
            "Requirement already satisfied: grpcio<2.0,>=1.24.3 in /usr/local/lib/python3.7/dist-packages (from tensorflow<2.9,>=2.8.0->tensorflow_text) (1.43.0)\n",
            "Requirement already satisfied: keras<2.9,>=2.8.0rc0 in /usr/local/lib/python3.7/dist-packages (from tensorflow<2.9,>=2.8.0->tensorflow_text) (2.8.0)\n",
            "Requirement already satisfied: astunparse>=1.6.0 in /usr/local/lib/python3.7/dist-packages (from tensorflow<2.9,>=2.8.0->tensorflow_text) (1.6.3)\n",
            "Requirement already satisfied: tensorboard<2.9,>=2.8 in /usr/local/lib/python3.7/dist-packages (from tensorflow<2.9,>=2.8.0->tensorflow_text) (2.8.0)\n",
            "Requirement already satisfied: google-pasta>=0.1.1 in /usr/local/lib/python3.7/dist-packages (from tensorflow<2.9,>=2.8.0->tensorflow_text) (0.2.0)\n",
            "Requirement already satisfied: flatbuffers>=1.12 in /usr/local/lib/python3.7/dist-packages (from tensorflow<2.9,>=2.8.0->tensorflow_text) (2.0)\n",
            "Requirement already satisfied: wheel<1.0,>=0.23.0 in /usr/local/lib/python3.7/dist-packages (from astunparse>=1.6.0->tensorflow<2.9,>=2.8.0->tensorflow_text) (0.37.1)\n",
            "Requirement already satisfied: cached-property in /usr/local/lib/python3.7/dist-packages (from h5py>=2.9.0->tensorflow<2.9,>=2.8.0->tensorflow_text) (1.5.2)\n",
            "Requirement already satisfied: markdown>=2.6.8 in /usr/local/lib/python3.7/dist-packages (from tensorboard<2.9,>=2.8->tensorflow<2.9,>=2.8.0->tensorflow_text) (3.3.6)\n",
            "Requirement already satisfied: werkzeug>=0.11.15 in /usr/local/lib/python3.7/dist-packages (from tensorboard<2.9,>=2.8->tensorflow<2.9,>=2.8.0->tensorflow_text) (1.0.1)\n",
            "Requirement already satisfied: tensorboard-data-server<0.7.0,>=0.6.0 in /usr/local/lib/python3.7/dist-packages (from tensorboard<2.9,>=2.8->tensorflow<2.9,>=2.8.0->tensorflow_text) (0.6.1)\n",
            "Requirement already satisfied: google-auth-oauthlib<0.5,>=0.4.1 in /usr/local/lib/python3.7/dist-packages (from tensorboard<2.9,>=2.8->tensorflow<2.9,>=2.8.0->tensorflow_text) (0.4.6)\n",
            "Requirement already satisfied: tensorboard-plugin-wit>=1.6.0 in /usr/local/lib/python3.7/dist-packages (from tensorboard<2.9,>=2.8->tensorflow<2.9,>=2.8.0->tensorflow_text) (1.8.1)\n",
            "Requirement already satisfied: requests<3,>=2.21.0 in /usr/local/lib/python3.7/dist-packages (from tensorboard<2.9,>=2.8->tensorflow<2.9,>=2.8.0->tensorflow_text) (2.23.0)\n",
            "Requirement already satisfied: google-auth<3,>=1.6.3 in /usr/local/lib/python3.7/dist-packages (from tensorboard<2.9,>=2.8->tensorflow<2.9,>=2.8.0->tensorflow_text) (1.35.0)\n",
            "Requirement already satisfied: cachetools<5.0,>=2.0.0 in /usr/local/lib/python3.7/dist-packages (from google-auth<3,>=1.6.3->tensorboard<2.9,>=2.8->tensorflow<2.9,>=2.8.0->tensorflow_text) (4.2.4)\n",
            "Requirement already satisfied: rsa<5,>=3.1.4 in /usr/local/lib/python3.7/dist-packages (from google-auth<3,>=1.6.3->tensorboard<2.9,>=2.8->tensorflow<2.9,>=2.8.0->tensorflow_text) (4.8)\n",
            "Requirement already satisfied: pyasn1-modules>=0.2.1 in /usr/local/lib/python3.7/dist-packages (from google-auth<3,>=1.6.3->tensorboard<2.9,>=2.8->tensorflow<2.9,>=2.8.0->tensorflow_text) (0.2.8)\n",
            "Requirement already satisfied: requests-oauthlib>=0.7.0 in /usr/local/lib/python3.7/dist-packages (from google-auth-oauthlib<0.5,>=0.4.1->tensorboard<2.9,>=2.8->tensorflow<2.9,>=2.8.0->tensorflow_text) (1.3.1)\n",
            "Requirement already satisfied: importlib-metadata>=4.4 in /usr/local/lib/python3.7/dist-packages (from markdown>=2.6.8->tensorboard<2.9,>=2.8->tensorflow<2.9,>=2.8.0->tensorflow_text) (4.11.0)\n",
            "Requirement already satisfied: zipp>=0.5 in /usr/local/lib/python3.7/dist-packages (from importlib-metadata>=4.4->markdown>=2.6.8->tensorboard<2.9,>=2.8->tensorflow<2.9,>=2.8.0->tensorflow_text) (3.7.0)\n",
            "Requirement already satisfied: pyasn1<0.5.0,>=0.4.6 in /usr/local/lib/python3.7/dist-packages (from pyasn1-modules>=0.2.1->google-auth<3,>=1.6.3->tensorboard<2.9,>=2.8->tensorflow<2.9,>=2.8.0->tensorflow_text) (0.4.8)\n",
            "Requirement already satisfied: urllib3!=1.25.0,!=1.25.1,<1.26,>=1.21.1 in /usr/local/lib/python3.7/dist-packages (from requests<3,>=2.21.0->tensorboard<2.9,>=2.8->tensorflow<2.9,>=2.8.0->tensorflow_text) (1.24.3)\n",
            "Requirement already satisfied: certifi>=2017.4.17 in /usr/local/lib/python3.7/dist-packages (from requests<3,>=2.21.0->tensorboard<2.9,>=2.8->tensorflow<2.9,>=2.8.0->tensorflow_text) (2021.10.8)\n",
            "Requirement already satisfied: idna<3,>=2.5 in /usr/local/lib/python3.7/dist-packages (from requests<3,>=2.21.0->tensorboard<2.9,>=2.8->tensorflow<2.9,>=2.8.0->tensorflow_text) (2.10)\n",
            "Requirement already satisfied: chardet<4,>=3.0.2 in /usr/local/lib/python3.7/dist-packages (from requests<3,>=2.21.0->tensorboard<2.9,>=2.8->tensorflow<2.9,>=2.8.0->tensorflow_text) (3.0.4)\n",
            "Requirement already satisfied: oauthlib>=3.0.0 in /usr/local/lib/python3.7/dist-packages (from requests-oauthlib>=0.7.0->google-auth-oauthlib<0.5,>=0.4.1->tensorboard<2.9,>=2.8->tensorflow<2.9,>=2.8.0->tensorflow_text) (3.2.0)\n",
            "Installing collected packages: tf-estimator-nightly, tensorflow-text, demoji\n",
            "Successfully installed demoji-1.1.0 tensorflow-text-2.8.1 tf-estimator-nightly-2.8.0.dev2021122109\n"
          ]
        }
      ]
    },
    {
      "cell_type": "code",
      "source": [
        "from google.colab import drive\n",
        "drive.mount('/content/drive')"
      ],
      "metadata": {
        "colab": {
          "base_uri": "https://localhost:8080/"
        },
        "id": "j84DdvAI4bVi",
        "outputId": "9e63c903-e36c-495b-aa4a-3ca3983f40e2"
      },
      "id": "j84DdvAI4bVi",
      "execution_count": null,
      "outputs": [
        {
          "output_type": "stream",
          "name": "stdout",
          "text": [
            "Mounted at /content/drive\n"
          ]
        }
      ]
    },
    {
      "cell_type": "code",
      "execution_count": null,
      "id": "864533be",
      "metadata": {
        "id": "864533be"
      },
      "outputs": [],
      "source": [
        "import pandas as pd\n",
        "import numpy as np\n",
        "import matplotlib.pyplot as plt\n",
        "import re\n",
        "import demoji\n",
        "import tensorflow as tf\n",
        "import tensorflow_hub as hub\n",
        "import tensorflow_text as text"
      ]
    },
    {
      "cell_type": "code",
      "execution_count": null,
      "id": "77a3be19",
      "metadata": {
        "scrolled": false,
        "id": "77a3be19",
        "outputId": "6302d753-aae6-4866-d4d2-81ad5386681e",
        "colab": {
          "base_uri": "https://localhost:8080/",
          "height": 424
        }
      },
      "outputs": [
        {
          "output_type": "execute_result",
          "data": {
            "text/html": [
              "\n",
              "  <div id=\"df-0aacf8b2-877e-4aa5-9ec5-d2af922bd047\">\n",
              "    <div class=\"colab-df-container\">\n",
              "      <div>\n",
              "<style scoped>\n",
              "    .dataframe tbody tr th:only-of-type {\n",
              "        vertical-align: middle;\n",
              "    }\n",
              "\n",
              "    .dataframe tbody tr th {\n",
              "        vertical-align: top;\n",
              "    }\n",
              "\n",
              "    .dataframe thead th {\n",
              "        text-align: right;\n",
              "    }\n",
              "</style>\n",
              "<table border=\"1\" class=\"dataframe\">\n",
              "  <thead>\n",
              "    <tr style=\"text-align: right;\">\n",
              "      <th></th>\n",
              "      <th>tweet_id</th>\n",
              "      <th>user_id</th>\n",
              "      <th>class</th>\n",
              "      <th>tweet</th>\n",
              "    </tr>\n",
              "  </thead>\n",
              "  <tbody>\n",
              "    <tr>\n",
              "      <th>0</th>\n",
              "      <td>343909778008973312</td>\n",
              "      <td>464336224</td>\n",
              "      <td>0</td>\n",
              "      <td>i don't fucking need humira</td>\n",
              "    </tr>\n",
              "    <tr>\n",
              "      <th>1</th>\n",
              "      <td>352823276889837570</td>\n",
              "      <td>590337731</td>\n",
              "      <td>0</td>\n",
              "      <td>my retake is next friday, if i bloody fail aga...</td>\n",
              "    </tr>\n",
              "    <tr>\n",
              "      <th>2</th>\n",
              "      <td>339867818843594756</td>\n",
              "      <td>246979971</td>\n",
              "      <td>0</td>\n",
              "      <td>@doctorchristian scared to start fluoxetine, w...</td>\n",
              "    </tr>\n",
              "    <tr>\n",
              "      <th>3</th>\n",
              "      <td>349294537367236611</td>\n",
              "      <td>149749939</td>\n",
              "      <td>0</td>\n",
              "      <td>@intuitivegal1 ok, if you stopped taking the l...</td>\n",
              "    </tr>\n",
              "    <tr>\n",
              "      <th>4</th>\n",
              "      <td>354256195432882177</td>\n",
              "      <td>54516759</td>\n",
              "      <td>0</td>\n",
              "      <td>novartis announces secukinumab (ain457) demons...</td>\n",
              "    </tr>\n",
              "    <tr>\n",
              "      <th>...</th>\n",
              "      <td>...</td>\n",
              "      <td>...</td>\n",
              "      <td>...</td>\n",
              "      <td>...</td>\n",
              "    </tr>\n",
              "    <tr>\n",
              "      <th>5129</th>\n",
              "      <td>350859685227798531</td>\n",
              "      <td>1460971</td>\n",
              "      <td>1</td>\n",
              "      <td>@crohns_twins that sucks. humira made me so si...</td>\n",
              "    </tr>\n",
              "    <tr>\n",
              "      <th>5130</th>\n",
              "      <td>332156923002617859</td>\n",
              "      <td>1403896746</td>\n",
              "      <td>1</td>\n",
              "      <td>i've had no appetite since i started on prozac...</td>\n",
              "    </tr>\n",
              "    <tr>\n",
              "      <th>5131</th>\n",
              "      <td>347529563628253184</td>\n",
              "      <td>15910137</td>\n",
              "      <td>1</td>\n",
              "      <td>takin anbien &amp;amp;seroquel for bad insomnia gi...</td>\n",
              "    </tr>\n",
              "    <tr>\n",
              "      <th>5132</th>\n",
              "      <td>331500382746472448</td>\n",
              "      <td>246440597</td>\n",
              "      <td>1</td>\n",
              "      <td>note to self - nicotine lozenge &amp;amp; alcohol ...</td>\n",
              "    </tr>\n",
              "    <tr>\n",
              "      <th>5133</th>\n",
              "      <td>347124997317345280</td>\n",
              "      <td>35295249</td>\n",
              "      <td>1</td>\n",
              "      <td>act now and get our deluxe cyde-fx set absolut...</td>\n",
              "    </tr>\n",
              "  </tbody>\n",
              "</table>\n",
              "<p>5134 rows × 4 columns</p>\n",
              "</div>\n",
              "      <button class=\"colab-df-convert\" onclick=\"convertToInteractive('df-0aacf8b2-877e-4aa5-9ec5-d2af922bd047')\"\n",
              "              title=\"Convert this dataframe to an interactive table.\"\n",
              "              style=\"display:none;\">\n",
              "        \n",
              "  <svg xmlns=\"http://www.w3.org/2000/svg\" height=\"24px\"viewBox=\"0 0 24 24\"\n",
              "       width=\"24px\">\n",
              "    <path d=\"M0 0h24v24H0V0z\" fill=\"none\"/>\n",
              "    <path d=\"M18.56 5.44l.94 2.06.94-2.06 2.06-.94-2.06-.94-.94-2.06-.94 2.06-2.06.94zm-11 1L8.5 8.5l.94-2.06 2.06-.94-2.06-.94L8.5 2.5l-.94 2.06-2.06.94zm10 10l.94 2.06.94-2.06 2.06-.94-2.06-.94-.94-2.06-.94 2.06-2.06.94z\"/><path d=\"M17.41 7.96l-1.37-1.37c-.4-.4-.92-.59-1.43-.59-.52 0-1.04.2-1.43.59L10.3 9.45l-7.72 7.72c-.78.78-.78 2.05 0 2.83L4 21.41c.39.39.9.59 1.41.59.51 0 1.02-.2 1.41-.59l7.78-7.78 2.81-2.81c.8-.78.8-2.07 0-2.86zM5.41 20L4 18.59l7.72-7.72 1.47 1.35L5.41 20z\"/>\n",
              "  </svg>\n",
              "      </button>\n",
              "      \n",
              "  <style>\n",
              "    .colab-df-container {\n",
              "      display:flex;\n",
              "      flex-wrap:wrap;\n",
              "      gap: 12px;\n",
              "    }\n",
              "\n",
              "    .colab-df-convert {\n",
              "      background-color: #E8F0FE;\n",
              "      border: none;\n",
              "      border-radius: 50%;\n",
              "      cursor: pointer;\n",
              "      display: none;\n",
              "      fill: #1967D2;\n",
              "      height: 32px;\n",
              "      padding: 0 0 0 0;\n",
              "      width: 32px;\n",
              "    }\n",
              "\n",
              "    .colab-df-convert:hover {\n",
              "      background-color: #E2EBFA;\n",
              "      box-shadow: 0px 1px 2px rgba(60, 64, 67, 0.3), 0px 1px 3px 1px rgba(60, 64, 67, 0.15);\n",
              "      fill: #174EA6;\n",
              "    }\n",
              "\n",
              "    [theme=dark] .colab-df-convert {\n",
              "      background-color: #3B4455;\n",
              "      fill: #D2E3FC;\n",
              "    }\n",
              "\n",
              "    [theme=dark] .colab-df-convert:hover {\n",
              "      background-color: #434B5C;\n",
              "      box-shadow: 0px 1px 3px 1px rgba(0, 0, 0, 0.15);\n",
              "      filter: drop-shadow(0px 1px 2px rgba(0, 0, 0, 0.3));\n",
              "      fill: #FFFFFF;\n",
              "    }\n",
              "  </style>\n",
              "\n",
              "      <script>\n",
              "        const buttonEl =\n",
              "          document.querySelector('#df-0aacf8b2-877e-4aa5-9ec5-d2af922bd047 button.colab-df-convert');\n",
              "        buttonEl.style.display =\n",
              "          google.colab.kernel.accessAllowed ? 'block' : 'none';\n",
              "\n",
              "        async function convertToInteractive(key) {\n",
              "          const element = document.querySelector('#df-0aacf8b2-877e-4aa5-9ec5-d2af922bd047');\n",
              "          const dataTable =\n",
              "            await google.colab.kernel.invokeFunction('convertToInteractive',\n",
              "                                                     [key], {});\n",
              "          if (!dataTable) return;\n",
              "\n",
              "          const docLinkHtml = 'Like what you see? Visit the ' +\n",
              "            '<a target=\"_blank\" href=https://colab.research.google.com/notebooks/data_table.ipynb>data table notebook</a>'\n",
              "            + ' to learn more about interactive tables.';\n",
              "          element.innerHTML = '';\n",
              "          dataTable['output_type'] = 'display_data';\n",
              "          await google.colab.output.renderOutput(dataTable, element);\n",
              "          const docLink = document.createElement('div');\n",
              "          docLink.innerHTML = docLinkHtml;\n",
              "          element.appendChild(docLink);\n",
              "        }\n",
              "      </script>\n",
              "    </div>\n",
              "  </div>\n",
              "  "
            ],
            "text/plain": [
              "                tweet_id  ...                                              tweet\n",
              "0     343909778008973312  ...                        i don't fucking need humira\n",
              "1     352823276889837570  ...  my retake is next friday, if i bloody fail aga...\n",
              "2     339867818843594756  ...  @doctorchristian scared to start fluoxetine, w...\n",
              "3     349294537367236611  ...  @intuitivegal1 ok, if you stopped taking the l...\n",
              "4     354256195432882177  ...  novartis announces secukinumab (ain457) demons...\n",
              "...                  ...  ...                                                ...\n",
              "5129  350859685227798531  ...  @crohns_twins that sucks. humira made me so si...\n",
              "5130  332156923002617859  ...  i've had no appetite since i started on prozac...\n",
              "5131  347529563628253184  ...  takin anbien &amp;seroquel for bad insomnia gi...\n",
              "5132  331500382746472448  ...  note to self - nicotine lozenge &amp; alcohol ...\n",
              "5133  347124997317345280  ...  act now and get our deluxe cyde-fx set absolut...\n",
              "\n",
              "[5134 rows x 4 columns]"
            ]
          },
          "metadata": {},
          "execution_count": 7
        }
      ],
      "source": [
        "df = pd.read_csv(r'drive/MyDrive/Colab Notebooks/NLP-Social-Media-Mining-for-Health-Monitoring/datasets/Task 1/task2_en_training.tsv', sep = '\\t')\n",
        "df_eval = pd.read_csv(r'/content/drive/MyDrive/Colab Notebooks/NLP-Social-Media-Mining-for-Health-Monitoring/datasets/Task 1/task2_en_validation.tsv', sep = '\\t')\n",
        "df_eval"
      ]
    },
    {
      "cell_type": "markdown",
      "id": "0cfab7fb",
      "metadata": {
        "id": "0cfab7fb"
      },
      "source": [
        "### Average Number of Tweets per User"
      ]
    },
    {
      "cell_type": "code",
      "execution_count": null,
      "id": "ab62261f",
      "metadata": {
        "id": "ab62261f",
        "outputId": "22db6035-0fc6-4407-e201-35b0c7ca424e",
        "colab": {
          "base_uri": "https://localhost:8080/"
        }
      },
      "outputs": [
        {
          "output_type": "execute_result",
          "data": {
            "text/plain": [
              "1.2693234476367006"
            ]
          },
          "metadata": {},
          "execution_count": 8
        }
      ],
      "source": [
        "sum(list(dict(df['user_id'].value_counts()).values())) / len(list(dict(df['user_id'].value_counts()).values()))"
      ]
    },
    {
      "cell_type": "markdown",
      "id": "6cbb75dc",
      "metadata": {
        "id": "6cbb75dc"
      },
      "source": [
        "### Added this code to clean the text<br>\n",
        "need to change text in the dataset<br>"
      ]
    },
    {
      "cell_type": "code",
      "execution_count": null,
      "id": "b21fd0b0",
      "metadata": {
        "id": "b21fd0b0"
      },
      "outputs": [],
      "source": [
        "def clean_tweet(tweet):\n",
        "    tweet = re.sub(r\"#\", \"\", tweet, 0, re.MULTILINE)\n",
        "    tweet = re.sub(r\"rt\", \"\", tweet, 0, re.MULTILINE)\n",
        "    tweet = tweet.lower()\n",
        "    regex_mentions = r\"@\\w+\"\n",
        "    tweet = re.sub(regex_mentions, \"\", tweet, 0, re.MULTILINE)\n",
        "#     regex_hash = r\"(#[^\\s]+)\"\n",
        "#     tweet = re.sub(regex_hash, \"\", tweet, 0, re.MULTILINE)\n",
        "#     hash_matched = re.finditer(\n",
        "#         regex_hash, tweet['full_text'], re.MULTILINE)\n",
        "    url_regex = r\"(http[^\\s]+)\"\n",
        "    tweet = re.sub(url_regex, \"\", tweet, 0, re.MULTILINE)\n",
        "    special_char_re = r\"[^(?u)\\w]+\"\n",
        "    tweet = re.sub(special_char_re, \" \", tweet, 0, re.MULTILINE)\n",
        "    return tweet"
      ]
    },
    {
      "cell_type": "code",
      "execution_count": null,
      "id": "cef07e22",
      "metadata": {
        "id": "cef07e22"
      },
      "outputs": [],
      "source": [
        "def remove_emojis(text):\n",
        "    emoticons_happy = list([\n",
        "        ':-)', ':)', ';)', ':o)', ':]', ':3', ':c)', ':>', '=]', '8)', '=)', ':}',\n",
        "        ':^)', ':-D', ':D', '8-D', '8D', 'x-D', 'xD', 'X-D', 'XD', '=-D', '=D',\n",
        "        '=-3', '=3', ':-))', \":'-)\", \":')\", ':*', ':^*', '>:P', ':-P', ':P', 'X-P',\n",
        "        'x-p', 'xp', 'XP', ':-p', ':p', '=p', ':-b', ':b', '>:)', '>;)', '>:-)',\n",
        "        '<3'\n",
        "    ])\n",
        "    emoticons_sad = list([\n",
        "        ':L', ':-/', '>:/', ':S', '>:[', ':@', ':-(', ':[', ':-||', '=L', ':<',\n",
        "        ':-[', ':-<', '=\\\\', '=/', '>:(', ':(', '>.<', \":'-(\", \":'(\", ':\\\\', ':-c',\n",
        "        ':c', ':{', '>:\\\\', ';('\n",
        "    ])\n",
        "    all_emoticons = emoticons_happy + emoticons_sad\n",
        "\n",
        "    emojis = list(demoji.findall(text).keys())\n",
        "    clean_text = demoji.replace(text, '')\n",
        "\n",
        "    for emo in all_emoticons:\n",
        "        if (emo in clean_text):\n",
        "            clean_text = clean_text.replace(emo, '')\n",
        "            emojis.append(emo)\n",
        "\n",
        "    clean_text = clean_text.replace('\\n', '', -1)\n",
        "    \n",
        "    # using regex to remove urls\n",
        "    # regex_url = r\"https:(.*)[A-Za-z0-9]\"\n",
        "    # clean_text = re.sub(regex_url, '', clean_text, 0, re.MULTILINE)\n",
        "\n",
        "    return clean_text #, emojis"
      ]
    },
    {
      "cell_type": "code",
      "execution_count": null,
      "id": "0f402807",
      "metadata": {
        "id": "0f402807"
      },
      "outputs": [],
      "source": [
        "df['tweet'] = df['tweet'].map(lambda tweet: clean_tweet(remove_emojis(tweet)))\n",
        "df_eval['tweet'] = df_eval['tweet'].map(lambda tweet: clean_tweet(remove_emojis(tweet)))"
      ]
    },
    {
      "cell_type": "markdown",
      "id": "d8aad74c",
      "metadata": {
        "id": "d8aad74c"
      },
      "source": [
        "### Highly Imbalanced Dataset<br>\n",
        "We will have to address this.<br>\n",
        "We can explore creating synthetic data, using TOMEK-Links, etc."
      ]
    },
    {
      "cell_type": "code",
      "execution_count": null,
      "id": "85e90ee1",
      "metadata": {
        "scrolled": false,
        "id": "85e90ee1",
        "colab": {
          "base_uri": "https://localhost:8080/",
          "height": 279
        },
        "outputId": "666c0dba-f94c-4a1c-c1b9-83ad8cf74c91"
      },
      "outputs": [
        {
          "output_type": "execute_result",
          "data": {
            "text/plain": [
              "<matplotlib.axes._subplots.AxesSubplot at 0x7f3d457f1210>"
            ]
          },
          "metadata": {},
          "execution_count": 18
        },
        {
          "output_type": "display_data",
          "data": {
            "image/png": "[encoded data removed]",
            "text/plain": [
              "<Figure size 432x288 with 1 Axes>"
            ]
          },
          "metadata": {
            "needs_background": "light"
          }
        }
      ],
      "source": [
        "df['class'].value_counts().plot(kind='bar')"
      ]
    },
    {
      "cell_type": "markdown",
      "id": "205c7c1f",
      "metadata": {
        "id": "205c7c1f"
      },
      "source": [
        "### Addressing Duplicate Tweets<br>\n",
        "We must remove duplicate rows to avoid redundancy and model overfitting"
      ]
    },
    {
      "cell_type": "code",
      "execution_count": null,
      "id": "61023e0c",
      "metadata": {
        "id": "61023e0c",
        "colab": {
          "base_uri": "https://localhost:8080/"
        },
        "outputId": "fea8683a-30a9-4e2f-8037-c349ae49727b"
      },
      "outputs": [
        {
          "output_type": "execute_result",
          "data": {
            "text/plain": [
              "498"
            ]
          },
          "metadata": {},
          "execution_count": 19
        }
      ],
      "source": [
        "len(df.index) - df['tweet'].nunique()"
      ]
    },
    {
      "cell_type": "code",
      "execution_count": null,
      "id": "81c7dc33",
      "metadata": {
        "id": "81c7dc33",
        "colab": {
          "base_uri": "https://localhost:8080/",
          "height": 282
        },
        "outputId": "957f78e9-7ad2-4b1a-961d-0b385ecc0920"
      },
      "outputs": [
        {
          "output_type": "execute_result",
          "data": {
            "text/plain": [
              "<matplotlib.axes._subplots.AxesSubplot at 0x7f3d44b02990>"
            ]
          },
          "metadata": {},
          "execution_count": 20
        },
        {
          "output_type": "display_data",
          "data": {
            "image/png": "[encoded data removed]",
            "text/plain": [
              "<Figure size 432x288 with 1 Axes>"
            ]
          },
          "metadata": {
            "needs_background": "light"
          }
        }
      ],
      "source": [
        "df['tweet'].value_counts()[:10].plot(kind='barh')"
      ]
    },
    {
      "cell_type": "markdown",
      "id": "46daf1f7",
      "metadata": {
        "id": "46daf1f7"
      },
      "source": [
        "### Tweets belonging to class 1 are 8.9 characters longer on average"
      ]
    },
    {
      "cell_type": "code",
      "execution_count": null,
      "id": "6a001230",
      "metadata": {
        "id": "6a001230",
        "colab": {
          "base_uri": "https://localhost:8080/"
        },
        "outputId": "f6dcc557-d513-4176-95f7-7674540b21ad"
      },
      "outputs": [
        {
          "output_type": "execute_result",
          "data": {
            "text/plain": [
              "86.5715895070007"
            ]
          },
          "metadata": {},
          "execution_count": 21
        }
      ],
      "source": [
        "df[df['class'] == 0]['tweet'].apply(len).mean()"
      ]
    },
    {
      "cell_type": "code",
      "execution_count": null,
      "id": "f96090c2",
      "metadata": {
        "scrolled": false,
        "id": "f96090c2",
        "colab": {
          "base_uri": "https://localhost:8080/"
        },
        "outputId": "4d0b50e3-c100-4fe8-a1ff-4c298b1e43f0"
      },
      "outputs": [
        {
          "output_type": "execute_result",
          "data": {
            "text/plain": [
              "96.58959537572254"
            ]
          },
          "metadata": {},
          "execution_count": 22
        }
      ],
      "source": [
        "df[df['class'] == 1]['tweet'].apply(len).mean()"
      ]
    },
    {
      "cell_type": "code",
      "execution_count": null,
      "id": "b9e074bc",
      "metadata": {
        "id": "b9e074bc",
        "colab": {
          "base_uri": "https://localhost:8080/"
        },
        "outputId": "082ebb39-b28c-431f-928e-773200cded62"
      },
      "outputs": [
        {
          "output_type": "execute_result",
          "data": {
            "text/plain": [
              "(18641, 4)"
            ]
          },
          "metadata": {},
          "execution_count": 23
        }
      ],
      "source": [
        "df_0 = df[df['class'] == 0]\n",
        "df_0.shape"
      ]
    },
    {
      "cell_type": "code",
      "execution_count": null,
      "id": "ed402629",
      "metadata": {
        "id": "ed402629",
        "colab": {
          "base_uri": "https://localhost:8080/"
        },
        "outputId": "5d519435-485f-4857-a031-8760888a4203"
      },
      "outputs": [
        {
          "output_type": "execute_result",
          "data": {
            "text/plain": [
              "(1903, 4)"
            ]
          },
          "metadata": {},
          "execution_count": 24
        }
      ],
      "source": [
        "df_1 = df[df['class'] == 1]\n",
        "df_1.shape"
      ]
    },
    {
      "cell_type": "code",
      "execution_count": null,
      "id": "6f807d32",
      "metadata": {
        "id": "6f807d32",
        "colab": {
          "base_uri": "https://localhost:8080/"
        },
        "outputId": "4c664d03-68b8-45c5-9a0a-c7f20eeb4663"
      },
      "outputs": [
        {
          "output_type": "execute_result",
          "data": {
            "text/plain": [
              "(1903, 4)"
            ]
          },
          "metadata": {},
          "execution_count": 25
        }
      ],
      "source": [
        "df_0_downsampled = df_0.sample(df_1.shape[0])\n",
        "df_0_downsampled.shape"
      ]
    },
    {
      "cell_type": "code",
      "execution_count": null,
      "id": "0224bf36",
      "metadata": {
        "id": "0224bf36",
        "colab": {
          "base_uri": "https://localhost:8080/"
        },
        "outputId": "e47a4e70-0a02-4777-a39a-07b55cfa7793"
      },
      "outputs": [
        {
          "output_type": "execute_result",
          "data": {
            "text/plain": [
              "(3806, 4)"
            ]
          },
          "metadata": {},
          "execution_count": 26
        }
      ],
      "source": [
        "df_balanced = pd.concat([df_1,df_0_downsampled])\n",
        "df_balanced.shape"
      ]
    },
    {
      "cell_type": "code",
      "execution_count": null,
      "id": "829f840d",
      "metadata": {
        "id": "829f840d"
      },
      "outputs": [],
      "source": [
        "from sklearn.model_selection import train_test_split\n",
        "import tensorflow as tf\n",
        "X_train, X_test, y_train, y_test = df_balanced['tweet'], df_eval['tweet'], df_balanced['class'], df_eval['class']"
      ]
    },
    {
      "cell_type": "code",
      "execution_count": null,
      "id": "2df774d0",
      "metadata": {
        "id": "2df774d0"
      },
      "outputs": [],
      "source": [
        ""
      ]
    },
    {
      "cell_type": "code",
      "execution_count": null,
      "id": "f50e52a8",
      "metadata": {
        "id": "f50e52a8"
      },
      "outputs": [],
      "source": [
        "bert_preprocess = hub.KerasLayer(\"https://tfhub.dev/tensorflow/bert_en_uncased_preprocess/3\")\n",
        "bert_encoder = hub.KerasLayer(\"https://tfhub.dev/tensorflow/bert_en_uncased_L-12_H-768_A-12/4\")"
      ]
    },
    {
      "cell_type": "code",
      "execution_count": null,
      "id": "0aa5cde0",
      "metadata": {
        "id": "0aa5cde0"
      },
      "outputs": [],
      "source": [
        "#BERT Layers\n",
        "text_input = tf.keras.layers.Input(shape = (), dtype=tf.string , name=\"tweet\")\n",
        "preprocessed_text = bert_preprocess(text_input)\n",
        "outputs = bert_encoder(preprocessed_text)\n",
        "\n",
        "#NN Layers\n",
        "l=tf.keras.layers.Dropout(0.1, name = \"dropout\")(outputs[\"pooled_output\"])\n",
        "l=tf.keras.layers.Dense(1,activation='sigmoid',name='output')(l)\n",
        "\n",
        "#final Model\n",
        "model = tf.keras.Model(inputs = [text_input] , outputs = [l])\n"
      ]
    },
    {
      "cell_type": "code",
      "execution_count": null,
      "id": "00894921",
      "metadata": {
        "id": "00894921",
        "colab": {
          "base_uri": "https://localhost:8080/"
        },
        "outputId": "be4e32fc-815a-4325-b96f-1ab8ff4c5583"
      },
      "outputs": [
        {
          "output_type": "stream",
          "name": "stdout",
          "text": [
            "Model: \"model\"\n",
            "__________________________________________________________________________________________________\n",
            " Layer (type)                   Output Shape         Param #     Connected to                     \n",
            "==================================================================================================\n",
            " tweet (InputLayer)             [(None,)]            0           []                               \n",
            "                                                                                                  \n",
            " keras_layer (KerasLayer)       {'input_word_ids':   0           ['tweet[0][0]']                  \n",
            "                                (None, 128),                                                      \n",
            "                                 'input_type_ids':                                                \n",
            "                                (None, 128),                                                      \n",
            "                                 'input_mask': (Non                                               \n",
            "                                e, 128)}                                                          \n",
            "                                                                                                  \n",
            " keras_layer_1 (KerasLayer)     {'default': (None,   109482241   ['keras_layer[6][0]',            \n",
            "                                768),                             'keras_layer[6][1]',            \n",
            "                                 'sequence_output':               'keras_layer[6][2]']            \n",
            "                                 (None, 128, 768),                                                \n",
            "                                 'encoder_outputs':                                               \n",
            "                                 [(None, 128, 768),                                               \n",
            "                                 (None, 128, 768),                                                \n",
            "                                 (None, 128, 768),                                                \n",
            "                                 (None, 128, 768),                                                \n",
            "                                 (None, 128, 768),                                                \n",
            "                                 (None, 128, 768),                                                \n",
            "                                 (None, 128, 768),                                                \n",
            "                                 (None, 128, 768),                                                \n",
            "                                 (None, 128, 768),                                                \n",
            "                                 (None, 128, 768),                                                \n",
            "                                 (None, 128, 768),                                                \n",
            "                                 (None, 128, 768)],                                               \n",
            "                                 'pooled_output': (                                               \n",
            "                                None, 768)}                                                       \n",
            "                                                                                                  \n",
            " dropout (Dropout)              (None, 768)          0           ['keras_layer_1[1][13]']         \n",
            "                                                                                                  \n",
            " output (Dense)                 (None, 1)            769         ['dropout[0][0]']                \n",
            "                                                                                                  \n",
            "==================================================================================================\n",
            "Total params: 109,483,010\n",
            "Trainable params: 769\n",
            "Non-trainable params: 109,482,241\n",
            "__________________________________________________________________________________________________\n"
          ]
        }
      ],
      "source": [
        "model.summary()"
      ]
    },
    {
      "cell_type": "code",
      "execution_count": null,
      "id": "f7cb85a7",
      "metadata": {
        "id": "f7cb85a7"
      },
      "outputs": [],
      "source": [
        "METRICS =[\n",
        "          tf.keras.metrics.BinaryAccuracy(name='accuracy'),\n",
        "          tf.keras.metrics.Precision(name='precision'),\n",
        "          tf.keras.metrics.Recall(name='recall')\n",
        "]\n",
        "\n",
        "model.compile(optimizer=\"adam\",\n",
        "              loss = \"binary_crossentropy\",\n",
        "              metrics = METRICS)"
      ]
    },
    {
      "cell_type": "code",
      "source": [
        "model.fit(X_train,y_train,epochs=10)"
      ],
      "metadata": {
        "colab": {
          "base_uri": "https://localhost:8080/"
        },
        "id": "SfDYIkwDxEF3",
        "outputId": "c84724f2-f4ac-4b18-e57c-9afddfa0df03"
      },
      "id": "SfDYIkwDxEF3",
      "execution_count": null,
      "outputs": [
        {
          "output_type": "stream",
          "name": "stdout",
          "text": [
            "Epoch 1/10\n",
            "119/119 [==============================] - 52s 331ms/step - loss: 0.6818 - accuracy: 0.5715 - precision: 0.5718 - recall: 0.5691\n",
            "Epoch 2/10\n",
            "119/119 [==============================] - 40s 335ms/step - loss: 0.6363 - accuracy: 0.6387 - precision: 0.6298 - recall: 0.6731\n",
            "Epoch 3/10\n",
            "119/119 [==============================] - 41s 341ms/step - loss: 0.6129 - accuracy: 0.6642 - precision: 0.6618 - recall: 0.6716\n",
            "Epoch 4/10\n",
            "119/119 [==============================] - 40s 336ms/step - loss: 0.5980 - accuracy: 0.6876 - precision: 0.6799 - recall: 0.7089\n",
            "Epoch 5/10\n",
            "119/119 [==============================] - 40s 339ms/step - loss: 0.5851 - accuracy: 0.6931 - precision: 0.6874 - recall: 0.7084\n",
            "Epoch 6/10\n",
            "119/119 [==============================] - 40s 340ms/step - loss: 0.5782 - accuracy: 0.7005 - precision: 0.6938 - recall: 0.7178\n",
            "Epoch 7/10\n",
            "119/119 [==============================] - 41s 340ms/step - loss: 0.5756 - accuracy: 0.6957 - precision: 0.6903 - recall: 0.7099\n",
            "Epoch 8/10\n",
            "119/119 [==============================] - 40s 339ms/step - loss: 0.5738 - accuracy: 0.6944 - precision: 0.6880 - recall: 0.7115\n",
            "Epoch 9/10\n",
            "119/119 [==============================] - 40s 338ms/step - loss: 0.5693 - accuracy: 0.7060 - precision: 0.6992 - recall: 0.7231\n",
            "Epoch 10/10\n",
            "119/119 [==============================] - 41s 341ms/step - loss: 0.5648 - accuracy: 0.7160 - precision: 0.7112 - recall: 0.7273\n"
          ]
        },
        {
          "output_type": "execute_result",
          "data": {
            "text/plain": [
              "<keras.callbacks.History at 0x7f3cac96c9d0>"
            ]
          },
          "metadata": {},
          "execution_count": 44
        }
      ]
    },
    {
      "cell_type": "code",
      "source": [
        "model.evaluate(X_test,y_test)"
      ],
      "metadata": {
        "colab": {
          "base_uri": "https://localhost:8080/"
        },
        "id": "EyWIqFCixLsn",
        "outputId": "ecee5f6e-e228-4f16-e462-5c2f21508e58"
      },
      "id": "EyWIqFCixLsn",
      "execution_count": null,
      "outputs": [
        {
          "output_type": "stream",
          "name": "stdout",
          "text": [
            "161/161 [==============================] - 56s 340ms/step - loss: 0.5851 - accuracy: 0.6790 - precision: 0.1854 - recall: 0.7300\n"
          ]
        },
        {
          "output_type": "execute_result",
          "data": {
            "text/plain": [
              "[0.585116982460022, 0.6790027022361755, 0.1854233592748642, 0.7299578189849854]"
            ]
          },
          "metadata": {},
          "execution_count": 45
        }
      ]
    },
    {
      "cell_type": "code",
      "source": [
        "y_predicted = model.predict(X_test)\n",
        "y_predicted = y_predicted.flatten()"
      ],
      "metadata": {
        "id": "V7ZFoq00y18l"
      },
      "id": "V7ZFoq00y18l",
      "execution_count": null,
      "outputs": []
    },
    {
      "cell_type": "code",
      "source": [
        "y_predicted = np.where(y_predicted > 0.5,1,0)\n",
        "y_predicted"
      ],
      "metadata": {
        "colab": {
          "base_uri": "https://localhost:8080/"
        },
        "id": "_byqDgXGzGLs",
        "outputId": "2a090f3b-304f-4b5d-f925-c06d3d55ab81"
      },
      "id": "_byqDgXGzGLs",
      "execution_count": null,
      "outputs": [
        {
          "output_type": "execute_result",
          "data": {
            "text/plain": [
              "array([1, 0, 0, ..., 1, 1, 0])"
            ]
          },
          "metadata": {},
          "execution_count": 47
        }
      ]
    },
    {
      "cell_type": "code",
      "source": [
        "from sklearn.metrics import confusion_matrix,classification_report\n",
        "\n",
        "cm = confusion_matrix(y_test,y_predicted)\n",
        "cm"
      ],
      "metadata": {
        "colab": {
          "base_uri": "https://localhost:8080/"
        },
        "id": "q39PeUNuzWkV",
        "outputId": "10f11814-be87-4028-b98c-ee98061ea6b8"
      },
      "id": "q39PeUNuzWkV",
      "execution_count": null,
      "outputs": [
        {
          "output_type": "execute_result",
          "data": {
            "text/plain": [
              "array([[3140, 1520],\n",
              "       [ 128,  346]])"
            ]
          },
          "metadata": {},
          "execution_count": 48
        }
      ]
    },
    {
      "cell_type": "code",
      "source": [
        "from matplotlib import pyplot as plt\n",
        "import seaborn as sn\n",
        "\n",
        "sn.heatmap(cm, annot = True , fmt = 'd')\n",
        "plt.xlabel(\"Predicted\")\n",
        "plt.ylabel(\"Truth\")"
      ],
      "metadata": {
        "colab": {
          "base_uri": "https://localhost:8080/",
          "height": 296
        },
        "id": "yHv_lusYzmtP",
        "outputId": "11ac7636-c425-4e52-b04f-53969fe7523a"
      },
      "id": "yHv_lusYzmtP",
      "execution_count": null,
      "outputs": [
        {
          "output_type": "execute_result",
          "data": {
            "text/plain": [
              "Text(33.0, 0.5, 'Truth')"
            ]
          },
          "metadata": {},
          "execution_count": 49
        },
        {
          "output_type": "display_data",
          "data": {
            "image/png": "[encoded data removed]",
            "text/plain": [
              "<Figure size 432x288 with 2 Axes>"
            ]
          },
          "metadata": {
            "needs_background": "light"
          }
        }
      ]
    },
    {
      "cell_type": "code",
      "source": [
        "print(classification_report(y_test,y_predicted))"
      ],
      "metadata": {
        "colab": {
          "base_uri": "https://localhost:8080/"
        },
        "id": "WY-SRjL-0GeT",
        "outputId": "3c7d14cf-cfca-4795-ae61-440d1c15eb39"
      },
      "id": "WY-SRjL-0GeT",
      "execution_count": null,
      "outputs": [
        {
          "output_type": "stream",
          "name": "stdout",
          "text": [
            "              precision    recall  f1-score   support\n",
            "\n",
            "           0       0.96      0.67      0.79      4660\n",
            "           1       0.19      0.73      0.30       474\n",
            "\n",
            "    accuracy                           0.68      5134\n",
            "   macro avg       0.57      0.70      0.54      5134\n",
            "weighted avg       0.89      0.68      0.75      5134\n",
            "\n"
          ]
        }
      ]
    },
    {
      "cell_type": "code",
      "source": [
        "!nvidia-smi"
      ],
      "metadata": {
        "colab": {
          "base_uri": "https://localhost:8080/"
        },
        "id": "FFvXIffn1Lyn",
        "outputId": "67a82b03-a1c6-4242-ad22-7ebe6744f6af"
      },
      "id": "FFvXIffn1Lyn",
      "execution_count": null,
      "outputs": [
        {
          "output_type": "stream",
          "name": "stdout",
          "text": [
            "Mon Feb 21 06:21:09 2022       \n",
            "+-----------------------------------------------------------------------------+\n",
            "| NVIDIA-SMI 460.32.03    Driver Version: 460.32.03    CUDA Version: 11.2     |\n",
            "|-------------------------------+----------------------+----------------------+\n",
            "| GPU  Name        Persistence-M| Bus-Id        Disp.A | Volatile Uncorr. ECC |\n",
            "| Fan  Temp  Perf  Pwr:Usage/Cap|         Memory-Usage | GPU-Util  Compute M. |\n",
            "|                               |                      |               MIG M. |\n",
            "|===============================+======================+======================|\n",
            "|   0  Tesla T4            Off  | 00000000:00:04.0 Off |                    0 |\n",
            "| N/A   77C    P0    45W /  70W |   1460MiB / 15109MiB |      0%      Default |\n",
            "|                               |                      |                  N/A |\n",
            "+-------------------------------+----------------------+----------------------+\n",
            "                                                                               \n",
            "+-----------------------------------------------------------------------------+\n",
            "| Processes:                                                                  |\n",
            "|  GPU   GI   CI        PID   Type   Process name                  GPU Memory |\n",
            "|        ID   ID                                                   Usage      |\n",
            "|=============================================================================|\n",
            "+-----------------------------------------------------------------------------+\n"
          ]
        }
      ]
    },
    {
      "cell_type": "code",
      "source": [
        ""
      ],
      "metadata": {
        "id": "1msGmsL5HToY"
      },
      "id": "1msGmsL5HToY",
      "execution_count": null,
      "outputs": []
    }
  ],
  "metadata": {
    "kernelspec": {
      "display_name": "Python 3",
      "language": "python",
      "name": "python3"
    },
    "language_info": {
      "codemirror_mode": {
        "name": "ipython",
        "version": 3
      },
      "file_extension": ".py",
      "mimetype": "text/x-python",
      "name": "python",
      "nbconvert_exporter": "python",
      "pygments_lexer": "ipython3",
      "version": "3.8.8"
    },
    "colab": {
      "name": "Task_1.ipynb",
      "provenance": [],
      "include_colab_link": true
    },
    "accelerator": "GPU"
  },
  "nbformat": 4,
  "nbformat_minor": 5
}