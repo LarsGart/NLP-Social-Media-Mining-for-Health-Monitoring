{
 "cells": [
  {
   "cell_type": "code",
   "execution_count": 1,
   "id": "864533be",
   "metadata": {},
   "outputs": [],
   "source": [
    "import pandas as pd\n",
    "import numpy as np\n",
    "import matplotlib.pyplot as plt"
   ]
  },
  {
   "cell_type": "code",
   "execution_count": 5,
   "id": "77a3be19",
   "metadata": {
    "scrolled": false
   },
   "outputs": [
    {
     "data": {
      "text/html": [
       "<div>\n",
       "<style scoped>\n",
       "    .dataframe tbody tr th:only-of-type {\n",
       "        vertical-align: middle;\n",
       "    }\n",
       "\n",
       "    .dataframe tbody tr th {\n",
       "        vertical-align: top;\n",
       "    }\n",
       "\n",
       "    .dataframe thead th {\n",
       "        text-align: right;\n",
       "    }\n",
       "</style>\n",
       "<table border=\"1\" class=\"dataframe\">\n",
       "  <thead>\n",
       "    <tr style=\"text-align: right;\">\n",
       "      <th></th>\n",
       "      <th>tweet_id</th>\n",
       "      <th>user_id</th>\n",
       "      <th>class</th>\n",
       "      <th>tweet</th>\n",
       "    </tr>\n",
       "  </thead>\n",
       "  <tbody>\n",
       "    <tr>\n",
       "      <th>0</th>\n",
       "      <td>344266386467606528</td>\n",
       "      <td>809439366</td>\n",
       "      <td>0</td>\n",
       "      <td>depression hurts, cymbalta can help</td>\n",
       "    </tr>\n",
       "    <tr>\n",
       "      <th>1</th>\n",
       "      <td>349220537903489025</td>\n",
       "      <td>323112996</td>\n",
       "      <td>0</td>\n",
       "      <td>@jessicama20045 right, but cipro can make thin...</td>\n",
       "    </tr>\n",
       "    <tr>\n",
       "      <th>2</th>\n",
       "      <td>351421773079781378</td>\n",
       "      <td>713100330</td>\n",
       "      <td>0</td>\n",
       "      <td>@fibby1123 are you on paxil .. i need help</td>\n",
       "    </tr>\n",
       "    <tr>\n",
       "      <th>3</th>\n",
       "      <td>326594278472171520</td>\n",
       "      <td>543113070</td>\n",
       "      <td>0</td>\n",
       "      <td>@redicine the lamotrigine and sjs just made ch...</td>\n",
       "    </tr>\n",
       "    <tr>\n",
       "      <th>4</th>\n",
       "      <td>345567138376994816</td>\n",
       "      <td>138795534</td>\n",
       "      <td>0</td>\n",
       "      <td>have decided to skip my #humira shot today. my...</td>\n",
       "    </tr>\n",
       "    <tr>\n",
       "      <th>...</th>\n",
       "      <td>...</td>\n",
       "      <td>...</td>\n",
       "      <td>...</td>\n",
       "      <td>...</td>\n",
       "    </tr>\n",
       "    <tr>\n",
       "      <th>20539</th>\n",
       "      <td>469009954251481088</td>\n",
       "      <td>23177032</td>\n",
       "      <td>1</td>\n",
       "      <td>@hornetweb my mri scan shows when it happens b...</td>\n",
       "    </tr>\n",
       "    <tr>\n",
       "      <th>20540</th>\n",
       "      <td>468518427125358592</td>\n",
       "      <td>1961096371</td>\n",
       "      <td>1</td>\n",
       "      <td>remember 2003. vioxx costs $65m to ontario dru...</td>\n",
       "    </tr>\n",
       "    <tr>\n",
       "      <th>20541</th>\n",
       "      <td>512254891361075200</td>\n",
       "      <td>321391071</td>\n",
       "      <td>1</td>\n",
       "      <td>asians are at higher risk for severe allergic ...</td>\n",
       "    </tr>\n",
       "    <tr>\n",
       "      <th>20542</th>\n",
       "      <td>491775200610893825</td>\n",
       "      <td>2484689840</td>\n",
       "      <td>1</td>\n",
       "      <td>5. so what caused the #estrogen surges in #nuv...</td>\n",
       "    </tr>\n",
       "    <tr>\n",
       "      <th>20543</th>\n",
       "      <td>535492308817682432</td>\n",
       "      <td>330650218</td>\n",
       "      <td>1</td>\n",
       "      <td>@twittalesskels 😂😂😂😂 i'm high off this tamiflu...</td>\n",
       "    </tr>\n",
       "  </tbody>\n",
       "</table>\n",
       "<p>20544 rows × 4 columns</p>\n",
       "</div>"
      ],
      "text/plain": [
       "                 tweet_id     user_id  class  \\\n",
       "0      344266386467606528   809439366      0   \n",
       "1      349220537903489025   323112996      0   \n",
       "2      351421773079781378   713100330      0   \n",
       "3      326594278472171520   543113070      0   \n",
       "4      345567138376994816   138795534      0   \n",
       "...                   ...         ...    ...   \n",
       "20539  469009954251481088    23177032      1   \n",
       "20540  468518427125358592  1961096371      1   \n",
       "20541  512254891361075200   321391071      1   \n",
       "20542  491775200610893825  2484689840      1   \n",
       "20543  535492308817682432   330650218      1   \n",
       "\n",
       "                                                   tweet  \n",
       "0                    depression hurts, cymbalta can help  \n",
       "1      @jessicama20045 right, but cipro can make thin...  \n",
       "2             @fibby1123 are you on paxil .. i need help  \n",
       "3      @redicine the lamotrigine and sjs just made ch...  \n",
       "4      have decided to skip my #humira shot today. my...  \n",
       "...                                                  ...  \n",
       "20539  @hornetweb my mri scan shows when it happens b...  \n",
       "20540  remember 2003. vioxx costs $65m to ontario dru...  \n",
       "20541  asians are at higher risk for severe allergic ...  \n",
       "20542  5. so what caused the #estrogen surges in #nuv...  \n",
       "20543  @twittalesskels 😂😂😂😂 i'm high off this tamiflu...  \n",
       "\n",
       "[20544 rows x 4 columns]"
      ]
     },
     "execution_count": 5,
     "metadata": {},
     "output_type": "execute_result"
    }
   ],
   "source": [
    "df = pd.read_csv(r'../datasets/Task 1/task2_en_training.tsv', sep = '\\t')\n",
    "df"
   ]
  },
  {
   "cell_type": "markdown",
   "id": "0cfab7fb",
   "metadata": {},
   "source": [
    "### Average Number of Tweets per User"
   ]
  },
  {
   "cell_type": "code",
   "execution_count": 6,
   "id": "ab62261f",
   "metadata": {},
   "outputs": [
    {
     "data": {
      "text/plain": [
       "1.2693234476367006"
      ]
     },
     "execution_count": 6,
     "metadata": {},
     "output_type": "execute_result"
    }
   ],
   "source": [
    "sum(list(dict(df['user_id'].value_counts()).values())) / len(list(dict(df['user_id'].value_counts()).values()))"
   ]
  },
  {
   "cell_type": "markdown",
   "id": "d8aad74c",
   "metadata": {},
   "source": [
    "### Highly Imbalanced Dataset<br>\n",
    "We will have to address this.<br>\n",
    "We can explore creating synthetic data, using TOMEK-Links, etc."
   ]
  },
  {
   "cell_type": "code",
   "execution_count": 7,
   "id": "85e90ee1",
   "metadata": {
    "scrolled": false
   },
   "outputs": [
    {
     "data": {
      "text/plain": [
       "<AxesSubplot:>"
      ]
     },
     "execution_count": 7,
     "metadata": {},
     "output_type": "execute_result"
    },
    {
     "data": {
      "image/png": "[encoded data removed]",
      "text/plain": [
       "<Figure size 432x288 with 1 Axes>"
      ]
     },
     "metadata": {
      "needs_background": "light"
     },
     "output_type": "display_data"
    }
   ],
   "source": [
    "df['class'].value_counts().plot(kind='bar')"
   ]
  },
  {
   "cell_type": "markdown",
   "id": "205c7c1f",
   "metadata": {},
   "source": [
    "### Addressing Duplicate Tweets<br>\n",
    "We must remove duplicate rows to avoid redundancy and model overfitting"
   ]
  },
  {
   "cell_type": "code",
   "execution_count": 8,
   "id": "61023e0c",
   "metadata": {},
   "outputs": [
    {
     "data": {
      "text/plain": [
       "328"
      ]
     },
     "execution_count": 8,
     "metadata": {},
     "output_type": "execute_result"
    }
   ],
   "source": [
    "len(df.index) - df['tweet'].nunique()"
   ]
  },
  {
   "cell_type": "code",
   "execution_count": 10,
   "id": "81c7dc33",
   "metadata": {},
   "outputs": [
    {
     "data": {
      "text/plain": [
       "<AxesSubplot:>"
      ]
     },
     "execution_count": 10,
     "metadata": {},
     "output_type": "execute_result"
    },
    {
     "data": {
      "image/png": "[encoded data removed]",
      "text/plain": [
       "<Figure size 432x288 with 1 Axes>"
      ]
     },
     "metadata": {
      "needs_background": "light"
     },
     "output_type": "display_data"
    }
   ],
   "source": [
    "df['tweet'].value_counts()[:10].plot(kind='barh')"
   ]
  },
  {
   "cell_type": "markdown",
   "id": "46daf1f7",
   "metadata": {},
   "source": [
    "### Tweets belonging to class 1 are 8.9 characters longer on average"
   ]
  },
  {
   "cell_type": "code",
   "execution_count": 11,
   "id": "6a001230",
   "metadata": {},
   "outputs": [
    {
     "data": {
      "text/plain": [
       "97.48908320369078"
      ]
     },
     "execution_count": 11,
     "metadata": {},
     "output_type": "execute_result"
    }
   ],
   "source": [
    "df[df['class'] == 0]['tweet'].apply(len).mean()"
   ]
  },
  {
   "cell_type": "code",
   "execution_count": 12,
   "id": "f96090c2",
   "metadata": {
    "scrolled": false
   },
   "outputs": [
    {
     "data": {
      "text/plain": [
       "106.4004203888597"
      ]
     },
     "execution_count": 12,
     "metadata": {},
     "output_type": "execute_result"
    }
   ],
   "source": [
    "df[df['class'] == 1]['tweet'].apply(len).mean()"
   ]
  },
  {
   "cell_type": "code",
   "execution_count": null,
   "id": "b9e074bc",
   "metadata": {},
   "outputs": [],
   "source": []
  }
 ],
 "metadata": {
  "kernelspec": {
   "display_name": "Python 3",
   "language": "python",
   "name": "python3"
  },
  "language_info": {
   "codemirror_mode": {
    "name": "ipython",
    "version": 3
   },
   "file_extension": ".py",
   "mimetype": "text/x-python",
   "name": "python",
   "nbconvert_exporter": "python",
   "pygments_lexer": "ipython3",
   "version": "3.8.8"
  }
 },
 "nbformat": 4,
 "nbformat_minor": 5
}
