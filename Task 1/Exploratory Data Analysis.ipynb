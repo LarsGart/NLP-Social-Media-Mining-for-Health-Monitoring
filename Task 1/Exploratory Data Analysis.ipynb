{
 "cells": [
  {
   "cell_type": "code",
   "execution_count": 1,
   "id": "864533be",
   "metadata": {},
   "outputs": [],
   "source": [
    "import pandas as pd\n",
    "import numpy as np\n",
    "import matplotlib.pyplot as plt\n",
    "import re\n",
    "import demoji\n",
    "# import tensorflow as tf\n",
    "# import tensorflow_hub as hub\n",
    "# import tensorflow_text as text"
   ]
  },
  {
   "cell_type": "code",
   "execution_count": 2,
   "id": "81ae92d9",
   "metadata": {},
   "outputs": [
    {
     "name": "stdout",
     "output_type": "stream",
     "text": [
      "\n",
      "PackageNotInstalledError: Package is not installed in prefix.\n",
      "  prefix: /Users/roshankhatri/opt/anaconda3\n",
      "  package name: tensorflow\n",
      "\n",
      "\n",
      "\n",
      "Note: you may need to restart the kernel to use updated packages.\n"
     ]
    }
   ],
   "source": [
    "conda update tensorflow"
   ]
  },
  {
   "cell_type": "code",
   "execution_count": null,
   "id": "77a3be19",
   "metadata": {
    "scrolled": false
   },
   "outputs": [],
   "source": [
    "df = pd.read_csv(r'../datasets/Task 1/task2_en_training.tsv', sep = '\\t')\n",
    "df"
   ]
  },
  {
   "cell_type": "markdown",
   "id": "0cfab7fb",
   "metadata": {},
   "source": [
    "### Average Number of Tweets per User"
   ]
  },
  {
   "cell_type": "code",
   "execution_count": null,
   "id": "ab62261f",
   "metadata": {},
   "outputs": [],
   "source": [
    "sum(list(dict(df['user_id'].value_counts()).values())) / len(list(dict(df['user_id'].value_counts()).values()))"
   ]
  },
  {
   "cell_type": "markdown",
   "id": "6cbb75dc",
   "metadata": {},
   "source": [
    "### Added this code to clean the text<br>\n",
    "need to change text in the dataset<br>"
   ]
  },
  {
   "cell_type": "code",
   "execution_count": null,
   "id": "b21fd0b0",
   "metadata": {},
   "outputs": [],
   "source": [
    "def clean_tweet(tweet):\n",
    "    tweet = re.sub(r\"#\", \"\", tweet, 0, re.MULTILINE)\n",
    "    tweet = re.sub(r\"rt\", \"\", tweet, 0, re.MULTILINE)\n",
    "    tweet = tweet.lower()\n",
    "    regex_mentions = r\"@\\w+\"\n",
    "    tweet = re.sub(regex_mentions, \"\", tweet, 0, re.MULTILINE)\n",
    "#     regex_hash = r\"(#[^\\s]+)\"\n",
    "#     tweet = re.sub(regex_hash, \"\", tweet, 0, re.MULTILINE)\n",
    "#     hash_matched = re.finditer(\n",
    "#         regex_hash, tweet['full_text'], re.MULTILINE)\n",
    "    url_regex = r\"(http[^\\s]+)\"\n",
    "    tweet = re.sub(url_regex, \"\", tweet, 0, re.MULTILINE)\n",
    "#     special_char_re = r\"[^(?u)\\w]+\"\n",
    "#     tweet = re.sub(special_char_re, \" \", tweet, 0, re.MULTILINE)\n",
    "    return tweet"
   ]
  },
  {
   "cell_type": "code",
   "execution_count": null,
   "id": "cef07e22",
   "metadata": {},
   "outputs": [],
   "source": [
    "def remove_emojis(text):\n",
    "    emoticons_happy = list([\n",
    "        ':-)', ':)', ';)', ':o)', ':]', ':3', ':c)', ':>', '=]', '8)', '=)', ':}',\n",
    "        ':^)', ':-D', ':D', '8-D', '8D', 'x-D', 'xD', 'X-D', 'XD', '=-D', '=D',\n",
    "        '=-3', '=3', ':-))', \":'-)\", \":')\", ':*', ':^*', '>:P', ':-P', ':P', 'X-P',\n",
    "        'x-p', 'xp', 'XP', ':-p', ':p', '=p', ':-b', ':b', '>:)', '>;)', '>:-)',\n",
    "        '<3'\n",
    "    ])\n",
    "    emoticons_sad = list([\n",
    "        ':L', ':-/', '>:/', ':S', '>:[', ':@', ':-(', ':[', ':-||', '=L', ':<',\n",
    "        ':-[', ':-<', '=\\\\', '=/', '>:(', ':(', '>.<', \":'-(\", \":'(\", ':\\\\', ':-c',\n",
    "        ':c', ':{', '>:\\\\', ';('\n",
    "    ])\n",
    "    all_emoticons = emoticons_happy + emoticons_sad\n",
    "\n",
    "    emojis = list(demoji.findall(text).keys())\n",
    "    clean_text = demoji.replace(text, '')\n",
    "\n",
    "    for emo in all_emoticons:\n",
    "        if (emo in clean_text):\n",
    "            clean_text = clean_text.replace(emo, '')\n",
    "            emojis.append(emo)\n",
    "\n",
    "    clean_text = clean_text.replace('\\n', '', -1)\n",
    "    \n",
    "    # using regex to remove urls\n",
    "    # regex_url = r\"https:(.*)[A-Za-z0-9]\"\n",
    "    # clean_text = re.sub(regex_url, '', clean_text, 0, re.MULTILINE)\n",
    "\n",
    "    return clean_text #, emojis"
   ]
  },
  {
   "cell_type": "code",
   "execution_count": null,
   "id": "0f402807",
   "metadata": {},
   "outputs": [],
   "source": [
    "# for tweet in df['tweet']:\n",
    "#     print(tweet)\n",
    "    \n",
    "#     print(clean_tweet(remove_emojis(tweet)))\n",
    "df['tweet'] = df['tweet'].map(lambda tweet: clean_tweet(remove_emojis(tweet)))                                            "
   ]
  },
  {
   "cell_type": "markdown",
   "id": "d8aad74c",
   "metadata": {},
   "source": [
    "### Highly Imbalanced Dataset<br>\n",
    "We will have to address this.<br>\n",
    "We can explore creating synthetic data, using TOMEK-Links, etc."
   ]
  },
  {
   "cell_type": "code",
   "execution_count": null,
   "id": "85e90ee1",
   "metadata": {
    "scrolled": false
   },
   "outputs": [],
   "source": [
    "df['class'].value_counts().plot(kind='bar')"
   ]
  },
  {
   "cell_type": "markdown",
   "id": "205c7c1f",
   "metadata": {},
   "source": [
    "### Addressing Duplicate Tweets<br>\n",
    "We must remove duplicate rows to avoid redundancy and model overfitting"
   ]
  },
  {
   "cell_type": "code",
   "execution_count": null,
   "id": "61023e0c",
   "metadata": {},
   "outputs": [],
   "source": [
    "len(df.index) - df['tweet'].nunique()"
   ]
  },
  {
   "cell_type": "code",
   "execution_count": null,
   "id": "81c7dc33",
   "metadata": {},
   "outputs": [],
   "source": [
    "df['tweet'].value_counts()[:10].plot(kind='barh')"
   ]
  },
  {
   "cell_type": "markdown",
   "id": "46daf1f7",
   "metadata": {},
   "source": [
    "### Tweets belonging to class 1 are 8.9 characters longer on average"
   ]
  },
  {
   "cell_type": "code",
   "execution_count": null,
   "id": "6a001230",
   "metadata": {},
   "outputs": [],
   "source": [
    "df[df['class'] == 0]['tweet'].apply(len).mean()"
   ]
  },
  {
   "cell_type": "code",
   "execution_count": null,
   "id": "f96090c2",
   "metadata": {
    "scrolled": false
   },
   "outputs": [],
   "source": [
    "df[df['class'] == 1]['tweet'].apply(len).mean()"
   ]
  },
  {
   "cell_type": "code",
   "execution_count": null,
   "id": "b9e074bc",
   "metadata": {},
   "outputs": [],
   "source": [
    "df_0 = df[df['class'] == 0]\n",
    "df_0.shape"
   ]
  },
  {
   "cell_type": "code",
   "execution_count": null,
   "id": "ed402629",
   "metadata": {},
   "outputs": [],
   "source": [
    "df_1 = df[df['class'] == 1]\n",
    "df_1.shape"
   ]
  },
  {
   "cell_type": "code",
   "execution_count": null,
   "id": "6f807d32",
   "metadata": {},
   "outputs": [],
   "source": [
    "df_0_downsampled = df_0.sample(df_1.shape[0])\n",
    "df_0_downsampled.shape"
   ]
  },
  {
   "cell_type": "code",
   "execution_count": null,
   "id": "0224bf36",
   "metadata": {},
   "outputs": [],
   "source": [
    "df_balanced = pd.concat([df_1,df_0_downsampled])\n",
    "df_balanced.shape"
   ]
  },
  {
   "cell_type": "code",
   "execution_count": null,
   "id": "829f840d",
   "metadata": {},
   "outputs": [],
   "source": [
    "from sklearn.model_selection import train_test_split\n",
    "import tensorflow as tf\n",
    "X_train, X_test, y_train, y_test = train_test_split(df_balanced['tweet'],df_balanced['class'],stratify=df_balanced['class'])"
   ]
  },
  {
   "cell_type": "code",
   "execution_count": null,
   "id": "2df774d0",
   "metadata": {},
   "outputs": [],
   "source": []
  },
  {
   "cell_type": "code",
   "execution_count": null,
   "id": "f50e52a8",
   "metadata": {},
   "outputs": [],
   "source": [
    "bert_preprocess = hub.KerasLayer(\"https://tfhub.dev/google/bert_uncased_L-12_H-768_A-12/1\")\n",
    "bert_encoder = hub.KerasLayer(\"https://tfhub.dev/google/bert_uncased_L-12_H-768_A-12/1\")"
   ]
  },
  {
   "cell_type": "code",
   "execution_count": null,
   "id": "0aa5cde0",
   "metadata": {},
   "outputs": [],
   "source": []
  },
  {
   "cell_type": "code",
   "execution_count": null,
   "id": "00894921",
   "metadata": {},
   "outputs": [],
   "source": []
  },
  {
   "cell_type": "code",
   "execution_count": null,
   "id": "f7cb85a7",
   "metadata": {},
   "outputs": [],
   "source": []
  }
 ],
 "metadata": {
  "kernelspec": {
   "display_name": "Python 3",
   "language": "python",
   "name": "python3"
  },
  "language_info": {
   "codemirror_mode": {
    "name": "ipython",
    "version": 3
   },
   "file_extension": ".py",
   "mimetype": "text/x-python",
   "name": "python",
   "nbconvert_exporter": "python",
   "pygments_lexer": "ipython3",
   "version": "3.8.8"
  }
 },
 "nbformat": 4,
 "nbformat_minor": 5
}
