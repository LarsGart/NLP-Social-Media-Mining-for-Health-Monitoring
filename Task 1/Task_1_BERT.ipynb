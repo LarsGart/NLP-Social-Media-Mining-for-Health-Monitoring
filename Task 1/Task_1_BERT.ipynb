{
  "cells": [
    {
      "cell_type": "markdown",
      "metadata": {
        "id": "view-in-github",
        "colab_type": "text"
      },
      "source": [
        "<a href=\"https://colab.research.google.com/github/LarsGart/NLP-Social-Media-Mining-for-Health-Monitoring/blob/experimental/Task%201/Task_1_BERT.ipynb\" target=\"_parent\"><img src=\"https://colab.research.google.com/assets/colab-badge.svg\" alt=\"Open In Colab\"/></a>"
      ]
    },
    {
      "cell_type": "code",
      "source": [
        "!pip install demoji tensorflow_text transformers"
      ],
      "metadata": {
        "colab": {
          "base_uri": "https://localhost:8080/"
        },
        "id": "rOZp3kGB3ca_",
        "outputId": "6341d89a-20a9-4d71-aa52-a40cda4765fe"
      },
      "id": "rOZp3kGB3ca_",
      "execution_count": 1,
      "outputs": [
        {
          "output_type": "stream",
          "name": "stdout",
          "text": [
            "Collecting demoji\n",
            "  Downloading demoji-1.1.0-py3-none-any.whl (42 kB)\n",
            "\u001b[K     |████████████████████████████████| 42 kB 1.2 MB/s \n",
            "\u001b[?25hCollecting tensorflow_text\n",
            "  Downloading tensorflow_text-2.8.1-cp37-cp37m-manylinux_2_12_x86_64.manylinux2010_x86_64.whl (4.9 MB)\n",
            "\u001b[K     |████████████████████████████████| 4.9 MB 11.7 MB/s \n",
            "\u001b[?25hCollecting transformers\n",
            "  Downloading transformers-4.16.2-py3-none-any.whl (3.5 MB)\n",
            "\u001b[K     |████████████████████████████████| 3.5 MB 24.3 MB/s \n",
            "\u001b[?25hRequirement already satisfied: tensorflow<2.9,>=2.8.0 in /usr/local/lib/python3.7/dist-packages (from tensorflow_text) (2.8.0)\n",
            "Requirement already satisfied: tensorflow-hub>=0.8.0 in /usr/local/lib/python3.7/dist-packages (from tensorflow_text) (0.12.0)\n",
            "Requirement already satisfied: protobuf>=3.9.2 in /usr/local/lib/python3.7/dist-packages (from tensorflow<2.9,>=2.8.0->tensorflow_text) (3.17.3)\n",
            "Requirement already satisfied: libclang>=9.0.1 in /usr/local/lib/python3.7/dist-packages (from tensorflow<2.9,>=2.8.0->tensorflow_text) (13.0.0)\n",
            "Requirement already satisfied: astunparse>=1.6.0 in /usr/local/lib/python3.7/dist-packages (from tensorflow<2.9,>=2.8.0->tensorflow_text) (1.6.3)\n",
            "Requirement already satisfied: wrapt>=1.11.0 in /usr/local/lib/python3.7/dist-packages (from tensorflow<2.9,>=2.8.0->tensorflow_text) (1.13.3)\n",
            "Requirement already satisfied: grpcio<2.0,>=1.24.3 in /usr/local/lib/python3.7/dist-packages (from tensorflow<2.9,>=2.8.0->tensorflow_text) (1.43.0)\n",
            "Requirement already satisfied: keras<2.9,>=2.8.0rc0 in /usr/local/lib/python3.7/dist-packages (from tensorflow<2.9,>=2.8.0->tensorflow_text) (2.8.0)\n",
            "Requirement already satisfied: opt-einsum>=2.3.2 in /usr/local/lib/python3.7/dist-packages (from tensorflow<2.9,>=2.8.0->tensorflow_text) (3.3.0)\n",
            "Requirement already satisfied: six>=1.12.0 in /usr/local/lib/python3.7/dist-packages (from tensorflow<2.9,>=2.8.0->tensorflow_text) (1.15.0)\n",
            "Requirement already satisfied: gast>=0.2.1 in /usr/local/lib/python3.7/dist-packages (from tensorflow<2.9,>=2.8.0->tensorflow_text) (0.5.3)\n",
            "Requirement already satisfied: termcolor>=1.1.0 in /usr/local/lib/python3.7/dist-packages (from tensorflow<2.9,>=2.8.0->tensorflow_text) (1.1.0)\n",
            "Requirement already satisfied: google-pasta>=0.1.1 in /usr/local/lib/python3.7/dist-packages (from tensorflow<2.9,>=2.8.0->tensorflow_text) (0.2.0)\n",
            "Requirement already satisfied: flatbuffers>=1.12 in /usr/local/lib/python3.7/dist-packages (from tensorflow<2.9,>=2.8.0->tensorflow_text) (2.0)\n",
            "Requirement already satisfied: tensorflow-io-gcs-filesystem>=0.23.1 in /usr/local/lib/python3.7/dist-packages (from tensorflow<2.9,>=2.8.0->tensorflow_text) (0.24.0)\n",
            "Requirement already satisfied: numpy>=1.20 in /usr/local/lib/python3.7/dist-packages (from tensorflow<2.9,>=2.8.0->tensorflow_text) (1.21.5)\n",
            "Requirement already satisfied: keras-preprocessing>=1.1.1 in /usr/local/lib/python3.7/dist-packages (from tensorflow<2.9,>=2.8.0->tensorflow_text) (1.1.2)\n",
            "Requirement already satisfied: typing-extensions>=3.6.6 in /usr/local/lib/python3.7/dist-packages (from tensorflow<2.9,>=2.8.0->tensorflow_text) (3.10.0.2)\n",
            "Requirement already satisfied: absl-py>=0.4.0 in /usr/local/lib/python3.7/dist-packages (from tensorflow<2.9,>=2.8.0->tensorflow_text) (1.0.0)\n",
            "Requirement already satisfied: tensorboard<2.9,>=2.8 in /usr/local/lib/python3.7/dist-packages (from tensorflow<2.9,>=2.8.0->tensorflow_text) (2.8.0)\n",
            "Requirement already satisfied: setuptools in /usr/local/lib/python3.7/dist-packages (from tensorflow<2.9,>=2.8.0->tensorflow_text) (57.4.0)\n",
            "Collecting tf-estimator-nightly==2.8.0.dev2021122109\n",
            "  Downloading tf_estimator_nightly-2.8.0.dev2021122109-py2.py3-none-any.whl (462 kB)\n",
            "\u001b[K     |████████████████████████████████| 462 kB 54.4 MB/s \n",
            "\u001b[?25hRequirement already satisfied: h5py>=2.9.0 in /usr/local/lib/python3.7/dist-packages (from tensorflow<2.9,>=2.8.0->tensorflow_text) (3.1.0)\n",
            "Requirement already satisfied: wheel<1.0,>=0.23.0 in /usr/local/lib/python3.7/dist-packages (from astunparse>=1.6.0->tensorflow<2.9,>=2.8.0->tensorflow_text) (0.37.1)\n",
            "Requirement already satisfied: cached-property in /usr/local/lib/python3.7/dist-packages (from h5py>=2.9.0->tensorflow<2.9,>=2.8.0->tensorflow_text) (1.5.2)\n",
            "Requirement already satisfied: requests<3,>=2.21.0 in /usr/local/lib/python3.7/dist-packages (from tensorboard<2.9,>=2.8->tensorflow<2.9,>=2.8.0->tensorflow_text) (2.23.0)\n",
            "Requirement already satisfied: markdown>=2.6.8 in /usr/local/lib/python3.7/dist-packages (from tensorboard<2.9,>=2.8->tensorflow<2.9,>=2.8.0->tensorflow_text) (3.3.6)\n",
            "Requirement already satisfied: werkzeug>=0.11.15 in /usr/local/lib/python3.7/dist-packages (from tensorboard<2.9,>=2.8->tensorflow<2.9,>=2.8.0->tensorflow_text) (1.0.1)\n",
            "Requirement already satisfied: google-auth-oauthlib<0.5,>=0.4.1 in /usr/local/lib/python3.7/dist-packages (from tensorboard<2.9,>=2.8->tensorflow<2.9,>=2.8.0->tensorflow_text) (0.4.6)\n",
            "Requirement already satisfied: google-auth<3,>=1.6.3 in /usr/local/lib/python3.7/dist-packages (from tensorboard<2.9,>=2.8->tensorflow<2.9,>=2.8.0->tensorflow_text) (1.35.0)\n",
            "Requirement already satisfied: tensorboard-data-server<0.7.0,>=0.6.0 in /usr/local/lib/python3.7/dist-packages (from tensorboard<2.9,>=2.8->tensorflow<2.9,>=2.8.0->tensorflow_text) (0.6.1)\n",
            "Requirement already satisfied: tensorboard-plugin-wit>=1.6.0 in /usr/local/lib/python3.7/dist-packages (from tensorboard<2.9,>=2.8->tensorflow<2.9,>=2.8.0->tensorflow_text) (1.8.1)\n",
            "Requirement already satisfied: rsa<5,>=3.1.4 in /usr/local/lib/python3.7/dist-packages (from google-auth<3,>=1.6.3->tensorboard<2.9,>=2.8->tensorflow<2.9,>=2.8.0->tensorflow_text) (4.8)\n",
            "Requirement already satisfied: pyasn1-modules>=0.2.1 in /usr/local/lib/python3.7/dist-packages (from google-auth<3,>=1.6.3->tensorboard<2.9,>=2.8->tensorflow<2.9,>=2.8.0->tensorflow_text) (0.2.8)\n",
            "Requirement already satisfied: cachetools<5.0,>=2.0.0 in /usr/local/lib/python3.7/dist-packages (from google-auth<3,>=1.6.3->tensorboard<2.9,>=2.8->tensorflow<2.9,>=2.8.0->tensorflow_text) (4.2.4)\n",
            "Requirement already satisfied: requests-oauthlib>=0.7.0 in /usr/local/lib/python3.7/dist-packages (from google-auth-oauthlib<0.5,>=0.4.1->tensorboard<2.9,>=2.8->tensorflow<2.9,>=2.8.0->tensorflow_text) (1.3.1)\n",
            "Requirement already satisfied: importlib-metadata>=4.4 in /usr/local/lib/python3.7/dist-packages (from markdown>=2.6.8->tensorboard<2.9,>=2.8->tensorflow<2.9,>=2.8.0->tensorflow_text) (4.11.1)\n",
            "Requirement already satisfied: zipp>=0.5 in /usr/local/lib/python3.7/dist-packages (from importlib-metadata>=4.4->markdown>=2.6.8->tensorboard<2.9,>=2.8->tensorflow<2.9,>=2.8.0->tensorflow_text) (3.7.0)\n",
            "Requirement already satisfied: pyasn1<0.5.0,>=0.4.6 in /usr/local/lib/python3.7/dist-packages (from pyasn1-modules>=0.2.1->google-auth<3,>=1.6.3->tensorboard<2.9,>=2.8->tensorflow<2.9,>=2.8.0->tensorflow_text) (0.4.8)\n",
            "Requirement already satisfied: certifi>=2017.4.17 in /usr/local/lib/python3.7/dist-packages (from requests<3,>=2.21.0->tensorboard<2.9,>=2.8->tensorflow<2.9,>=2.8.0->tensorflow_text) (2021.10.8)\n",
            "Requirement already satisfied: chardet<4,>=3.0.2 in /usr/local/lib/python3.7/dist-packages (from requests<3,>=2.21.0->tensorboard<2.9,>=2.8->tensorflow<2.9,>=2.8.0->tensorflow_text) (3.0.4)\n",
            "Requirement already satisfied: idna<3,>=2.5 in /usr/local/lib/python3.7/dist-packages (from requests<3,>=2.21.0->tensorboard<2.9,>=2.8->tensorflow<2.9,>=2.8.0->tensorflow_text) (2.10)\n",
            "Requirement already satisfied: urllib3!=1.25.0,!=1.25.1,<1.26,>=1.21.1 in /usr/local/lib/python3.7/dist-packages (from requests<3,>=2.21.0->tensorboard<2.9,>=2.8->tensorflow<2.9,>=2.8.0->tensorflow_text) (1.24.3)\n",
            "Requirement already satisfied: oauthlib>=3.0.0 in /usr/local/lib/python3.7/dist-packages (from requests-oauthlib>=0.7.0->google-auth-oauthlib<0.5,>=0.4.1->tensorboard<2.9,>=2.8->tensorflow<2.9,>=2.8.0->tensorflow_text) (3.2.0)\n",
            "Requirement already satisfied: regex!=2019.12.17 in /usr/local/lib/python3.7/dist-packages (from transformers) (2019.12.20)\n",
            "Collecting sacremoses\n",
            "  Downloading sacremoses-0.0.47-py2.py3-none-any.whl (895 kB)\n",
            "\u001b[K     |████████████████████████████████| 895 kB 15.1 MB/s \n",
            "\u001b[?25hCollecting tokenizers!=0.11.3,>=0.10.1\n",
            "  Downloading tokenizers-0.11.5-cp37-cp37m-manylinux_2_12_x86_64.manylinux2010_x86_64.whl (6.8 MB)\n",
            "\u001b[K     |████████████████████████████████| 6.8 MB 52.0 MB/s \n",
            "\u001b[?25hRequirement already satisfied: tqdm>=4.27 in /usr/local/lib/python3.7/dist-packages (from transformers) (4.62.3)\n",
            "Requirement already satisfied: packaging>=20.0 in /usr/local/lib/python3.7/dist-packages (from transformers) (21.3)\n",
            "Collecting huggingface-hub<1.0,>=0.1.0\n",
            "  Downloading huggingface_hub-0.4.0-py3-none-any.whl (67 kB)\n",
            "\u001b[K     |████████████████████████████████| 67 kB 6.6 MB/s \n",
            "\u001b[?25hRequirement already satisfied: filelock in /usr/local/lib/python3.7/dist-packages (from transformers) (3.6.0)\n",
            "Collecting pyyaml>=5.1\n",
            "  Downloading PyYAML-6.0-cp37-cp37m-manylinux_2_5_x86_64.manylinux1_x86_64.manylinux_2_12_x86_64.manylinux2010_x86_64.whl (596 kB)\n",
            "\u001b[K     |████████████████████████████████| 596 kB 66.1 MB/s \n",
            "\u001b[?25hRequirement already satisfied: pyparsing!=3.0.5,>=2.0.2 in /usr/local/lib/python3.7/dist-packages (from packaging>=20.0->transformers) (3.0.7)\n",
            "Requirement already satisfied: click in /usr/local/lib/python3.7/dist-packages (from sacremoses->transformers) (7.1.2)\n",
            "Requirement already satisfied: joblib in /usr/local/lib/python3.7/dist-packages (from sacremoses->transformers) (1.1.0)\n",
            "Installing collected packages: tf-estimator-nightly, pyyaml, tokenizers, sacremoses, huggingface-hub, transformers, tensorflow-text, demoji\n",
            "  Attempting uninstall: pyyaml\n",
            "    Found existing installation: PyYAML 3.13\n",
            "    Uninstalling PyYAML-3.13:\n",
            "      Successfully uninstalled PyYAML-3.13\n",
            "Successfully installed demoji-1.1.0 huggingface-hub-0.4.0 pyyaml-6.0 sacremoses-0.0.47 tensorflow-text-2.8.1 tf-estimator-nightly-2.8.0.dev2021122109 tokenizers-0.11.5 transformers-4.16.2\n"
          ]
        }
      ]
    },
    {
      "cell_type": "code",
      "source": [
        "from google.colab import drive\n",
        "drive.mount('/content/drive', force_remount=False)"
      ],
      "metadata": {
        "colab": {
          "base_uri": "https://localhost:8080/"
        },
        "id": "j84DdvAI4bVi",
        "outputId": "b834d9aa-d8b1-4256-ddb4-9d99d2735ccc"
      },
      "id": "j84DdvAI4bVi",
      "execution_count": 2,
      "outputs": [
        {
          "output_type": "stream",
          "name": "stdout",
          "text": [
            "Mounted at /content/drive\n"
          ]
        }
      ]
    },
    {
      "cell_type": "code",
      "execution_count": 3,
      "id": "864533be",
      "metadata": {
        "id": "864533be"
      },
      "outputs": [],
      "source": [
        "import pandas as pd\n",
        "import numpy as np\n",
        "import matplotlib.pyplot as plt\n",
        "import re\n",
        "import demoji\n",
        "import tensorflow as tf\n",
        "import tensorflow_hub as hub\n",
        "import tensorflow_text as text"
      ]
    },
    {
      "cell_type": "code",
      "execution_count": 4,
      "id": "77a3be19",
      "metadata": {
        "scrolled": false,
        "id": "77a3be19",
        "outputId": "171cf45b-30ca-49a5-8e63-92ee0772cf17",
        "colab": {
          "base_uri": "https://localhost:8080/",
          "height": 424
        }
      },
      "outputs": [
        {
          "output_type": "execute_result",
          "data": {
            "text/html": [
              "\n",
              "  <div id=\"df-fff1e771-4392-4837-92d1-98ef557071db\">\n",
              "    <div class=\"colab-df-container\">\n",
              "      <div>\n",
              "<style scoped>\n",
              "    .dataframe tbody tr th:only-of-type {\n",
              "        vertical-align: middle;\n",
              "    }\n",
              "\n",
              "    .dataframe tbody tr th {\n",
              "        vertical-align: top;\n",
              "    }\n",
              "\n",
              "    .dataframe thead th {\n",
              "        text-align: right;\n",
              "    }\n",
              "</style>\n",
              "<table border=\"1\" class=\"dataframe\">\n",
              "  <thead>\n",
              "    <tr style=\"text-align: right;\">\n",
              "      <th></th>\n",
              "      <th>tweet_id</th>\n",
              "      <th>user_id</th>\n",
              "      <th>class</th>\n",
              "      <th>tweet</th>\n",
              "    </tr>\n",
              "  </thead>\n",
              "  <tbody>\n",
              "    <tr>\n",
              "      <th>0</th>\n",
              "      <td>343909778008973312</td>\n",
              "      <td>464336224</td>\n",
              "      <td>0</td>\n",
              "      <td>i don't fucking need humira</td>\n",
              "    </tr>\n",
              "    <tr>\n",
              "      <th>1</th>\n",
              "      <td>352823276889837570</td>\n",
              "      <td>590337731</td>\n",
              "      <td>0</td>\n",
              "      <td>my retake is next friday, if i bloody fail aga...</td>\n",
              "    </tr>\n",
              "    <tr>\n",
              "      <th>2</th>\n",
              "      <td>339867818843594756</td>\n",
              "      <td>246979971</td>\n",
              "      <td>0</td>\n",
              "      <td>@doctorchristian scared to start fluoxetine, w...</td>\n",
              "    </tr>\n",
              "    <tr>\n",
              "      <th>3</th>\n",
              "      <td>349294537367236611</td>\n",
              "      <td>149749939</td>\n",
              "      <td>0</td>\n",
              "      <td>@intuitivegal1 ok, if you stopped taking the l...</td>\n",
              "    </tr>\n",
              "    <tr>\n",
              "      <th>4</th>\n",
              "      <td>354256195432882177</td>\n",
              "      <td>54516759</td>\n",
              "      <td>0</td>\n",
              "      <td>novartis announces secukinumab (ain457) demons...</td>\n",
              "    </tr>\n",
              "    <tr>\n",
              "      <th>...</th>\n",
              "      <td>...</td>\n",
              "      <td>...</td>\n",
              "      <td>...</td>\n",
              "      <td>...</td>\n",
              "    </tr>\n",
              "    <tr>\n",
              "      <th>5129</th>\n",
              "      <td>350859685227798531</td>\n",
              "      <td>1460971</td>\n",
              "      <td>1</td>\n",
              "      <td>@crohns_twins that sucks. humira made me so si...</td>\n",
              "    </tr>\n",
              "    <tr>\n",
              "      <th>5130</th>\n",
              "      <td>332156923002617859</td>\n",
              "      <td>1403896746</td>\n",
              "      <td>1</td>\n",
              "      <td>i've had no appetite since i started on prozac...</td>\n",
              "    </tr>\n",
              "    <tr>\n",
              "      <th>5131</th>\n",
              "      <td>347529563628253184</td>\n",
              "      <td>15910137</td>\n",
              "      <td>1</td>\n",
              "      <td>takin anbien &amp;amp;seroquel for bad insomnia gi...</td>\n",
              "    </tr>\n",
              "    <tr>\n",
              "      <th>5132</th>\n",
              "      <td>331500382746472448</td>\n",
              "      <td>246440597</td>\n",
              "      <td>1</td>\n",
              "      <td>note to self - nicotine lozenge &amp;amp; alcohol ...</td>\n",
              "    </tr>\n",
              "    <tr>\n",
              "      <th>5133</th>\n",
              "      <td>347124997317345280</td>\n",
              "      <td>35295249</td>\n",
              "      <td>1</td>\n",
              "      <td>act now and get our deluxe cyde-fx set absolut...</td>\n",
              "    </tr>\n",
              "  </tbody>\n",
              "</table>\n",
              "<p>5134 rows × 4 columns</p>\n",
              "</div>\n",
              "      <button class=\"colab-df-convert\" onclick=\"convertToInteractive('df-fff1e771-4392-4837-92d1-98ef557071db')\"\n",
              "              title=\"Convert this dataframe to an interactive table.\"\n",
              "              style=\"display:none;\">\n",
              "        \n",
              "  <svg xmlns=\"http://www.w3.org/2000/svg\" height=\"24px\"viewBox=\"0 0 24 24\"\n",
              "       width=\"24px\">\n",
              "    <path d=\"M0 0h24v24H0V0z\" fill=\"none\"/>\n",
              "    <path d=\"M18.56 5.44l.94 2.06.94-2.06 2.06-.94-2.06-.94-.94-2.06-.94 2.06-2.06.94zm-11 1L8.5 8.5l.94-2.06 2.06-.94-2.06-.94L8.5 2.5l-.94 2.06-2.06.94zm10 10l.94 2.06.94-2.06 2.06-.94-2.06-.94-.94-2.06-.94 2.06-2.06.94z\"/><path d=\"M17.41 7.96l-1.37-1.37c-.4-.4-.92-.59-1.43-.59-.52 0-1.04.2-1.43.59L10.3 9.45l-7.72 7.72c-.78.78-.78 2.05 0 2.83L4 21.41c.39.39.9.59 1.41.59.51 0 1.02-.2 1.41-.59l7.78-7.78 2.81-2.81c.8-.78.8-2.07 0-2.86zM5.41 20L4 18.59l7.72-7.72 1.47 1.35L5.41 20z\"/>\n",
              "  </svg>\n",
              "      </button>\n",
              "      \n",
              "  <style>\n",
              "    .colab-df-container {\n",
              "      display:flex;\n",
              "      flex-wrap:wrap;\n",
              "      gap: 12px;\n",
              "    }\n",
              "\n",
              "    .colab-df-convert {\n",
              "      background-color: #E8F0FE;\n",
              "      border: none;\n",
              "      border-radius: 50%;\n",
              "      cursor: pointer;\n",
              "      display: none;\n",
              "      fill: #1967D2;\n",
              "      height: 32px;\n",
              "      padding: 0 0 0 0;\n",
              "      width: 32px;\n",
              "    }\n",
              "\n",
              "    .colab-df-convert:hover {\n",
              "      background-color: #E2EBFA;\n",
              "      box-shadow: 0px 1px 2px rgba(60, 64, 67, 0.3), 0px 1px 3px 1px rgba(60, 64, 67, 0.15);\n",
              "      fill: #174EA6;\n",
              "    }\n",
              "\n",
              "    [theme=dark] .colab-df-convert {\n",
              "      background-color: #3B4455;\n",
              "      fill: #D2E3FC;\n",
              "    }\n",
              "\n",
              "    [theme=dark] .colab-df-convert:hover {\n",
              "      background-color: #434B5C;\n",
              "      box-shadow: 0px 1px 3px 1px rgba(0, 0, 0, 0.15);\n",
              "      filter: drop-shadow(0px 1px 2px rgba(0, 0, 0, 0.3));\n",
              "      fill: #FFFFFF;\n",
              "    }\n",
              "  </style>\n",
              "\n",
              "      <script>\n",
              "        const buttonEl =\n",
              "          document.querySelector('#df-fff1e771-4392-4837-92d1-98ef557071db button.colab-df-convert');\n",
              "        buttonEl.style.display =\n",
              "          google.colab.kernel.accessAllowed ? 'block' : 'none';\n",
              "\n",
              "        async function convertToInteractive(key) {\n",
              "          const element = document.querySelector('#df-fff1e771-4392-4837-92d1-98ef557071db');\n",
              "          const dataTable =\n",
              "            await google.colab.kernel.invokeFunction('convertToInteractive',\n",
              "                                                     [key], {});\n",
              "          if (!dataTable) return;\n",
              "\n",
              "          const docLinkHtml = 'Like what you see? Visit the ' +\n",
              "            '<a target=\"_blank\" href=https://colab.research.google.com/notebooks/data_table.ipynb>data table notebook</a>'\n",
              "            + ' to learn more about interactive tables.';\n",
              "          element.innerHTML = '';\n",
              "          dataTable['output_type'] = 'display_data';\n",
              "          await google.colab.output.renderOutput(dataTable, element);\n",
              "          const docLink = document.createElement('div');\n",
              "          docLink.innerHTML = docLinkHtml;\n",
              "          element.appendChild(docLink);\n",
              "        }\n",
              "      </script>\n",
              "    </div>\n",
              "  </div>\n",
              "  "
            ],
            "text/plain": [
              "                tweet_id  ...                                              tweet\n",
              "0     343909778008973312  ...                        i don't fucking need humira\n",
              "1     352823276889837570  ...  my retake is next friday, if i bloody fail aga...\n",
              "2     339867818843594756  ...  @doctorchristian scared to start fluoxetine, w...\n",
              "3     349294537367236611  ...  @intuitivegal1 ok, if you stopped taking the l...\n",
              "4     354256195432882177  ...  novartis announces secukinumab (ain457) demons...\n",
              "...                  ...  ...                                                ...\n",
              "5129  350859685227798531  ...  @crohns_twins that sucks. humira made me so si...\n",
              "5130  332156923002617859  ...  i've had no appetite since i started on prozac...\n",
              "5131  347529563628253184  ...  takin anbien &amp;seroquel for bad insomnia gi...\n",
              "5132  331500382746472448  ...  note to self - nicotine lozenge &amp; alcohol ...\n",
              "5133  347124997317345280  ...  act now and get our deluxe cyde-fx set absolut...\n",
              "\n",
              "[5134 rows x 4 columns]"
            ]
          },
          "metadata": {},
          "execution_count": 4
        }
      ],
      "source": [
        "df = pd.read_csv(r'drive/MyDrive/Colab Notebooks/NLP-Social-Media-Mining-for-Health-Monitoring/datasets/Task 1/task2_en_training.tsv', sep = '\\t')\n",
        "df_eval = pd.read_csv(r'/content/drive/MyDrive/Colab Notebooks/NLP-Social-Media-Mining-for-Health-Monitoring/datasets/Task 1/task2_en_validation.tsv', sep = '\\t')\n",
        "df_eval"
      ]
    },
    {
      "cell_type": "markdown",
      "id": "0cfab7fb",
      "metadata": {
        "id": "0cfab7fb"
      },
      "source": [
        "### Average Number of Tweets per User"
      ]
    },
    {
      "cell_type": "code",
      "execution_count": 5,
      "id": "ab62261f",
      "metadata": {
        "id": "ab62261f",
        "outputId": "04f2f5b7-b608-4fde-c636-1adc231dfd82",
        "colab": {
          "base_uri": "https://localhost:8080/"
        }
      },
      "outputs": [
        {
          "output_type": "execute_result",
          "data": {
            "text/plain": [
              "1.2693234476367006"
            ]
          },
          "metadata": {},
          "execution_count": 5
        }
      ],
      "source": [
        "sum(list(dict(df['user_id'].value_counts()).values())) / len(list(dict(df['user_id'].value_counts()).values()))"
      ]
    },
    {
      "cell_type": "markdown",
      "id": "6cbb75dc",
      "metadata": {
        "id": "6cbb75dc"
      },
      "source": [
        "### Added this code to clean the text<br>\n",
        "need to change text in the dataset<br>"
      ]
    },
    {
      "cell_type": "code",
      "execution_count": 6,
      "id": "b21fd0b0",
      "metadata": {
        "id": "b21fd0b0"
      },
      "outputs": [],
      "source": [
        "def clean_tweet(tweet):\n",
        "    tweet = re.sub(r\"#\", \"\", tweet, 0, re.MULTILINE)\n",
        "    tweet = re.sub(r\"rt\", \"\", tweet, 0, re.MULTILINE)\n",
        "    tweet = tweet.lower()\n",
        "    regex_mentions = r\"@\\w+\"\n",
        "    tweet = re.sub(regex_mentions, \"\", tweet, 0, re.MULTILINE)\n",
        "#     regex_hash = r\"(#[^\\s]+)\"\n",
        "#     tweet = re.sub(regex_hash, \"\", tweet, 0, re.MULTILINE)\n",
        "#     hash_matched = re.finditer(\n",
        "#         regex_hash, tweet['full_text'], re.MULTILINE)\n",
        "    url_regex = r\"(http[^\\s]+)\"\n",
        "    tweet = re.sub(url_regex, \"\", tweet, 0, re.MULTILINE)\n",
        "    special_char_re = r\"[^(?u)\\w]+\"\n",
        "    tweet = re.sub(special_char_re, \" \", tweet, 0, re.MULTILINE)\n",
        "    return tweet"
      ]
    },
    {
      "cell_type": "code",
      "execution_count": 7,
      "id": "cef07e22",
      "metadata": {
        "id": "cef07e22"
      },
      "outputs": [],
      "source": [
        "def remove_emojis(text):\n",
        "    emoticons_happy = list([\n",
        "        ':-)', ':)', ';)', ':o)', ':]', ':3', ':c)', ':>', '=]', '8)', '=)', ':}',\n",
        "        ':^)', ':-D', ':D', '8-D', '8D', 'x-D', 'xD', 'X-D', 'XD', '=-D', '=D',\n",
        "        '=-3', '=3', ':-))', \":'-)\", \":')\", ':*', ':^*', '>:P', ':-P', ':P', 'X-P',\n",
        "        'x-p', 'xp', 'XP', ':-p', ':p', '=p', ':-b', ':b', '>:)', '>;)', '>:-)',\n",
        "        '<3'\n",
        "    ])\n",
        "    emoticons_sad = list([\n",
        "        ':L', ':-/', '>:/', ':S', '>:[', ':@', ':-(', ':[', ':-||', '=L', ':<',\n",
        "        ':-[', ':-<', '=\\\\', '=/', '>:(', ':(', '>.<', \":'-(\", \":'(\", ':\\\\', ':-c',\n",
        "        ':c', ':{', '>:\\\\', ';('\n",
        "    ])\n",
        "    all_emoticons = emoticons_happy + emoticons_sad\n",
        "\n",
        "    emojis = list(demoji.findall(text).keys())\n",
        "    clean_text = demoji.replace(text, '')\n",
        "\n",
        "    for emo in all_emoticons:\n",
        "        if (emo in clean_text):\n",
        "            clean_text = clean_text.replace(emo, '')\n",
        "            emojis.append(emo)\n",
        "\n",
        "    clean_text = clean_text.replace('\\n', '', -1)\n",
        "    \n",
        "    # using regex to remove urls\n",
        "    # regex_url = r\"https:(.*)[A-Za-z0-9]\"\n",
        "    # clean_text = re.sub(regex_url, '', clean_text, 0, re.MULTILINE)\n",
        "\n",
        "    return clean_text #, emojis"
      ]
    },
    {
      "cell_type": "code",
      "execution_count": 8,
      "id": "0f402807",
      "metadata": {
        "id": "0f402807"
      },
      "outputs": [],
      "source": [
        "df['tweet'] = df['tweet'].map(lambda tweet: clean_tweet(remove_emojis(tweet)))\n",
        "df_eval['tweet'] = df_eval['tweet'].map(lambda tweet: clean_tweet(remove_emojis(tweet)))"
      ]
    },
    {
      "cell_type": "markdown",
      "id": "d8aad74c",
      "metadata": {
        "id": "d8aad74c"
      },
      "source": [
        "### Highly Imbalanced Dataset<br>\n",
        "We will have to address this.<br>\n",
        "We can explore creating synthetic data, using TOMEK-Links, etc."
      ]
    },
    {
      "cell_type": "code",
      "execution_count": 9,
      "id": "85e90ee1",
      "metadata": {
        "scrolled": false,
        "id": "85e90ee1",
        "colab": {
          "base_uri": "https://localhost:8080/",
          "height": 279
        },
        "outputId": "96e04c35-7ab1-42fb-8e1f-e8c3e7f6c737"
      },
      "outputs": [
        {
          "output_type": "execute_result",
          "data": {
            "text/plain": [
              "<matplotlib.axes._subplots.AxesSubplot at 0x7f674dcd7cd0>"
            ]
          },
          "metadata": {},
          "execution_count": 9
        },
        {
          "output_type": "display_data",
          "data": {
            "image/png": "[encoded data removed]",
            "text/plain": [
              "<Figure size 432x288 with 1 Axes>"
            ]
          },
          "metadata": {
            "needs_background": "light"
          }
        }
      ],
      "source": [
        "df['class'].value_counts().plot(kind='bar')"
      ]
    },
    {
      "cell_type": "markdown",
      "id": "205c7c1f",
      "metadata": {
        "id": "205c7c1f"
      },
      "source": [
        "### Addressing Duplicate Tweets<br>\n",
        "We must remove duplicate rows to avoid redundancy and model overfitting"
      ]
    },
    {
      "cell_type": "code",
      "execution_count": 10,
      "id": "61023e0c",
      "metadata": {
        "id": "61023e0c",
        "colab": {
          "base_uri": "https://localhost:8080/"
        },
        "outputId": "8969a269-63c6-4b49-c093-70f760da3b95"
      },
      "outputs": [
        {
          "output_type": "execute_result",
          "data": {
            "text/plain": [
              "498"
            ]
          },
          "metadata": {},
          "execution_count": 10
        }
      ],
      "source": [
        "len(df.index) - df['tweet'].nunique()"
      ]
    },
    {
      "cell_type": "code",
      "execution_count": 11,
      "id": "81c7dc33",
      "metadata": {
        "id": "81c7dc33",
        "colab": {
          "base_uri": "https://localhost:8080/",
          "height": 282
        },
        "outputId": "6e44bdda-7072-4858-deef-7b9aa31808d9"
      },
      "outputs": [
        {
          "output_type": "execute_result",
          "data": {
            "text/plain": [
              "<matplotlib.axes._subplots.AxesSubplot at 0x7f674dd67a50>"
            ]
          },
          "metadata": {},
          "execution_count": 11
        },
        {
          "output_type": "display_data",
          "data": {
            "image/png": "[encoded data removed]",
            "text/plain": [
              "<Figure size 432x288 with 1 Axes>"
            ]
          },
          "metadata": {
            "needs_background": "light"
          }
        }
      ],
      "source": [
        "df['tweet'].value_counts()[:10].plot(kind='barh')"
      ]
    },
    {
      "cell_type": "markdown",
      "id": "46daf1f7",
      "metadata": {
        "id": "46daf1f7"
      },
      "source": [
        "### Tweets belonging to class 1 are 8.9 characters longer on average"
      ]
    },
    {
      "cell_type": "code",
      "execution_count": 12,
      "id": "6a001230",
      "metadata": {
        "id": "6a001230",
        "colab": {
          "base_uri": "https://localhost:8080/"
        },
        "outputId": "b547804d-d919-468f-d853-0a593e868279"
      },
      "outputs": [
        {
          "output_type": "execute_result",
          "data": {
            "text/plain": [
              "86.5715895070007"
            ]
          },
          "metadata": {},
          "execution_count": 12
        }
      ],
      "source": [
        "df[df['class'] == 0]['tweet'].apply(len).mean()"
      ]
    },
    {
      "cell_type": "code",
      "execution_count": 13,
      "id": "f96090c2",
      "metadata": {
        "scrolled": false,
        "id": "f96090c2",
        "colab": {
          "base_uri": "https://localhost:8080/"
        },
        "outputId": "306c1eaa-ba20-4104-eb99-b0fe16a185dd"
      },
      "outputs": [
        {
          "output_type": "execute_result",
          "data": {
            "text/plain": [
              "96.58959537572254"
            ]
          },
          "metadata": {},
          "execution_count": 13
        }
      ],
      "source": [
        "df[df['class'] == 1]['tweet'].apply(len).mean()"
      ]
    },
    {
      "cell_type": "code",
      "execution_count": 14,
      "id": "b9e074bc",
      "metadata": {
        "id": "b9e074bc",
        "colab": {
          "base_uri": "https://localhost:8080/"
        },
        "outputId": "ed30e001-92e2-47a9-e919-3724a5097153"
      },
      "outputs": [
        {
          "output_type": "execute_result",
          "data": {
            "text/plain": [
              "(18641, 4)"
            ]
          },
          "metadata": {},
          "execution_count": 14
        }
      ],
      "source": [
        "df_0 = df[df['class'] == 0]\n",
        "df_0.shape"
      ]
    },
    {
      "cell_type": "code",
      "execution_count": 15,
      "id": "ed402629",
      "metadata": {
        "id": "ed402629",
        "colab": {
          "base_uri": "https://localhost:8080/"
        },
        "outputId": "948d00ec-813f-475d-8c3e-74ccf3d253df"
      },
      "outputs": [
        {
          "output_type": "execute_result",
          "data": {
            "text/plain": [
              "(1903, 4)"
            ]
          },
          "metadata": {},
          "execution_count": 15
        }
      ],
      "source": [
        "df_1 = df[df['class'] == 1]\n",
        "df_1.shape"
      ]
    },
    {
      "cell_type": "code",
      "execution_count": 16,
      "id": "6f807d32",
      "metadata": {
        "id": "6f807d32",
        "colab": {
          "base_uri": "https://localhost:8080/"
        },
        "outputId": "a03e38bb-2f0c-4e59-d4be-e55344a5eb28"
      },
      "outputs": [
        {
          "output_type": "execute_result",
          "data": {
            "text/plain": [
              "(1903, 4)"
            ]
          },
          "metadata": {},
          "execution_count": 16
        }
      ],
      "source": [
        "df_0_downsampled = df_0.sample(df_1.shape[0])\n",
        "df_0_downsampled.shape"
      ]
    },
    {
      "cell_type": "code",
      "execution_count": 17,
      "id": "0224bf36",
      "metadata": {
        "id": "0224bf36",
        "colab": {
          "base_uri": "https://localhost:8080/"
        },
        "outputId": "c2bcac20-48a9-41ad-8844-33b41c688985"
      },
      "outputs": [
        {
          "output_type": "execute_result",
          "data": {
            "text/plain": [
              "(3806, 4)"
            ]
          },
          "metadata": {},
          "execution_count": 17
        }
      ],
      "source": [
        "df_balanced = pd.concat([df_1,df_0_downsampled])\n",
        "df_balanced.shape"
      ]
    },
    {
      "cell_type": "code",
      "execution_count": 18,
      "id": "829f840d",
      "metadata": {
        "id": "829f840d"
      },
      "outputs": [],
      "source": [
        "from sklearn.model_selection import train_test_split\n",
        "import tensorflow as tf\n",
        "X_train, X_test, y_train, y_test = df_balanced['tweet'], df_eval['tweet'], df_balanced['class'], df_eval['class']"
      ]
    },
    {
      "cell_type": "markdown",
      "source": [
        "BERT PREPROCESS AND ENCODER"
      ],
      "metadata": {
        "id": "T11pm2hDRO1e"
      },
      "id": "T11pm2hDRO1e"
    },
    {
      "cell_type": "code",
      "source": [
        "bert_preprocess = hub.KerasLayer(\"https://tfhub.dev/tensorflow/bert_en_uncased_preprocess/3\")\n",
        "bert_encoder = hub.KerasLayer(\"https://tfhub.dev/tensorflow/bert_en_uncased_L-12_H-768_A-12/4\")"
      ],
      "metadata": {
        "id": "gde8tfgZROhQ"
      },
      "id": "gde8tfgZROhQ",
      "execution_count": 19,
      "outputs": []
    },
    {
      "cell_type": "markdown",
      "source": [
        "RoBERTa PREPROCESS AND ENCODER"
      ],
      "metadata": {
        "id": "yaf1pA32RXWB"
      },
      "id": "yaf1pA32RXWB"
    },
    {
      "cell_type": "code",
      "execution_count": 29,
      "id": "0aa5cde0",
      "metadata": {
        "id": "0aa5cde0"
      },
      "outputs": [],
      "source": [
        "\n",
        "#BERT Layers\n",
        "text_input = tf.keras.layers.Input(shape = (), dtype=tf.string , name=\"tweet\")\n",
        "preprocessed_text = bert_preprocess(text_input)\n",
        "outputs = bert_encoder(preprocessed_text)\n",
        "\n",
        "#NN Layers\n",
        "l=tf.keras.layers.Dropout(0.01, name = \"dropout\")(outputs[\"pooled_output\"])\n",
        "l=tf.keras.layers.Dense(1,activation='sigmoid',name='output')(l)\n",
        "\n",
        "#final Model\n",
        "model = tf.keras.Model(inputs = [text_input] , outputs = [l])\n",
        "\n",
        "# from keras.utils import plot_model\n",
        "# plot_model(model, to_file='model.png')\n"
      ]
    },
    {
      "cell_type": "code",
      "execution_count": 30,
      "id": "00894921",
      "metadata": {
        "id": "00894921",
        "colab": {
          "base_uri": "https://localhost:8080/"
        },
        "outputId": "823f05a0-265e-4a8a-c48b-9ba280bc9d65"
      },
      "outputs": [
        {
          "output_type": "stream",
          "name": "stdout",
          "text": [
            "Model: \"model_5\"\n",
            "__________________________________________________________________________________________________\n",
            " Layer (type)                   Output Shape         Param #     Connected to                     \n",
            "==================================================================================================\n",
            " tweet (InputLayer)             [(None,)]            0           []                               \n",
            "                                                                                                  \n",
            " keras_layer (KerasLayer)       {'input_word_ids':   0           ['tweet[0][0]']                  \n",
            "                                (None, 128),                                                      \n",
            "                                 'input_type_ids':                                                \n",
            "                                (None, 128),                                                      \n",
            "                                 'input_mask': (Non                                               \n",
            "                                e, 128)}                                                          \n",
            "                                                                                                  \n",
            " keras_layer_1 (KerasLayer)     {'pooled_output': (  109482241   ['keras_layer[6][0]',            \n",
            "                                None, 768),                       'keras_layer[6][1]',            \n",
            "                                 'sequence_output':               'keras_layer[6][2]']            \n",
            "                                 (None, 128, 768),                                                \n",
            "                                 'encoder_outputs':                                               \n",
            "                                 [(None, 128, 768),                                               \n",
            "                                 (None, 128, 768),                                                \n",
            "                                 (None, 128, 768),                                                \n",
            "                                 (None, 128, 768),                                                \n",
            "                                 (None, 128, 768),                                                \n",
            "                                 (None, 128, 768),                                                \n",
            "                                 (None, 128, 768),                                                \n",
            "                                 (None, 128, 768),                                                \n",
            "                                 (None, 128, 768),                                                \n",
            "                                 (None, 128, 768),                                                \n",
            "                                 (None, 128, 768),                                                \n",
            "                                 (None, 128, 768)],                                               \n",
            "                                 'default': (None,                                                \n",
            "                                768)}                                                             \n",
            "                                                                                                  \n",
            " dropout (Dropout)              (None, 768)          0           ['keras_layer_1[6][13]']         \n",
            "                                                                                                  \n",
            " output (Dense)                 (None, 1)            769         ['dropout[0][0]']                \n",
            "                                                                                                  \n",
            "==================================================================================================\n",
            "Total params: 109,483,010\n",
            "Trainable params: 769\n",
            "Non-trainable params: 109,482,241\n",
            "__________________________________________________________________________________________________\n"
          ]
        }
      ],
      "source": [
        "model.summary()"
      ]
    },
    {
      "cell_type": "code",
      "execution_count": 31,
      "id": "f7cb85a7",
      "metadata": {
        "id": "f7cb85a7"
      },
      "outputs": [],
      "source": [
        "METRICS =[\n",
        "          tf.keras.metrics.BinaryAccuracy(name='accuracy'),\n",
        "          tf.keras.metrics.Precision(name='precision'),\n",
        "          tf.keras.metrics.Recall(name='recall')\n",
        "]\n",
        "\n",
        "model.compile(optimizer=\"adam\",\n",
        "              loss = \"binary_crossentropy\",\n",
        "              metrics = METRICS)"
      ]
    },
    {
      "cell_type": "code",
      "source": [
        "model.fit(X_train,y_train,epochs=10)"
      ],
      "metadata": {
        "colab": {
          "base_uri": "https://localhost:8080/"
        },
        "id": "SfDYIkwDxEF3",
        "outputId": "8a0f3463-2792-40ac-b20b-8e7293b4ac2a"
      },
      "id": "SfDYIkwDxEF3",
      "execution_count": 32,
      "outputs": [
        {
          "output_type": "stream",
          "name": "stdout",
          "text": [
            "Epoch 1/10\n",
            "119/119 [==============================] - 47s 314ms/step - loss: 0.6667 - accuracy: 0.5959 - precision: 0.5898 - recall: 0.6301\n",
            "Epoch 2/10\n",
            "119/119 [==============================] - 38s 322ms/step - loss: 0.6319 - accuracy: 0.6524 - precision: 0.6447 - recall: 0.6789\n",
            "Epoch 3/10\n",
            "119/119 [==============================] - 39s 330ms/step - loss: 0.6138 - accuracy: 0.6726 - precision: 0.6696 - recall: 0.6816\n",
            "Epoch 4/10\n",
            "119/119 [==============================] - 39s 332ms/step - loss: 0.5981 - accuracy: 0.6850 - precision: 0.6765 - recall: 0.7089\n",
            "Epoch 5/10\n",
            "119/119 [==============================] - 39s 329ms/step - loss: 0.5895 - accuracy: 0.6981 - precision: 0.6912 - recall: 0.7162\n",
            "Epoch 6/10\n",
            "119/119 [==============================] - 40s 338ms/step - loss: 0.5833 - accuracy: 0.6986 - precision: 0.6927 - recall: 0.7141\n",
            "Epoch 7/10\n",
            "119/119 [==============================] - 39s 330ms/step - loss: 0.5742 - accuracy: 0.7128 - precision: 0.7039 - recall: 0.7346\n",
            "Epoch 8/10\n",
            "119/119 [==============================] - 39s 332ms/step - loss: 0.5670 - accuracy: 0.7199 - precision: 0.7143 - recall: 0.7331\n",
            "Epoch 9/10\n",
            "119/119 [==============================] - 39s 330ms/step - loss: 0.5648 - accuracy: 0.7091 - precision: 0.7035 - recall: 0.7231\n",
            "Epoch 10/10\n",
            "119/119 [==============================] - 40s 334ms/step - loss: 0.5584 - accuracy: 0.7233 - precision: 0.7182 - recall: 0.7352\n"
          ]
        },
        {
          "output_type": "execute_result",
          "data": {
            "text/plain": [
              "<keras.callbacks.History at 0x7f6527c24b90>"
            ]
          },
          "metadata": {},
          "execution_count": 32
        }
      ]
    },
    {
      "cell_type": "code",
      "source": [
        "model.evaluate(X_test,y_test)"
      ],
      "metadata": {
        "colab": {
          "base_uri": "https://localhost:8080/"
        },
        "id": "EyWIqFCixLsn",
        "outputId": "a2e20b31-db63-432d-a766-9d3ee8d9457b"
      },
      "id": "EyWIqFCixLsn",
      "execution_count": 33,
      "outputs": [
        {
          "output_type": "stream",
          "name": "stdout",
          "text": [
            "161/161 [==============================] - 54s 330ms/step - loss: 0.6256 - accuracy: 0.6383 - precision: 0.1755 - recall: 0.7890\n"
          ]
        },
        {
          "output_type": "execute_result",
          "data": {
            "text/plain": [
              "[0.6255805492401123,\n",
              " 0.6382937431335449,\n",
              " 0.17550446093082428,\n",
              " 0.7890295386314392]"
            ]
          },
          "metadata": {},
          "execution_count": 33
        }
      ]
    },
    {
      "cell_type": "code",
      "source": [
        "y_predicted = model.predict(X_test)\n",
        "y_predicted = y_predicted.flatten()"
      ],
      "metadata": {
        "id": "V7ZFoq00y18l"
      },
      "id": "V7ZFoq00y18l",
      "execution_count": 34,
      "outputs": []
    },
    {
      "cell_type": "code",
      "source": [
        "y_predicted = np.where(y_predicted > 0.5,1,0)\n",
        "y_predicted"
      ],
      "metadata": {
        "colab": {
          "base_uri": "https://localhost:8080/"
        },
        "id": "_byqDgXGzGLs",
        "outputId": "f8ed5a52-2a61-4700-946b-87c4cae5e80c"
      },
      "id": "_byqDgXGzGLs",
      "execution_count": 35,
      "outputs": [
        {
          "output_type": "execute_result",
          "data": {
            "text/plain": [
              "array([1, 0, 0, ..., 1, 1, 0])"
            ]
          },
          "metadata": {},
          "execution_count": 35
        }
      ]
    },
    {
      "cell_type": "code",
      "source": [
        "from sklearn.metrics import confusion_matrix,classification_report\n",
        "\n",
        "cm = confusion_matrix(y_test,y_predicted)\n",
        "cm"
      ],
      "metadata": {
        "colab": {
          "base_uri": "https://localhost:8080/"
        },
        "id": "q39PeUNuzWkV",
        "outputId": "95622d8c-1e3b-4473-d7a9-c35c204286c8"
      },
      "id": "q39PeUNuzWkV",
      "execution_count": 36,
      "outputs": [
        {
          "output_type": "execute_result",
          "data": {
            "text/plain": [
              "array([[2903, 1757],\n",
              "       [ 100,  374]])"
            ]
          },
          "metadata": {},
          "execution_count": 36
        }
      ]
    },
    {
      "cell_type": "code",
      "source": [
        "from matplotlib import pyplot as plt\n",
        "import seaborn as sn\n",
        "\n",
        "sn.heatmap(cm, annot = True , fmt = 'd')\n",
        "plt.xlabel(\"Predicted\")\n",
        "plt.ylabel(\"Truth\")"
      ],
      "metadata": {
        "colab": {
          "base_uri": "https://localhost:8080/",
          "height": 296
        },
        "id": "yHv_lusYzmtP",
        "outputId": "839597e4-34a6-423b-dc21-031c891fea3a"
      },
      "id": "yHv_lusYzmtP",
      "execution_count": 37,
      "outputs": [
        {
          "output_type": "execute_result",
          "data": {
            "text/plain": [
              "Text(33.0, 0.5, 'Truth')"
            ]
          },
          "metadata": {},
          "execution_count": 37
        },
        {
          "output_type": "display_data",
          "data": {
            "image/png": "[encoded data removed]",
            "text/plain": [
              "<Figure size 432x288 with 2 Axes>"
            ]
          },
          "metadata": {
            "needs_background": "light"
          }
        }
      ]
    },
    {
      "cell_type": "code",
      "source": [
        "print(classification_report(y_test,y_predicted))"
      ],
      "metadata": {
        "colab": {
          "base_uri": "https://localhost:8080/"
        },
        "id": "WY-SRjL-0GeT",
        "outputId": "7e96228c-ada5-4973-9a8b-aa1e505ffcce"
      },
      "id": "WY-SRjL-0GeT",
      "execution_count": 38,
      "outputs": [
        {
          "output_type": "stream",
          "name": "stdout",
          "text": [
            "              precision    recall  f1-score   support\n",
            "\n",
            "           0       0.97      0.62      0.76      4660\n",
            "           1       0.18      0.79      0.29       474\n",
            "\n",
            "    accuracy                           0.64      5134\n",
            "   macro avg       0.57      0.71      0.52      5134\n",
            "weighted avg       0.89      0.64      0.71      5134\n",
            "\n"
          ]
        }
      ]
    }
  ],
  "metadata": {
    "kernelspec": {
      "display_name": "Python 3",
      "language": "python",
      "name": "python3"
    },
    "language_info": {
      "codemirror_mode": {
        "name": "ipython",
        "version": 3
      },
      "file_extension": ".py",
      "mimetype": "text/x-python",
      "name": "python",
      "nbconvert_exporter": "python",
      "pygments_lexer": "ipython3",
      "version": "3.8.8"
    },
    "colab": {
      "name": "Task_1_BERT.ipynb",
      "provenance": [],
      "collapsed_sections": [],
      "include_colab_link": true
    },
    "accelerator": "GPU"
  },
  "nbformat": 4,
  "nbformat_minor": 5
}