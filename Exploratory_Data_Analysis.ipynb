{
  "cells": [
    {
      "cell_type": "markdown",
      "metadata": {
        "id": "view-in-github",
        "colab_type": "text"
      },
      "source": [
        "<a href=\"https://colab.research.google.com/github/LarsGart/NLP-Social-Media-Mining-for-Health-Monitoring/blob/experimental/Exploratory_Data_Analysis.ipynb\" target=\"_parent\"><img src=\"https://colab.research.google.com/assets/colab-badge.svg\" alt=\"Open In Colab\"/></a>"
      ]
    },
    {
      "cell_type": "code",
      "execution_count": 5,
      "id": "864533be",
      "metadata": {
        "id": "864533be"
      },
      "outputs": [],
      "source": [
        "import pandas as pd\n",
        "import numpy as np\n",
        "import matplotlib.pyplot as plt\n",
        "import re\n",
        "import demoji\n",
        "import tensorflow as tf\n",
        "import tensorflow_hub as hub\n",
        "import tensorflow_text as text"
      ]
    },
    {
      "cell_type": "code",
      "execution_count": 40,
      "id": "77a3be19",
      "metadata": {
        "scrolled": false,
        "id": "77a3be19",
        "outputId": "935b213f-2152-4d54-8ac2-19035eeffc25",
        "colab": {
          "base_uri": "https://localhost:8080/",
          "height": 424
        }
      },
      "outputs": [
        {
          "output_type": "execute_result",
          "data": {
            "text/html": [
              "\n",
              "  <div id=\"df-a7454fa2-9275-4642-9157-6b0584b9e350\">\n",
              "    <div class=\"colab-df-container\">\n",
              "      <div>\n",
              "<style scoped>\n",
              "    .dataframe tbody tr th:only-of-type {\n",
              "        vertical-align: middle;\n",
              "    }\n",
              "\n",
              "    .dataframe tbody tr th {\n",
              "        vertical-align: top;\n",
              "    }\n",
              "\n",
              "    .dataframe thead th {\n",
              "        text-align: right;\n",
              "    }\n",
              "</style>\n",
              "<table border=\"1\" class=\"dataframe\">\n",
              "  <thead>\n",
              "    <tr style=\"text-align: right;\">\n",
              "      <th></th>\n",
              "      <th>tweet_id</th>\n",
              "      <th>user_id</th>\n",
              "      <th>class</th>\n",
              "      <th>tweet</th>\n",
              "    </tr>\n",
              "  </thead>\n",
              "  <tbody>\n",
              "    <tr>\n",
              "      <th>0</th>\n",
              "      <td>343909778008973312</td>\n",
              "      <td>464336224</td>\n",
              "      <td>0</td>\n",
              "      <td>i don't fucking need humira</td>\n",
              "    </tr>\n",
              "    <tr>\n",
              "      <th>1</th>\n",
              "      <td>352823276889837570</td>\n",
              "      <td>590337731</td>\n",
              "      <td>0</td>\n",
              "      <td>my retake is next friday, if i bloody fail aga...</td>\n",
              "    </tr>\n",
              "    <tr>\n",
              "      <th>2</th>\n",
              "      <td>339867818843594756</td>\n",
              "      <td>246979971</td>\n",
              "      <td>0</td>\n",
              "      <td>@doctorchristian scared to start fluoxetine, w...</td>\n",
              "    </tr>\n",
              "    <tr>\n",
              "      <th>3</th>\n",
              "      <td>349294537367236611</td>\n",
              "      <td>149749939</td>\n",
              "      <td>0</td>\n",
              "      <td>@intuitivegal1 ok, if you stopped taking the l...</td>\n",
              "    </tr>\n",
              "    <tr>\n",
              "      <th>4</th>\n",
              "      <td>354256195432882177</td>\n",
              "      <td>54516759</td>\n",
              "      <td>0</td>\n",
              "      <td>novartis announces secukinumab (ain457) demons...</td>\n",
              "    </tr>\n",
              "    <tr>\n",
              "      <th>...</th>\n",
              "      <td>...</td>\n",
              "      <td>...</td>\n",
              "      <td>...</td>\n",
              "      <td>...</td>\n",
              "    </tr>\n",
              "    <tr>\n",
              "      <th>5129</th>\n",
              "      <td>350859685227798531</td>\n",
              "      <td>1460971</td>\n",
              "      <td>1</td>\n",
              "      <td>@crohns_twins that sucks. humira made me so si...</td>\n",
              "    </tr>\n",
              "    <tr>\n",
              "      <th>5130</th>\n",
              "      <td>332156923002617859</td>\n",
              "      <td>1403896746</td>\n",
              "      <td>1</td>\n",
              "      <td>i've had no appetite since i started on prozac...</td>\n",
              "    </tr>\n",
              "    <tr>\n",
              "      <th>5131</th>\n",
              "      <td>347529563628253184</td>\n",
              "      <td>15910137</td>\n",
              "      <td>1</td>\n",
              "      <td>takin anbien &amp;amp;seroquel for bad insomnia gi...</td>\n",
              "    </tr>\n",
              "    <tr>\n",
              "      <th>5132</th>\n",
              "      <td>331500382746472448</td>\n",
              "      <td>246440597</td>\n",
              "      <td>1</td>\n",
              "      <td>note to self - nicotine lozenge &amp;amp; alcohol ...</td>\n",
              "    </tr>\n",
              "    <tr>\n",
              "      <th>5133</th>\n",
              "      <td>347124997317345280</td>\n",
              "      <td>35295249</td>\n",
              "      <td>1</td>\n",
              "      <td>act now and get our deluxe cyde-fx set absolut...</td>\n",
              "    </tr>\n",
              "  </tbody>\n",
              "</table>\n",
              "<p>5134 rows × 4 columns</p>\n",
              "</div>\n",
              "      <button class=\"colab-df-convert\" onclick=\"convertToInteractive('df-a7454fa2-9275-4642-9157-6b0584b9e350')\"\n",
              "              title=\"Convert this dataframe to an interactive table.\"\n",
              "              style=\"display:none;\">\n",
              "        \n",
              "  <svg xmlns=\"http://www.w3.org/2000/svg\" height=\"24px\"viewBox=\"0 0 24 24\"\n",
              "       width=\"24px\">\n",
              "    <path d=\"M0 0h24v24H0V0z\" fill=\"none\"/>\n",
              "    <path d=\"M18.56 5.44l.94 2.06.94-2.06 2.06-.94-2.06-.94-.94-2.06-.94 2.06-2.06.94zm-11 1L8.5 8.5l.94-2.06 2.06-.94-2.06-.94L8.5 2.5l-.94 2.06-2.06.94zm10 10l.94 2.06.94-2.06 2.06-.94-2.06-.94-.94-2.06-.94 2.06-2.06.94z\"/><path d=\"M17.41 7.96l-1.37-1.37c-.4-.4-.92-.59-1.43-.59-.52 0-1.04.2-1.43.59L10.3 9.45l-7.72 7.72c-.78.78-.78 2.05 0 2.83L4 21.41c.39.39.9.59 1.41.59.51 0 1.02-.2 1.41-.59l7.78-7.78 2.81-2.81c.8-.78.8-2.07 0-2.86zM5.41 20L4 18.59l7.72-7.72 1.47 1.35L5.41 20z\"/>\n",
              "  </svg>\n",
              "      </button>\n",
              "      \n",
              "  <style>\n",
              "    .colab-df-container {\n",
              "      display:flex;\n",
              "      flex-wrap:wrap;\n",
              "      gap: 12px;\n",
              "    }\n",
              "\n",
              "    .colab-df-convert {\n",
              "      background-color: #E8F0FE;\n",
              "      border: none;\n",
              "      border-radius: 50%;\n",
              "      cursor: pointer;\n",
              "      display: none;\n",
              "      fill: #1967D2;\n",
              "      height: 32px;\n",
              "      padding: 0 0 0 0;\n",
              "      width: 32px;\n",
              "    }\n",
              "\n",
              "    .colab-df-convert:hover {\n",
              "      background-color: #E2EBFA;\n",
              "      box-shadow: 0px 1px 2px rgba(60, 64, 67, 0.3), 0px 1px 3px 1px rgba(60, 64, 67, 0.15);\n",
              "      fill: #174EA6;\n",
              "    }\n",
              "\n",
              "    [theme=dark] .colab-df-convert {\n",
              "      background-color: #3B4455;\n",
              "      fill: #D2E3FC;\n",
              "    }\n",
              "\n",
              "    [theme=dark] .colab-df-convert:hover {\n",
              "      background-color: #434B5C;\n",
              "      box-shadow: 0px 1px 3px 1px rgba(0, 0, 0, 0.15);\n",
              "      filter: drop-shadow(0px 1px 2px rgba(0, 0, 0, 0.3));\n",
              "      fill: #FFFFFF;\n",
              "    }\n",
              "  </style>\n",
              "\n",
              "      <script>\n",
              "        const buttonEl =\n",
              "          document.querySelector('#df-a7454fa2-9275-4642-9157-6b0584b9e350 button.colab-df-convert');\n",
              "        buttonEl.style.display =\n",
              "          google.colab.kernel.accessAllowed ? 'block' : 'none';\n",
              "\n",
              "        async function convertToInteractive(key) {\n",
              "          const element = document.querySelector('#df-a7454fa2-9275-4642-9157-6b0584b9e350');\n",
              "          const dataTable =\n",
              "            await google.colab.kernel.invokeFunction('convertToInteractive',\n",
              "                                                     [key], {});\n",
              "          if (!dataTable) return;\n",
              "\n",
              "          const docLinkHtml = 'Like what you see? Visit the ' +\n",
              "            '<a target=\"_blank\" href=https://colab.research.google.com/notebooks/data_table.ipynb>data table notebook</a>'\n",
              "            + ' to learn more about interactive tables.';\n",
              "          element.innerHTML = '';\n",
              "          dataTable['output_type'] = 'display_data';\n",
              "          await google.colab.output.renderOutput(dataTable, element);\n",
              "          const docLink = document.createElement('div');\n",
              "          docLink.innerHTML = docLinkHtml;\n",
              "          element.appendChild(docLink);\n",
              "        }\n",
              "      </script>\n",
              "    </div>\n",
              "  </div>\n",
              "  "
            ],
            "text/plain": [
              "                tweet_id  ...                                              tweet\n",
              "0     343909778008973312  ...                        i don't fucking need humira\n",
              "1     352823276889837570  ...  my retake is next friday, if i bloody fail aga...\n",
              "2     339867818843594756  ...  @doctorchristian scared to start fluoxetine, w...\n",
              "3     349294537367236611  ...  @intuitivegal1 ok, if you stopped taking the l...\n",
              "4     354256195432882177  ...  novartis announces secukinumab (ain457) demons...\n",
              "...                  ...  ...                                                ...\n",
              "5129  350859685227798531  ...  @crohns_twins that sucks. humira made me so si...\n",
              "5130  332156923002617859  ...  i've had no appetite since i started on prozac...\n",
              "5131  347529563628253184  ...  takin anbien &amp;seroquel for bad insomnia gi...\n",
              "5132  331500382746472448  ...  note to self - nicotine lozenge &amp; alcohol ...\n",
              "5133  347124997317345280  ...  act now and get our deluxe cyde-fx set absolut...\n",
              "\n",
              "[5134 rows x 4 columns]"
            ]
          },
          "metadata": {},
          "execution_count": 40
        }
      ],
      "source": [
        "df = pd.read_csv(r'drive/MyDrive/Colab Notebooks/NLP-Social-Media-Mining-for-Health-Monitoring/datasets/Task 1/task2_en_training.tsv', sep = '\\t')\n",
        "df_eval = pd.read_csv(r'/content/drive/MyDrive/Colab Notebooks/NLP-Social-Media-Mining-for-Health-Monitoring/datasets/Task 1/task2_en_validation.tsv', sep = '\\t')\n",
        "df_eval"
      ]
    },
    {
      "cell_type": "markdown",
      "id": "0cfab7fb",
      "metadata": {
        "id": "0cfab7fb"
      },
      "source": [
        "### Average Number of Tweets per User"
      ]
    },
    {
      "cell_type": "code",
      "execution_count": 7,
      "id": "ab62261f",
      "metadata": {
        "id": "ab62261f",
        "outputId": "e47bde3a-728b-49b4-9a8a-c62effc3f3f5",
        "colab": {
          "base_uri": "https://localhost:8080/"
        }
      },
      "outputs": [
        {
          "output_type": "execute_result",
          "data": {
            "text/plain": [
              "1.2693234476367006"
            ]
          },
          "metadata": {},
          "execution_count": 7
        }
      ],
      "source": [
        "sum(list(dict(df['user_id'].value_counts()).values())) / len(list(dict(df['user_id'].value_counts()).values()))"
      ]
    },
    {
      "cell_type": "markdown",
      "id": "6cbb75dc",
      "metadata": {
        "id": "6cbb75dc"
      },
      "source": [
        "### Added this code to clean the text<br>\n",
        "need to change text in the dataset<br>"
      ]
    },
    {
      "cell_type": "code",
      "execution_count": 8,
      "id": "b21fd0b0",
      "metadata": {
        "id": "b21fd0b0"
      },
      "outputs": [],
      "source": [
        "def clean_tweet(tweet):\n",
        "    tweet = re.sub(r\"#\", \"\", tweet, 0, re.MULTILINE)\n",
        "    tweet = re.sub(r\"rt: \", \"\", tweet, 0, re.MULTILINE)\n",
        "    tweet = tweet.lower()\n",
        "    regex_mentions = r\"@\\w+\"\n",
        "    tweet = re.sub(regex_mentions, \"\", tweet, 0, re.MULTILINE)\n",
        "#     regex_hash = r\"(#[^\\s]+)\"\n",
        "#     tweet = re.sub(regex_hash, \"\", tweet, 0, re.MULTILINE)\n",
        "#     hash_matched = re.finditer(\n",
        "#         regex_hash, tweet['full_text'], re.MULTILINE)\n",
        "    url_regex = r\"(http[^\\s]+)\"\n",
        "    tweet = re.sub(url_regex, \"\", tweet, 0, re.MULTILINE)\n",
        "#     special_char_re = r\"[^(?u)\\w]+\"\n",
        "#     tweet = re.sub(special_char_re, \" \", tweet, 0, re.MULTILINE)\n",
        "    return tweet"
      ]
    },
    {
      "cell_type": "code",
      "execution_count": 9,
      "id": "cef07e22",
      "metadata": {
        "id": "cef07e22"
      },
      "outputs": [],
      "source": [
        "def remove_emojis(text):\n",
        "    emoticons_happy = list([\n",
        "        ':-)', ':)', ';)', ':o)', ':]', ':3', ':c)', ':>', '=]', '8)', '=)', ':}',\n",
        "        ':^)', ':-D', ':D', '8-D', '8D', 'x-D', 'xD', 'X-D', 'XD', '=-D', '=D',\n",
        "        '=-3', '=3', ':-))', \":'-)\", \":')\", ':*', ':^*', '>:P', ':-P', ':P', 'X-P',\n",
        "        'x-p', 'xp', 'XP', ':-p', ':p', '=p', ':-b', ':b', '>:)', '>;)', '>:-)',\n",
        "        '<3'\n",
        "    ])\n",
        "    emoticons_sad = list([\n",
        "        ':L', ':-/', '>:/', ':S', '>:[', ':@', ':-(', ':[', ':-||', '=L', ':<',\n",
        "        ':-[', ':-<', '=\\\\', '=/', '>:(', ':(', '>.<', \":'-(\", \":'(\", ':\\\\', ':-c',\n",
        "        ':c', ':{', '>:\\\\', ';('\n",
        "    ])\n",
        "    all_emoticons = emoticons_happy + emoticons_sad\n",
        "\n",
        "    emojis = list(demoji.findall(text).keys())\n",
        "    clean_text = demoji.replace(text, '')\n",
        "\n",
        "    for emo in all_emoticons:\n",
        "        if (emo in clean_text):\n",
        "            clean_text = clean_text.replace(emo, '')\n",
        "            emojis.append(emo)\n",
        "\n",
        "    clean_text = clean_text.replace('\\n', '', -1)\n",
        "    \n",
        "    # using regex to remove urls\n",
        "    # regex_url = r\"https:(.*)[A-Za-z0-9]\"\n",
        "    # clean_text = re.sub(regex_url, '', clean_text, 0, re.MULTILINE)\n",
        "\n",
        "    return clean_text #, emojis"
      ]
    },
    {
      "cell_type": "code",
      "execution_count": 42,
      "id": "0f402807",
      "metadata": {
        "id": "0f402807"
      },
      "outputs": [],
      "source": [
        "df['tweet'] = df['tweet'].map(lambda tweet: clean_tweet(remove_emojis(tweet)))\n",
        "df_eval['tweet'] = df_eval['tweet'].map(lambda tweet: clean_tweet(remove_emojis(tweet)))"
      ]
    },
    {
      "cell_type": "markdown",
      "id": "d8aad74c",
      "metadata": {
        "id": "d8aad74c"
      },
      "source": [
        "### Highly Imbalanced Dataset<br>\n",
        "We will have to address this.<br>\n",
        "We can explore creating synthetic data, using TOMEK-Links, etc."
      ]
    },
    {
      "cell_type": "code",
      "execution_count": 43,
      "id": "85e90ee1",
      "metadata": {
        "scrolled": false,
        "id": "85e90ee1",
        "colab": {
          "base_uri": "https://localhost:8080/",
          "height": 279
        },
        "outputId": "39ac97b9-96f3-4094-affa-b24e8d61cc49"
      },
      "outputs": [
        {
          "output_type": "execute_result",
          "data": {
            "text/plain": [
              "<matplotlib.axes._subplots.AxesSubplot at 0x7fdde1cf8510>"
            ]
          },
          "metadata": {},
          "execution_count": 43
        },
        {
          "output_type": "display_data",
          "data": {
            "image/png": "[encoded data removed]",
            "text/plain": [
              "<Figure size 432x288 with 1 Axes>"
            ]
          },
          "metadata": {
            "needs_background": "light"
          }
        }
      ],
      "source": [
        "df['class'].value_counts().plot(kind='bar')"
      ]
    },
    {
      "cell_type": "markdown",
      "id": "205c7c1f",
      "metadata": {
        "id": "205c7c1f"
      },
      "source": [
        "### Addressing Duplicate Tweets<br>\n",
        "We must remove duplicate rows to avoid redundancy and model overfitting"
      ]
    },
    {
      "cell_type": "code",
      "execution_count": 44,
      "id": "61023e0c",
      "metadata": {
        "id": "61023e0c",
        "colab": {
          "base_uri": "https://localhost:8080/"
        },
        "outputId": "0eae291e-5fad-4866-de1d-ad953f80f3cc"
      },
      "outputs": [
        {
          "output_type": "execute_result",
          "data": {
            "text/plain": [
              "432"
            ]
          },
          "metadata": {},
          "execution_count": 44
        }
      ],
      "source": [
        "len(df.index) - df['tweet'].nunique()"
      ]
    },
    {
      "cell_type": "code",
      "execution_count": 45,
      "id": "81c7dc33",
      "metadata": {
        "id": "81c7dc33",
        "colab": {
          "base_uri": "https://localhost:8080/",
          "height": 282
        },
        "outputId": "12346d4d-05c4-4d28-f7dc-4a13158ade7f"
      },
      "outputs": [
        {
          "output_type": "execute_result",
          "data": {
            "text/plain": [
              "<matplotlib.axes._subplots.AxesSubplot at 0x7fdde2de9410>"
            ]
          },
          "metadata": {},
          "execution_count": 45
        },
        {
          "output_type": "display_data",
          "data": {
            "image/png": "[encoded data removed]",
            "text/plain": [
              "<Figure size 432x288 with 1 Axes>"
            ]
          },
          "metadata": {
            "needs_background": "light"
          }
        }
      ],
      "source": [
        "df['tweet'].value_counts()[:10].plot(kind='barh')"
      ]
    },
    {
      "cell_type": "markdown",
      "id": "46daf1f7",
      "metadata": {
        "id": "46daf1f7"
      },
      "source": [
        "### Tweets belonging to class 1 are 8.9 characters longer on average"
      ]
    },
    {
      "cell_type": "code",
      "execution_count": 46,
      "id": "6a001230",
      "metadata": {
        "id": "6a001230",
        "colab": {
          "base_uri": "https://localhost:8080/"
        },
        "outputId": "7633cf73-5fd7-4f98-9dd9-98c6d0b5f91e"
      },
      "outputs": [
        {
          "output_type": "execute_result",
          "data": {
            "text/plain": [
              "89.39670618529048"
            ]
          },
          "metadata": {},
          "execution_count": 46
        }
      ],
      "source": [
        "df[df['class'] == 0]['tweet'].apply(len).mean()"
      ]
    },
    {
      "cell_type": "code",
      "execution_count": 47,
      "id": "f96090c2",
      "metadata": {
        "scrolled": false,
        "id": "f96090c2",
        "colab": {
          "base_uri": "https://localhost:8080/"
        },
        "outputId": "26eaa93a-fab0-4753-d225-8810ad528f5b"
      },
      "outputs": [
        {
          "output_type": "execute_result",
          "data": {
            "text/plain": [
              "99.32107199159222"
            ]
          },
          "metadata": {},
          "execution_count": 47
        }
      ],
      "source": [
        "df[df['class'] == 1]['tweet'].apply(len).mean()"
      ]
    },
    {
      "cell_type": "code",
      "execution_count": 48,
      "id": "b9e074bc",
      "metadata": {
        "id": "b9e074bc",
        "colab": {
          "base_uri": "https://localhost:8080/"
        },
        "outputId": "b2c4451e-5665-488c-9c1b-215c149b1c78"
      },
      "outputs": [
        {
          "output_type": "execute_result",
          "data": {
            "text/plain": [
              "(18641, 4)"
            ]
          },
          "metadata": {},
          "execution_count": 48
        }
      ],
      "source": [
        "df_0 = df[df['class'] == 0]\n",
        "df_0.shape"
      ]
    },
    {
      "cell_type": "code",
      "execution_count": 49,
      "id": "ed402629",
      "metadata": {
        "id": "ed402629",
        "colab": {
          "base_uri": "https://localhost:8080/"
        },
        "outputId": "7d025f56-30b4-463e-ea73-129b2ab737fa"
      },
      "outputs": [
        {
          "output_type": "execute_result",
          "data": {
            "text/plain": [
              "(1903, 4)"
            ]
          },
          "metadata": {},
          "execution_count": 49
        }
      ],
      "source": [
        "df_1 = df[df['class'] == 1]\n",
        "df_1.shape"
      ]
    },
    {
      "cell_type": "code",
      "execution_count": 50,
      "id": "6f807d32",
      "metadata": {
        "id": "6f807d32",
        "colab": {
          "base_uri": "https://localhost:8080/"
        },
        "outputId": "8766212a-1881-4e28-d293-8d7fa7a5979a"
      },
      "outputs": [
        {
          "output_type": "execute_result",
          "data": {
            "text/plain": [
              "(1903, 4)"
            ]
          },
          "metadata": {},
          "execution_count": 50
        }
      ],
      "source": [
        "df_0_downsampled = df_0.sample(df_1.shape[0])\n",
        "df_0_downsampled.shape"
      ]
    },
    {
      "cell_type": "code",
      "execution_count": 51,
      "id": "0224bf36",
      "metadata": {
        "id": "0224bf36",
        "colab": {
          "base_uri": "https://localhost:8080/"
        },
        "outputId": "71945ac0-aa48-4f67-ce0b-a53d1670f02d"
      },
      "outputs": [
        {
          "output_type": "execute_result",
          "data": {
            "text/plain": [
              "(3806, 4)"
            ]
          },
          "metadata": {},
          "execution_count": 51
        }
      ],
      "source": [
        "df_balanced = pd.concat([df_1,df_0_downsampled])\n",
        "df_balanced.shape"
      ]
    },
    {
      "cell_type": "code",
      "execution_count": 52,
      "id": "829f840d",
      "metadata": {
        "id": "829f840d"
      },
      "outputs": [],
      "source": [
        "from sklearn.model_selection import train_test_split\n",
        "import tensorflow as tf\n",
        "X_train, X_test, y_train, y_test = df_balanced['tweet'], df_eval['tweet'], df_balanced['class'], df_eval['class']"
      ]
    },
    {
      "cell_type": "code",
      "execution_count": 52,
      "id": "2df774d0",
      "metadata": {
        "id": "2df774d0"
      },
      "outputs": [],
      "source": [
        ""
      ]
    },
    {
      "cell_type": "code",
      "execution_count": 53,
      "id": "f50e52a8",
      "metadata": {
        "id": "f50e52a8"
      },
      "outputs": [],
      "source": [
        "bert_preprocess = hub.KerasLayer(\"https://tfhub.dev/tensorflow/bert_en_uncased_preprocess/3\")\n",
        "bert_encoder = hub.KerasLayer(\"https://tfhub.dev/tensorflow/bert_en_uncased_L-12_H-768_A-12/4\")"
      ]
    },
    {
      "cell_type": "code",
      "execution_count": 54,
      "id": "0aa5cde0",
      "metadata": {
        "id": "0aa5cde0"
      },
      "outputs": [],
      "source": [
        "#BERT Layers\n",
        "text_input = tf.keras.layers.Input(shape = (), dtype=tf.string , name=\"tweet\")\n",
        "preprocessed_text = bert_preprocess(text_input)\n",
        "outputs = bert_encoder(preprocessed_text)\n",
        "\n",
        "#NN Layers\n",
        "l=tf.keras.layers.Dropout(0.1, name = \"dropout\")(outputs[\"pooled_output\"])\n",
        "l=tf.keras.layers.Dense(1,activation='sigmoid',name='output')(l)\n",
        "\n",
        "#final Model\n",
        "model = tf.keras.Model(inputs = [text_input] , outputs = [l])\n"
      ]
    },
    {
      "cell_type": "code",
      "execution_count": 55,
      "id": "00894921",
      "metadata": {
        "id": "00894921",
        "colab": {
          "base_uri": "https://localhost:8080/"
        },
        "outputId": "b0d170fa-6dad-4814-cf8c-c4af6aa4c740"
      },
      "outputs": [
        {
          "output_type": "stream",
          "name": "stdout",
          "text": [
            "Model: \"model_1\"\n",
            "__________________________________________________________________________________________________\n",
            " Layer (type)                   Output Shape         Param #     Connected to                     \n",
            "==================================================================================================\n",
            " tweet (InputLayer)             [(None,)]            0           []                               \n",
            "                                                                                                  \n",
            " keras_layer_2 (KerasLayer)     {'input_mask': (Non  0           ['tweet[0][0]']                  \n",
            "                                e, 128),                                                          \n",
            "                                 'input_word_ids':                                                \n",
            "                                (None, 128),                                                      \n",
            "                                 'input_type_ids':                                                \n",
            "                                (None, 128)}                                                      \n",
            "                                                                                                  \n",
            " keras_layer_3 (KerasLayer)     {'pooled_output': (  109482241   ['keras_layer_2[0][0]',          \n",
            "                                None, 768),                       'keras_layer_2[0][1]',          \n",
            "                                 'default': (None,                'keras_layer_2[0][2]']          \n",
            "                                768),                                                             \n",
            "                                 'sequence_output':                                               \n",
            "                                 (None, 128, 768),                                                \n",
            "                                 'encoder_outputs':                                               \n",
            "                                 [(None, 128, 768),                                               \n",
            "                                 (None, 128, 768),                                                \n",
            "                                 (None, 128, 768),                                                \n",
            "                                 (None, 128, 768),                                                \n",
            "                                 (None, 128, 768),                                                \n",
            "                                 (None, 128, 768),                                                \n",
            "                                 (None, 128, 768),                                                \n",
            "                                 (None, 128, 768),                                                \n",
            "                                 (None, 128, 768),                                                \n",
            "                                 (None, 128, 768),                                                \n",
            "                                 (None, 128, 768),                                                \n",
            "                                 (None, 128, 768)]}                                               \n",
            "                                                                                                  \n",
            " dropout (Dropout)              (None, 768)          0           ['keras_layer_3[0][13]']         \n",
            "                                                                                                  \n",
            " output (Dense)                 (None, 1)            769         ['dropout[0][0]']                \n",
            "                                                                                                  \n",
            "==================================================================================================\n",
            "Total params: 109,483,010\n",
            "Trainable params: 769\n",
            "Non-trainable params: 109,482,241\n",
            "__________________________________________________________________________________________________\n"
          ]
        }
      ],
      "source": [
        "model.summary()"
      ]
    },
    {
      "cell_type": "code",
      "execution_count": 56,
      "id": "f7cb85a7",
      "metadata": {
        "id": "f7cb85a7"
      },
      "outputs": [],
      "source": [
        "METRICS =[\n",
        "          tf.keras.metrics.BinaryAccuracy(name='accuracy'),\n",
        "          tf.keras.metrics.Precision(name='precision'),\n",
        "          tf.keras.metrics.Recall(name='recall')\n",
        "]\n",
        "\n",
        "model.compile(optimizer=\"adam\",\n",
        "              loss = \"binary_crossentropy\",\n",
        "              metrics = METRICS)"
      ]
    },
    {
      "cell_type": "code",
      "source": [
        "model.fit(X_train,y_train,epochs=10)"
      ],
      "metadata": {
        "colab": {
          "base_uri": "https://localhost:8080/"
        },
        "id": "SfDYIkwDxEF3",
        "outputId": "207ee946-d2db-4b62-8f94-d9c6ddde64ad"
      },
      "id": "SfDYIkwDxEF3",
      "execution_count": 57,
      "outputs": [
        {
          "output_type": "stream",
          "name": "stdout",
          "text": [
            "Epoch 1/10\n",
            "119/119 [==============================] - 47s 319ms/step - loss: 0.6902 - accuracy: 0.5607 - precision: 0.5590 - recall: 0.5754\n",
            "Epoch 2/10\n",
            "119/119 [==============================] - 39s 325ms/step - loss: 0.6507 - accuracy: 0.6209 - precision: 0.6198 - recall: 0.6253\n",
            "Epoch 3/10\n",
            "119/119 [==============================] - 39s 330ms/step - loss: 0.6292 - accuracy: 0.6437 - precision: 0.6396 - recall: 0.6584\n",
            "Epoch 4/10\n",
            "119/119 [==============================] - 40s 332ms/step - loss: 0.6164 - accuracy: 0.6603 - precision: 0.6527 - recall: 0.6852\n",
            "Epoch 5/10\n",
            "119/119 [==============================] - 40s 335ms/step - loss: 0.6080 - accuracy: 0.6750 - precision: 0.6662 - recall: 0.7015\n",
            "Epoch 6/10\n",
            "119/119 [==============================] - 40s 337ms/step - loss: 0.6012 - accuracy: 0.6734 - precision: 0.6675 - recall: 0.6910\n",
            "Epoch 7/10\n",
            "119/119 [==============================] - 40s 340ms/step - loss: 0.5974 - accuracy: 0.6831 - precision: 0.6757 - recall: 0.7042\n",
            "Epoch 8/10\n",
            "119/119 [==============================] - 41s 341ms/step - loss: 0.5847 - accuracy: 0.6986 - precision: 0.6899 - recall: 0.7215\n",
            "Epoch 9/10\n",
            "119/119 [==============================] - 41s 341ms/step - loss: 0.5799 - accuracy: 0.6910 - precision: 0.6846 - recall: 0.7084\n",
            "Epoch 10/10\n",
            "119/119 [==============================] - 41s 343ms/step - loss: 0.5806 - accuracy: 0.7039 - precision: 0.7004 - recall: 0.7126\n"
          ]
        },
        {
          "output_type": "execute_result",
          "data": {
            "text/plain": [
              "<keras.callbacks.History at 0x7fde3293b0d0>"
            ]
          },
          "metadata": {},
          "execution_count": 57
        }
      ]
    },
    {
      "cell_type": "code",
      "source": [
        "model.evaluate(X_test,y_test)"
      ],
      "metadata": {
        "colab": {
          "base_uri": "https://localhost:8080/"
        },
        "id": "EyWIqFCixLsn",
        "outputId": "96b6af99-71d4-447f-d98c-30afd0e16a00"
      },
      "id": "EyWIqFCixLsn",
      "execution_count": 58,
      "outputs": [
        {
          "output_type": "stream",
          "name": "stdout",
          "text": [
            "161/161 [==============================] - 54s 328ms/step - loss: 0.6069 - accuracy: 0.6607 - precision: 0.1769 - recall: 0.7321\n"
          ]
        },
        {
          "output_type": "execute_result",
          "data": {
            "text/plain": [
              "[0.6068854331970215,\n",
              " 0.6606934070587158,\n",
              " 0.17686034739017487,\n",
              " 0.7320675253868103]"
            ]
          },
          "metadata": {},
          "execution_count": 58
        }
      ]
    },
    {
      "cell_type": "code",
      "source": [
        "y_predicted = model.predict(X_test)\n",
        "y_predicted = y_predicted.flatten()"
      ],
      "metadata": {
        "id": "V7ZFoq00y18l"
      },
      "id": "V7ZFoq00y18l",
      "execution_count": 59,
      "outputs": []
    },
    {
      "cell_type": "code",
      "source": [
        "y_predicted = np.where(y_predicted > 0.5,1,0)\n",
        "y_predicted"
      ],
      "metadata": {
        "colab": {
          "base_uri": "https://localhost:8080/"
        },
        "id": "_byqDgXGzGLs",
        "outputId": "c22c9610-c845-4f2b-b710-630d5908df75"
      },
      "id": "_byqDgXGzGLs",
      "execution_count": 60,
      "outputs": [
        {
          "output_type": "execute_result",
          "data": {
            "text/plain": [
              "array([1, 0, 0, ..., 1, 0, 0])"
            ]
          },
          "metadata": {},
          "execution_count": 60
        }
      ]
    },
    {
      "cell_type": "code",
      "source": [
        "from sklearn.metrics import confusion_matrix,classification_report\n",
        "\n",
        "cm = confusion_matrix(y_test,y_predicted)\n",
        "cm"
      ],
      "metadata": {
        "colab": {
          "base_uri": "https://localhost:8080/"
        },
        "id": "q39PeUNuzWkV",
        "outputId": "62f0d9ba-e2fe-4d1b-ced4-006a96e4b5dd"
      },
      "id": "q39PeUNuzWkV",
      "execution_count": 61,
      "outputs": [
        {
          "output_type": "execute_result",
          "data": {
            "text/plain": [
              "array([[3045, 1615],\n",
              "       [ 127,  347]])"
            ]
          },
          "metadata": {},
          "execution_count": 61
        }
      ]
    },
    {
      "cell_type": "code",
      "source": [
        "from matplotlib import pyplot as plt\n",
        "import seaborn as sn\n",
        "\n",
        "sn.heatmap(cm, annot = True , fmt = 'd')\n",
        "plt.xlabel(\"Predicted\")\n",
        "plt.ylabel(\"Truth\")"
      ],
      "metadata": {
        "colab": {
          "base_uri": "https://localhost:8080/",
          "height": 297
        },
        "id": "yHv_lusYzmtP",
        "outputId": "8f94c476-593c-445d-e402-18fc2f62d971"
      },
      "id": "yHv_lusYzmtP",
      "execution_count": 62,
      "outputs": [
        {
          "output_type": "execute_result",
          "data": {
            "text/plain": [
              "Text(33.0, 0.5, 'Truth')"
            ]
          },
          "metadata": {},
          "execution_count": 62
        },
        {
          "output_type": "display_data",
          "data": {
            "image/png": "[encoded data removed]",
            "text/plain": [
              "<Figure size 432x288 with 2 Axes>"
            ]
          },
          "metadata": {
            "needs_background": "light"
          }
        }
      ]
    },
    {
      "cell_type": "code",
      "source": [
        "print(classification_report(y_test,y_predicted))"
      ],
      "metadata": {
        "colab": {
          "base_uri": "https://localhost:8080/"
        },
        "id": "WY-SRjL-0GeT",
        "outputId": "220517f9-c174-48a7-f11f-13d31794489e"
      },
      "id": "WY-SRjL-0GeT",
      "execution_count": 63,
      "outputs": [
        {
          "output_type": "stream",
          "name": "stdout",
          "text": [
            "              precision    recall  f1-score   support\n",
            "\n",
            "           0       0.96      0.65      0.78      4660\n",
            "           1       0.18      0.73      0.28       474\n",
            "\n",
            "    accuracy                           0.66      5134\n",
            "   macro avg       0.57      0.69      0.53      5134\n",
            "weighted avg       0.89      0.66      0.73      5134\n",
            "\n"
          ]
        }
      ]
    },
    {
      "cell_type": "code",
      "source": [
        ""
      ],
      "metadata": {
        "id": "FFvXIffn1Lyn"
      },
      "id": "FFvXIffn1Lyn",
      "execution_count": 63,
      "outputs": []
    }
  ],
  "metadata": {
    "kernelspec": {
      "display_name": "Python 3",
      "language": "python",
      "name": "python3"
    },
    "language_info": {
      "codemirror_mode": {
        "name": "ipython",
        "version": 3
      },
      "file_extension": ".py",
      "mimetype": "text/x-python",
      "name": "python",
      "nbconvert_exporter": "python",
      "pygments_lexer": "ipython3",
      "version": "3.8.8"
    },
    "colab": {
      "name": "Exploratory Data Analysis.ipynb",
      "provenance": [],
      "include_colab_link": true
    },
    "accelerator": "GPU"
  },
  "nbformat": 4,
  "nbformat_minor": 5
}