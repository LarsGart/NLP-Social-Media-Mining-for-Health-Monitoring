{
  "cells": [
    {
      "cell_type": "markdown",
      "metadata": {
        "id": "view-in-github",
        "colab_type": "text"
      },
      "source": [
        "<a href=\"https://colab.research.google.com/github/LarsGart/NLP-Social-Media-Mining-for-Health-Monitoring/blob/experimental/Exploratory_Data_Analysis.ipynb\" target=\"_parent\"><img src=\"https://colab.research.google.com/assets/colab-badge.svg\" alt=\"Open In Colab\"/></a>"
      ]
    },
    {
      "cell_type": "code",
      "execution_count": 5,
      "id": "864533be",
      "metadata": {
        "id": "864533be"
      },
      "outputs": [],
      "source": [
        "import pandas as pd\n",
        "import numpy as np\n",
        "import matplotlib.pyplot as plt\n",
        "import re\n",
        "import demoji\n",
        "import tensorflow as tf\n",
        "import tensorflow_hub as hub\n",
        "import tensorflow_text as text"
      ]
    },
    {
      "cell_type": "code",
      "execution_count": 6,
      "id": "77a3be19",
      "metadata": {
        "scrolled": false,
        "id": "77a3be19",
        "outputId": "2f0a08e0-b2c8-4c05-b8ad-6dbe737a3783",
        "colab": {
          "base_uri": "https://localhost:8080/",
          "height": 424
        }
      },
      "outputs": [
        {
          "output_type": "execute_result",
          "data": {
            "text/html": [
              "\n",
              "  <div id=\"df-16f15cc9-03a3-4c8a-a1b9-a02cd040b88e\">\n",
              "    <div class=\"colab-df-container\">\n",
              "      <div>\n",
              "<style scoped>\n",
              "    .dataframe tbody tr th:only-of-type {\n",
              "        vertical-align: middle;\n",
              "    }\n",
              "\n",
              "    .dataframe tbody tr th {\n",
              "        vertical-align: top;\n",
              "    }\n",
              "\n",
              "    .dataframe thead th {\n",
              "        text-align: right;\n",
              "    }\n",
              "</style>\n",
              "<table border=\"1\" class=\"dataframe\">\n",
              "  <thead>\n",
              "    <tr style=\"text-align: right;\">\n",
              "      <th></th>\n",
              "      <th>tweet_id</th>\n",
              "      <th>user_id</th>\n",
              "      <th>class</th>\n",
              "      <th>tweet</th>\n",
              "    </tr>\n",
              "  </thead>\n",
              "  <tbody>\n",
              "    <tr>\n",
              "      <th>0</th>\n",
              "      <td>344266386467606528</td>\n",
              "      <td>809439366</td>\n",
              "      <td>0</td>\n",
              "      <td>depression hurts, cymbalta can help</td>\n",
              "    </tr>\n",
              "    <tr>\n",
              "      <th>1</th>\n",
              "      <td>349220537903489025</td>\n",
              "      <td>323112996</td>\n",
              "      <td>0</td>\n",
              "      <td>@jessicama20045 right, but cipro can make thin...</td>\n",
              "    </tr>\n",
              "    <tr>\n",
              "      <th>2</th>\n",
              "      <td>351421773079781378</td>\n",
              "      <td>713100330</td>\n",
              "      <td>0</td>\n",
              "      <td>@fibby1123 are you on paxil .. i need help</td>\n",
              "    </tr>\n",
              "    <tr>\n",
              "      <th>3</th>\n",
              "      <td>326594278472171520</td>\n",
              "      <td>543113070</td>\n",
              "      <td>0</td>\n",
              "      <td>@redicine the lamotrigine and sjs just made ch...</td>\n",
              "    </tr>\n",
              "    <tr>\n",
              "      <th>4</th>\n",
              "      <td>345567138376994816</td>\n",
              "      <td>138795534</td>\n",
              "      <td>0</td>\n",
              "      <td>have decided to skip my #humira shot today. my...</td>\n",
              "    </tr>\n",
              "    <tr>\n",
              "      <th>...</th>\n",
              "      <td>...</td>\n",
              "      <td>...</td>\n",
              "      <td>...</td>\n",
              "      <td>...</td>\n",
              "    </tr>\n",
              "    <tr>\n",
              "      <th>20539</th>\n",
              "      <td>469009954251481088</td>\n",
              "      <td>23177032</td>\n",
              "      <td>1</td>\n",
              "      <td>@hornetweb my mri scan shows when it happens b...</td>\n",
              "    </tr>\n",
              "    <tr>\n",
              "      <th>20540</th>\n",
              "      <td>468518427125358592</td>\n",
              "      <td>1961096371</td>\n",
              "      <td>1</td>\n",
              "      <td>remember 2003. vioxx costs $65m to ontario dru...</td>\n",
              "    </tr>\n",
              "    <tr>\n",
              "      <th>20541</th>\n",
              "      <td>512254891361075200</td>\n",
              "      <td>321391071</td>\n",
              "      <td>1</td>\n",
              "      <td>asians are at higher risk for severe allergic ...</td>\n",
              "    </tr>\n",
              "    <tr>\n",
              "      <th>20542</th>\n",
              "      <td>491775200610893825</td>\n",
              "      <td>2484689840</td>\n",
              "      <td>1</td>\n",
              "      <td>5. so what caused the #estrogen surges in #nuv...</td>\n",
              "    </tr>\n",
              "    <tr>\n",
              "      <th>20543</th>\n",
              "      <td>535492308817682432</td>\n",
              "      <td>330650218</td>\n",
              "      <td>1</td>\n",
              "      <td>@twittalesskels 😂😂😂😂 i'm high off this tamiflu...</td>\n",
              "    </tr>\n",
              "  </tbody>\n",
              "</table>\n",
              "<p>20544 rows × 4 columns</p>\n",
              "</div>\n",
              "      <button class=\"colab-df-convert\" onclick=\"convertToInteractive('df-16f15cc9-03a3-4c8a-a1b9-a02cd040b88e')\"\n",
              "              title=\"Convert this dataframe to an interactive table.\"\n",
              "              style=\"display:none;\">\n",
              "        \n",
              "  <svg xmlns=\"http://www.w3.org/2000/svg\" height=\"24px\"viewBox=\"0 0 24 24\"\n",
              "       width=\"24px\">\n",
              "    <path d=\"M0 0h24v24H0V0z\" fill=\"none\"/>\n",
              "    <path d=\"M18.56 5.44l.94 2.06.94-2.06 2.06-.94-2.06-.94-.94-2.06-.94 2.06-2.06.94zm-11 1L8.5 8.5l.94-2.06 2.06-.94-2.06-.94L8.5 2.5l-.94 2.06-2.06.94zm10 10l.94 2.06.94-2.06 2.06-.94-2.06-.94-.94-2.06-.94 2.06-2.06.94z\"/><path d=\"M17.41 7.96l-1.37-1.37c-.4-.4-.92-.59-1.43-.59-.52 0-1.04.2-1.43.59L10.3 9.45l-7.72 7.72c-.78.78-.78 2.05 0 2.83L4 21.41c.39.39.9.59 1.41.59.51 0 1.02-.2 1.41-.59l7.78-7.78 2.81-2.81c.8-.78.8-2.07 0-2.86zM5.41 20L4 18.59l7.72-7.72 1.47 1.35L5.41 20z\"/>\n",
              "  </svg>\n",
              "      </button>\n",
              "      \n",
              "  <style>\n",
              "    .colab-df-container {\n",
              "      display:flex;\n",
              "      flex-wrap:wrap;\n",
              "      gap: 12px;\n",
              "    }\n",
              "\n",
              "    .colab-df-convert {\n",
              "      background-color: #E8F0FE;\n",
              "      border: none;\n",
              "      border-radius: 50%;\n",
              "      cursor: pointer;\n",
              "      display: none;\n",
              "      fill: #1967D2;\n",
              "      height: 32px;\n",
              "      padding: 0 0 0 0;\n",
              "      width: 32px;\n",
              "    }\n",
              "\n",
              "    .colab-df-convert:hover {\n",
              "      background-color: #E2EBFA;\n",
              "      box-shadow: 0px 1px 2px rgba(60, 64, 67, 0.3), 0px 1px 3px 1px rgba(60, 64, 67, 0.15);\n",
              "      fill: #174EA6;\n",
              "    }\n",
              "\n",
              "    [theme=dark] .colab-df-convert {\n",
              "      background-color: #3B4455;\n",
              "      fill: #D2E3FC;\n",
              "    }\n",
              "\n",
              "    [theme=dark] .colab-df-convert:hover {\n",
              "      background-color: #434B5C;\n",
              "      box-shadow: 0px 1px 3px 1px rgba(0, 0, 0, 0.15);\n",
              "      filter: drop-shadow(0px 1px 2px rgba(0, 0, 0, 0.3));\n",
              "      fill: #FFFFFF;\n",
              "    }\n",
              "  </style>\n",
              "\n",
              "      <script>\n",
              "        const buttonEl =\n",
              "          document.querySelector('#df-16f15cc9-03a3-4c8a-a1b9-a02cd040b88e button.colab-df-convert');\n",
              "        buttonEl.style.display =\n",
              "          google.colab.kernel.accessAllowed ? 'block' : 'none';\n",
              "\n",
              "        async function convertToInteractive(key) {\n",
              "          const element = document.querySelector('#df-16f15cc9-03a3-4c8a-a1b9-a02cd040b88e');\n",
              "          const dataTable =\n",
              "            await google.colab.kernel.invokeFunction('convertToInteractive',\n",
              "                                                     [key], {});\n",
              "          if (!dataTable) return;\n",
              "\n",
              "          const docLinkHtml = 'Like what you see? Visit the ' +\n",
              "            '<a target=\"_blank\" href=https://colab.research.google.com/notebooks/data_table.ipynb>data table notebook</a>'\n",
              "            + ' to learn more about interactive tables.';\n",
              "          element.innerHTML = '';\n",
              "          dataTable['output_type'] = 'display_data';\n",
              "          await google.colab.output.renderOutput(dataTable, element);\n",
              "          const docLink = document.createElement('div');\n",
              "          docLink.innerHTML = docLinkHtml;\n",
              "          element.appendChild(docLink);\n",
              "        }\n",
              "      </script>\n",
              "    </div>\n",
              "  </div>\n",
              "  "
            ],
            "text/plain": [
              "                 tweet_id  ...                                              tweet\n",
              "0      344266386467606528  ...                depression hurts, cymbalta can help\n",
              "1      349220537903489025  ...  @jessicama20045 right, but cipro can make thin...\n",
              "2      351421773079781378  ...         @fibby1123 are you on paxil .. i need help\n",
              "3      326594278472171520  ...  @redicine the lamotrigine and sjs just made ch...\n",
              "4      345567138376994816  ...  have decided to skip my #humira shot today. my...\n",
              "...                   ...  ...                                                ...\n",
              "20539  469009954251481088  ...  @hornetweb my mri scan shows when it happens b...\n",
              "20540  468518427125358592  ...  remember 2003. vioxx costs $65m to ontario dru...\n",
              "20541  512254891361075200  ...  asians are at higher risk for severe allergic ...\n",
              "20542  491775200610893825  ...  5. so what caused the #estrogen surges in #nuv...\n",
              "20543  535492308817682432  ...  @twittalesskels 😂😂😂😂 i'm high off this tamiflu...\n",
              "\n",
              "[20544 rows x 4 columns]"
            ]
          },
          "metadata": {},
          "execution_count": 6
        }
      ],
      "source": [
        "df = pd.read_csv(r'drive/MyDrive/Colab Notebooks/NLP-Social-Media-Mining-for-Health-Monitoring/datasets/Task 1/task2_en_training.tsv', sep = '\\t')\n",
        "df"
      ]
    },
    {
      "cell_type": "markdown",
      "id": "0cfab7fb",
      "metadata": {
        "id": "0cfab7fb"
      },
      "source": [
        "### Average Number of Tweets per User"
      ]
    },
    {
      "cell_type": "code",
      "execution_count": 7,
      "id": "ab62261f",
      "metadata": {
        "id": "ab62261f",
        "outputId": "e47bde3a-728b-49b4-9a8a-c62effc3f3f5",
        "colab": {
          "base_uri": "https://localhost:8080/"
        }
      },
      "outputs": [
        {
          "output_type": "execute_result",
          "data": {
            "text/plain": [
              "1.2693234476367006"
            ]
          },
          "metadata": {},
          "execution_count": 7
        }
      ],
      "source": [
        "sum(list(dict(df['user_id'].value_counts()).values())) / len(list(dict(df['user_id'].value_counts()).values()))"
      ]
    },
    {
      "cell_type": "markdown",
      "id": "6cbb75dc",
      "metadata": {
        "id": "6cbb75dc"
      },
      "source": [
        "### Added this code to clean the text<br>\n",
        "need to change text in the dataset<br>"
      ]
    },
    {
      "cell_type": "code",
      "execution_count": 8,
      "id": "b21fd0b0",
      "metadata": {
        "id": "b21fd0b0"
      },
      "outputs": [],
      "source": [
        "def clean_tweet(tweet):\n",
        "    tweet = re.sub(r\"#\", \"\", tweet, 0, re.MULTILINE)\n",
        "    tweet = re.sub(r\"rt: \", \"\", tweet, 0, re.MULTILINE)\n",
        "    tweet = tweet.lower()\n",
        "    regex_mentions = r\"@\\w+\"\n",
        "    tweet = re.sub(regex_mentions, \"\", tweet, 0, re.MULTILINE)\n",
        "#     regex_hash = r\"(#[^\\s]+)\"\n",
        "#     tweet = re.sub(regex_hash, \"\", tweet, 0, re.MULTILINE)\n",
        "#     hash_matched = re.finditer(\n",
        "#         regex_hash, tweet['full_text'], re.MULTILINE)\n",
        "    url_regex = r\"(http[^\\s]+)\"\n",
        "    tweet = re.sub(url_regex, \"\", tweet, 0, re.MULTILINE)\n",
        "#     special_char_re = r\"[^(?u)\\w]+\"\n",
        "#     tweet = re.sub(special_char_re, \" \", tweet, 0, re.MULTILINE)\n",
        "    return tweet"
      ]
    },
    {
      "cell_type": "code",
      "execution_count": 9,
      "id": "cef07e22",
      "metadata": {
        "id": "cef07e22"
      },
      "outputs": [],
      "source": [
        "def remove_emojis(text):\n",
        "    emoticons_happy = list([\n",
        "        ':-)', ':)', ';)', ':o)', ':]', ':3', ':c)', ':>', '=]', '8)', '=)', ':}',\n",
        "        ':^)', ':-D', ':D', '8-D', '8D', 'x-D', 'xD', 'X-D', 'XD', '=-D', '=D',\n",
        "        '=-3', '=3', ':-))', \":'-)\", \":')\", ':*', ':^*', '>:P', ':-P', ':P', 'X-P',\n",
        "        'x-p', 'xp', 'XP', ':-p', ':p', '=p', ':-b', ':b', '>:)', '>;)', '>:-)',\n",
        "        '<3'\n",
        "    ])\n",
        "    emoticons_sad = list([\n",
        "        ':L', ':-/', '>:/', ':S', '>:[', ':@', ':-(', ':[', ':-||', '=L', ':<',\n",
        "        ':-[', ':-<', '=\\\\', '=/', '>:(', ':(', '>.<', \":'-(\", \":'(\", ':\\\\', ':-c',\n",
        "        ':c', ':{', '>:\\\\', ';('\n",
        "    ])\n",
        "    all_emoticons = emoticons_happy + emoticons_sad\n",
        "\n",
        "    emojis = list(demoji.findall(text).keys())\n",
        "    clean_text = demoji.replace(text, '')\n",
        "\n",
        "    for emo in all_emoticons:\n",
        "        if (emo in clean_text):\n",
        "            clean_text = clean_text.replace(emo, '')\n",
        "            emojis.append(emo)\n",
        "\n",
        "    clean_text = clean_text.replace('\\n', '', -1)\n",
        "    \n",
        "    # using regex to remove urls\n",
        "    # regex_url = r\"https:(.*)[A-Za-z0-9]\"\n",
        "    # clean_text = re.sub(regex_url, '', clean_text, 0, re.MULTILINE)\n",
        "\n",
        "    return clean_text #, emojis"
      ]
    },
    {
      "cell_type": "code",
      "execution_count": 10,
      "id": "0f402807",
      "metadata": {
        "id": "0f402807"
      },
      "outputs": [],
      "source": [
        "# for tweet in df['tweet']:\n",
        "#     print(tweet)\n",
        "    \n",
        "#     print(clean_tweet(remove_emojis(tweet)))\n",
        "df['tweet'] = df['tweet'].map(lambda tweet: clean_tweet(remove_emojis(tweet)))                                            "
      ]
    },
    {
      "cell_type": "markdown",
      "id": "d8aad74c",
      "metadata": {
        "id": "d8aad74c"
      },
      "source": [
        "### Highly Imbalanced Dataset<br>\n",
        "We will have to address this.<br>\n",
        "We can explore creating synthetic data, using TOMEK-Links, etc."
      ]
    },
    {
      "cell_type": "code",
      "execution_count": 11,
      "id": "85e90ee1",
      "metadata": {
        "scrolled": false,
        "id": "85e90ee1",
        "colab": {
          "base_uri": "https://localhost:8080/",
          "height": 279
        },
        "outputId": "d818b9af-cf3b-433f-a065-f0a5f7e2c7da"
      },
      "outputs": [
        {
          "output_type": "execute_result",
          "data": {
            "text/plain": [
              "<matplotlib.axes._subplots.AxesSubplot at 0x7fdeceab9210>"
            ]
          },
          "metadata": {},
          "execution_count": 11
        },
        {
          "output_type": "display_data",
          "data": {
            "image/png": "[encoded data removed]",
            "text/plain": [
              "<Figure size 432x288 with 1 Axes>"
            ]
          },
          "metadata": {
            "needs_background": "light"
          }
        }
      ],
      "source": [
        "df['class'].value_counts().plot(kind='bar')"
      ]
    },
    {
      "cell_type": "markdown",
      "id": "205c7c1f",
      "metadata": {
        "id": "205c7c1f"
      },
      "source": [
        "### Addressing Duplicate Tweets<br>\n",
        "We must remove duplicate rows to avoid redundancy and model overfitting"
      ]
    },
    {
      "cell_type": "code",
      "execution_count": 12,
      "id": "61023e0c",
      "metadata": {
        "id": "61023e0c",
        "colab": {
          "base_uri": "https://localhost:8080/"
        },
        "outputId": "56198533-cce5-4ff7-f960-a295085bb97c"
      },
      "outputs": [
        {
          "output_type": "execute_result",
          "data": {
            "text/plain": [
              "432"
            ]
          },
          "metadata": {},
          "execution_count": 12
        }
      ],
      "source": [
        "len(df.index) - df['tweet'].nunique()"
      ]
    },
    {
      "cell_type": "code",
      "execution_count": 13,
      "id": "81c7dc33",
      "metadata": {
        "id": "81c7dc33",
        "colab": {
          "base_uri": "https://localhost:8080/",
          "height": 248
        },
        "outputId": "c29ac6dd-26c0-4c12-e3f3-f770927d61b2"
      },
      "outputs": [
        {
          "output_type": "execute_result",
          "data": {
            "text/plain": [
              "<matplotlib.axes._subplots.AxesSubplot at 0x7fdecea901d0>"
            ]
          },
          "metadata": {},
          "execution_count": 13
        },
        {
          "output_type": "display_data",
          "data": {
            "image/png": "[encoded data removed]",
            "text/plain": [
              "<Figure size 432x288 with 1 Axes>"
            ]
          },
          "metadata": {
            "needs_background": "light"
          }
        }
      ],
      "source": [
        "df['tweet'].value_counts()[:10].plot(kind='barh')"
      ]
    },
    {
      "cell_type": "markdown",
      "id": "46daf1f7",
      "metadata": {
        "id": "46daf1f7"
      },
      "source": [
        "### Tweets belonging to class 1 are 8.9 characters longer on average"
      ]
    },
    {
      "cell_type": "code",
      "execution_count": 14,
      "id": "6a001230",
      "metadata": {
        "id": "6a001230",
        "colab": {
          "base_uri": "https://localhost:8080/"
        },
        "outputId": "d4c18719-512b-427c-a148-e039c6e5fcaf"
      },
      "outputs": [
        {
          "output_type": "execute_result",
          "data": {
            "text/plain": [
              "89.39842283139316"
            ]
          },
          "metadata": {},
          "execution_count": 14
        }
      ],
      "source": [
        "df[df['class'] == 0]['tweet'].apply(len).mean()"
      ]
    },
    {
      "cell_type": "code",
      "execution_count": 15,
      "id": "f96090c2",
      "metadata": {
        "scrolled": false,
        "id": "f96090c2",
        "colab": {
          "base_uri": "https://localhost:8080/"
        },
        "outputId": "b57f7b98-4b18-452f-e904-1d2d29f599ff"
      },
      "outputs": [
        {
          "output_type": "execute_result",
          "data": {
            "text/plain": [
              "99.32107199159222"
            ]
          },
          "metadata": {},
          "execution_count": 15
        }
      ],
      "source": [
        "df[df['class'] == 1]['tweet'].apply(len).mean()"
      ]
    },
    {
      "cell_type": "code",
      "execution_count": 16,
      "id": "b9e074bc",
      "metadata": {
        "id": "b9e074bc",
        "colab": {
          "base_uri": "https://localhost:8080/"
        },
        "outputId": "d12dada8-cb0d-4ede-912c-773c4073d492"
      },
      "outputs": [
        {
          "output_type": "execute_result",
          "data": {
            "text/plain": [
              "(18641, 4)"
            ]
          },
          "metadata": {},
          "execution_count": 16
        }
      ],
      "source": [
        "df_0 = df[df['class'] == 0]\n",
        "df_0.shape"
      ]
    },
    {
      "cell_type": "code",
      "execution_count": 17,
      "id": "ed402629",
      "metadata": {
        "id": "ed402629",
        "colab": {
          "base_uri": "https://localhost:8080/"
        },
        "outputId": "b0337b30-6237-4941-f35d-151e4c5f118e"
      },
      "outputs": [
        {
          "output_type": "execute_result",
          "data": {
            "text/plain": [
              "(1903, 4)"
            ]
          },
          "metadata": {},
          "execution_count": 17
        }
      ],
      "source": [
        "df_1 = df[df['class'] == 1]\n",
        "df_1.shape"
      ]
    },
    {
      "cell_type": "code",
      "execution_count": 18,
      "id": "6f807d32",
      "metadata": {
        "id": "6f807d32",
        "colab": {
          "base_uri": "https://localhost:8080/"
        },
        "outputId": "68b2dc24-b9b4-49e0-af0d-dbd8e08bc033"
      },
      "outputs": [
        {
          "output_type": "execute_result",
          "data": {
            "text/plain": [
              "(1903, 4)"
            ]
          },
          "metadata": {},
          "execution_count": 18
        }
      ],
      "source": [
        "df_0_downsampled = df_0.sample(df_1.shape[0])\n",
        "df_0_downsampled.shape"
      ]
    },
    {
      "cell_type": "code",
      "execution_count": 19,
      "id": "0224bf36",
      "metadata": {
        "id": "0224bf36",
        "colab": {
          "base_uri": "https://localhost:8080/"
        },
        "outputId": "44a49a01-0095-4ec6-ebef-ea34fda6bb7a"
      },
      "outputs": [
        {
          "output_type": "execute_result",
          "data": {
            "text/plain": [
              "(3806, 4)"
            ]
          },
          "metadata": {},
          "execution_count": 19
        }
      ],
      "source": [
        "df_balanced = pd.concat([df_1,df_0_downsampled])\n",
        "df_balanced.shape"
      ]
    },
    {
      "cell_type": "code",
      "execution_count": 20,
      "id": "829f840d",
      "metadata": {
        "id": "829f840d"
      },
      "outputs": [],
      "source": [
        "from sklearn.model_selection import train_test_split\n",
        "import tensorflow as tf\n",
        "X_train, X_test, y_train, y_test = train_test_split(df_balanced['tweet'],df_balanced['class'],stratify=df_balanced['class'])"
      ]
    },
    {
      "cell_type": "code",
      "execution_count": 20,
      "id": "2df774d0",
      "metadata": {
        "id": "2df774d0"
      },
      "outputs": [],
      "source": [
        ""
      ]
    },
    {
      "cell_type": "code",
      "execution_count": 21,
      "id": "f50e52a8",
      "metadata": {
        "id": "f50e52a8"
      },
      "outputs": [],
      "source": [
        "bert_preprocess = hub.KerasLayer(\"https://tfhub.dev/tensorflow/bert_en_uncased_preprocess/3\")\n",
        "bert_encoder = hub.KerasLayer(\"https://tfhub.dev/tensorflow/bert_en_uncased_L-12_H-768_A-12/4\")"
      ]
    },
    {
      "cell_type": "code",
      "execution_count": 22,
      "id": "0aa5cde0",
      "metadata": {
        "id": "0aa5cde0"
      },
      "outputs": [],
      "source": [
        "#BERT Layers\n",
        "text_input = tf.keras.layers.Input(shape = (), dtype=tf.string , name=\"tweet\")\n",
        "preprocessed_text = bert_preprocess(text_input)\n",
        "outputs = bert_encoder(preprocessed_text)\n",
        "\n",
        "#NN Layers\n",
        "l=tf.keras.layers.Dropout(0.1, name = \"dropout\")(outputs[\"pooled_output\"])\n",
        "l=tf.keras.layers.Dense(1,activation='sigmoid',name='output')(l)\n",
        "\n",
        "#final Model\n",
        "model = tf.keras.Model(inputs = [text_input] , outputs = [l])\n"
      ]
    },
    {
      "cell_type": "code",
      "execution_count": 23,
      "id": "00894921",
      "metadata": {
        "id": "00894921",
        "colab": {
          "base_uri": "https://localhost:8080/"
        },
        "outputId": "edcfc983-1c28-4a6a-b810-8f1c8443a41a"
      },
      "outputs": [
        {
          "output_type": "stream",
          "name": "stdout",
          "text": [
            "Model: \"model\"\n",
            "__________________________________________________________________________________________________\n",
            " Layer (type)                   Output Shape         Param #     Connected to                     \n",
            "==================================================================================================\n",
            " tweet (InputLayer)             [(None,)]            0           []                               \n",
            "                                                                                                  \n",
            " keras_layer (KerasLayer)       {'input_type_ids':   0           ['tweet[0][0]']                  \n",
            "                                (None, 128),                                                      \n",
            "                                 'input_mask': (Non                                               \n",
            "                                e, 128),                                                          \n",
            "                                 'input_word_ids':                                                \n",
            "                                (None, 128)}                                                      \n",
            "                                                                                                  \n",
            " keras_layer_1 (KerasLayer)     {'pooled_output': (  109482241   ['keras_layer[0][0]',            \n",
            "                                None, 768),                       'keras_layer[0][1]',            \n",
            "                                 'sequence_output':               'keras_layer[0][2]']            \n",
            "                                 (None, 128, 768),                                                \n",
            "                                 'encoder_outputs':                                               \n",
            "                                 [(None, 128, 768),                                               \n",
            "                                 (None, 128, 768),                                                \n",
            "                                 (None, 128, 768),                                                \n",
            "                                 (None, 128, 768),                                                \n",
            "                                 (None, 128, 768),                                                \n",
            "                                 (None, 128, 768),                                                \n",
            "                                 (None, 128, 768),                                                \n",
            "                                 (None, 128, 768),                                                \n",
            "                                 (None, 128, 768),                                                \n",
            "                                 (None, 128, 768),                                                \n",
            "                                 (None, 128, 768),                                                \n",
            "                                 (None, 128, 768)],                                               \n",
            "                                 'default': (None,                                                \n",
            "                                768)}                                                             \n",
            "                                                                                                  \n",
            " dropout (Dropout)              (None, 768)          0           ['keras_layer_1[0][13]']         \n",
            "                                                                                                  \n",
            " output (Dense)                 (None, 1)            769         ['dropout[0][0]']                \n",
            "                                                                                                  \n",
            "==================================================================================================\n",
            "Total params: 109,483,010\n",
            "Trainable params: 769\n",
            "Non-trainable params: 109,482,241\n",
            "__________________________________________________________________________________________________\n"
          ]
        }
      ],
      "source": [
        "model.summary()"
      ]
    },
    {
      "cell_type": "code",
      "execution_count": 24,
      "id": "f7cb85a7",
      "metadata": {
        "id": "f7cb85a7"
      },
      "outputs": [],
      "source": [
        "METRICS =[\n",
        "          tf.keras.metrics.BinaryAccuracy(name='accuracy'),\n",
        "          tf.keras.metrics.Precision(name='precision'),\n",
        "          tf.keras.metrics.Recall(name='recall')\n",
        "]\n",
        "\n",
        "model.compile(optimizer=\"adam\",\n",
        "              loss = \"binary_crossentropy\",\n",
        "              metrics = METRICS)"
      ]
    },
    {
      "cell_type": "code",
      "source": [
        "model.fit(X_train,y_train,epochs=10)"
      ],
      "metadata": {
        "colab": {
          "base_uri": "https://localhost:8080/"
        },
        "id": "SfDYIkwDxEF3",
        "outputId": "5cb33002-dbf7-43c8-f9dd-3c05c2867d45"
      },
      "id": "SfDYIkwDxEF3",
      "execution_count": 31,
      "outputs": [
        {
          "output_type": "stream",
          "name": "stdout",
          "text": [
            "Epoch 1/10\n",
            "90/90 [==============================] - 29s 319ms/step - loss: 0.6182 - accuracy: 0.6594 - precision: 0.6536 - recall: 0.6783\n",
            "Epoch 2/10\n",
            "90/90 [==============================] - 29s 326ms/step - loss: 0.6079 - accuracy: 0.6759 - precision: 0.6682 - recall: 0.6987\n",
            "Epoch 3/10\n",
            "90/90 [==============================] - 31s 340ms/step - loss: 0.6054 - accuracy: 0.6773 - precision: 0.6691 - recall: 0.7015\n",
            "Epoch 4/10\n",
            "90/90 [==============================] - 31s 348ms/step - loss: 0.6011 - accuracy: 0.6808 - precision: 0.6760 - recall: 0.6945\n",
            "Epoch 5/10\n",
            "90/90 [==============================] - 31s 340ms/step - loss: 0.5931 - accuracy: 0.6868 - precision: 0.6852 - recall: 0.6910\n",
            "Epoch 6/10\n",
            "90/90 [==============================] - 35s 395ms/step - loss: 0.5817 - accuracy: 0.6994 - precision: 0.6900 - recall: 0.7239\n",
            "Epoch 7/10\n",
            "90/90 [==============================] - 34s 376ms/step - loss: 0.5776 - accuracy: 0.7001 - precision: 0.6941 - recall: 0.7155\n",
            "Epoch 8/10\n",
            "90/90 [==============================] - 31s 343ms/step - loss: 0.5771 - accuracy: 0.7113 - precision: 0.7069 - recall: 0.7218\n",
            "Epoch 9/10\n",
            "90/90 [==============================] - 31s 344ms/step - loss: 0.5698 - accuracy: 0.7137 - precision: 0.7127 - recall: 0.7162\n",
            "Epoch 10/10\n",
            "90/90 [==============================] - 31s 345ms/step - loss: 0.5725 - accuracy: 0.7036 - precision: 0.6980 - recall: 0.7176\n"
          ]
        },
        {
          "output_type": "execute_result",
          "data": {
            "text/plain": [
              "<keras.callbacks.History at 0x7fde33a77190>"
            ]
          },
          "metadata": {},
          "execution_count": 31
        }
      ]
    },
    {
      "cell_type": "code",
      "source": [
        "model.evaluate(X_test,y_test)"
      ],
      "metadata": {
        "colab": {
          "base_uri": "https://localhost:8080/"
        },
        "id": "EyWIqFCixLsn",
        "outputId": "acd0a37f-3e3b-4eaf-a755-8705df12203a"
      },
      "id": "EyWIqFCixLsn",
      "execution_count": 32,
      "outputs": [
        {
          "output_type": "stream",
          "name": "stdout",
          "text": [
            "30/30 [==============================] - 10s 340ms/step - loss: 0.5771 - accuracy: 0.7069 - precision: 0.7264 - recall: 0.6639\n"
          ]
        },
        {
          "output_type": "execute_result",
          "data": {
            "text/plain": [
              "[0.5771391987800598, 0.706932783126831, 0.7264367938041687, 0.6638655662536621]"
            ]
          },
          "metadata": {},
          "execution_count": 32
        }
      ]
    },
    {
      "cell_type": "code",
      "source": [
        "y_predicted = model.predict(X_test)\n",
        "y_predicted = y_predicted.flatten()"
      ],
      "metadata": {
        "id": "V7ZFoq00y18l"
      },
      "id": "V7ZFoq00y18l",
      "execution_count": 33,
      "outputs": []
    },
    {
      "cell_type": "code",
      "source": [
        "y_predicted = np.where(y_predicted > 0.5,1,0)\n",
        "y_predicted"
      ],
      "metadata": {
        "colab": {
          "base_uri": "https://localhost:8080/"
        },
        "id": "_byqDgXGzGLs",
        "outputId": "240c429f-17de-4015-bbb2-01992b1ac9a6"
      },
      "id": "_byqDgXGzGLs",
      "execution_count": 34,
      "outputs": [
        {
          "output_type": "execute_result",
          "data": {
            "text/plain": [
              "array([0, 0, 0, 0, 0, 0, 0, 0, 0, 0, 1, 1, 0, 1, 0, 1, 1, 0, 0, 0, 1, 1,\n",
              "       0, 1, 1, 1, 0, 0, 0, 1, 1, 0, 0, 1, 0, 0, 0, 0, 0, 0, 0, 1, 0, 0,\n",
              "       0, 1, 0, 0, 0, 1, 0, 0, 0, 0, 0, 1, 0, 0, 0, 0, 1, 0, 0, 0, 0, 0,\n",
              "       0, 0, 1, 0, 1, 1, 1, 1, 1, 1, 1, 0, 1, 0, 1, 0, 0, 1, 0, 1, 0, 1,\n",
              "       0, 1, 0, 1, 1, 1, 0, 0, 0, 0, 1, 0, 0, 0, 1, 0, 1, 0, 1, 1, 1, 0,\n",
              "       0, 0, 0, 1, 0, 1, 1, 0, 0, 0, 1, 0, 1, 1, 0, 1, 0, 0, 1, 0, 0, 1,\n",
              "       0, 1, 0, 0, 0, 0, 0, 0, 0, 1, 0, 1, 0, 1, 1, 0, 0, 1, 0, 1, 0, 0,\n",
              "       1, 1, 1, 1, 0, 0, 1, 1, 1, 0, 1, 0, 1, 1, 1, 1, 0, 1, 0, 0, 1, 1,\n",
              "       1, 0, 1, 0, 0, 0, 1, 1, 1, 1, 0, 0, 1, 0, 1, 1, 0, 0, 0, 1, 1, 0,\n",
              "       0, 0, 0, 0, 0, 0, 1, 1, 1, 1, 1, 0, 0, 1, 1, 1, 1, 0, 0, 1, 0, 1,\n",
              "       1, 1, 1, 1, 0, 1, 0, 1, 1, 1, 0, 1, 0, 0, 0, 0, 0, 0, 1, 0, 1, 1,\n",
              "       1, 0, 1, 0, 0, 0, 0, 0, 1, 1, 1, 0, 0, 0, 1, 1, 1, 0, 0, 1, 1, 0,\n",
              "       0, 0, 0, 1, 0, 1, 0, 0, 1, 1, 0, 0, 0, 1, 0, 1, 0, 1, 0, 0, 1, 0,\n",
              "       0, 1, 0, 0, 0, 0, 0, 1, 0, 1, 1, 0, 0, 0, 0, 1, 0, 1, 1, 0, 0, 0,\n",
              "       1, 0, 1, 0, 0, 1, 0, 0, 1, 0, 1, 1, 1, 0, 1, 0, 0, 1, 1, 1, 0, 1,\n",
              "       0, 1, 0, 0, 1, 0, 0, 0, 0, 0, 1, 0, 0, 0, 1, 0, 1, 1, 0, 0, 0, 1,\n",
              "       1, 1, 0, 1, 1, 0, 1, 1, 0, 1, 0, 0, 1, 0, 1, 0, 0, 1, 1, 0, 0, 1,\n",
              "       0, 1, 1, 0, 0, 0, 1, 1, 1, 0, 1, 1, 0, 1, 1, 1, 0, 0, 0, 1, 0, 0,\n",
              "       1, 0, 0, 0, 0, 1, 0, 1, 1, 1, 1, 0, 0, 1, 0, 0, 0, 1, 1, 0, 0, 1,\n",
              "       1, 1, 1, 1, 0, 0, 1, 1, 0, 0, 1, 0, 1, 0, 1, 1, 0, 0, 0, 1, 0, 0,\n",
              "       0, 0, 0, 0, 1, 1, 1, 0, 0, 1, 1, 0, 1, 0, 0, 0, 0, 0, 0, 1, 0, 1,\n",
              "       1, 0, 0, 1, 1, 0, 1, 0, 1, 0, 0, 1, 1, 0, 0, 0, 1, 1, 0, 1, 0, 0,\n",
              "       0, 0, 1, 1, 1, 1, 1, 0, 0, 0, 1, 1, 1, 1, 1, 1, 1, 0, 0, 1, 0, 0,\n",
              "       1, 1, 1, 0, 0, 1, 1, 1, 0, 1, 0, 1, 1, 0, 0, 1, 0, 1, 0, 1, 1, 1,\n",
              "       1, 0, 0, 1, 1, 1, 0, 0, 1, 1, 1, 1, 1, 1, 0, 0, 1, 0, 1, 1, 0, 1,\n",
              "       0, 0, 1, 1, 0, 1, 1, 0, 1, 1, 1, 0, 0, 0, 0, 1, 1, 0, 1, 0, 0, 0,\n",
              "       0, 1, 0, 0, 0, 0, 0, 0, 0, 0, 1, 0, 1, 1, 0, 0, 0, 0, 0, 1, 0, 0,\n",
              "       0, 0, 0, 0, 0, 0, 1, 1, 1, 0, 1, 1, 1, 1, 1, 0, 0, 0, 0, 1, 1, 1,\n",
              "       1, 0, 0, 1, 0, 0, 1, 0, 0, 0, 1, 1, 0, 1, 1, 0, 0, 1, 0, 0, 1, 0,\n",
              "       1, 0, 0, 0, 1, 0, 0, 0, 1, 0, 1, 1, 0, 1, 0, 1, 0, 0, 0, 0, 1, 0,\n",
              "       1, 0, 1, 0, 0, 0, 0, 1, 0, 0, 0, 0, 1, 1, 0, 1, 0, 1, 1, 1, 1, 1,\n",
              "       1, 1, 1, 1, 1, 1, 1, 1, 1, 0, 0, 0, 1, 0, 1, 0, 1, 0, 1, 0, 1, 0,\n",
              "       1, 1, 0, 0, 1, 1, 1, 0, 0, 0, 1, 0, 1, 1, 0, 0, 1, 0, 0, 0, 0, 0,\n",
              "       1, 0, 0, 0, 0, 0, 1, 0, 0, 0, 1, 0, 0, 0, 0, 1, 1, 0, 0, 1, 0, 0,\n",
              "       1, 1, 1, 0, 1, 0, 0, 0, 0, 0, 0, 0, 0, 1, 0, 0, 0, 1, 0, 0, 0, 0,\n",
              "       0, 0, 1, 0, 1, 0, 1, 0, 1, 0, 1, 1, 1, 1, 0, 0, 0, 1, 1, 1, 1, 1,\n",
              "       0, 0, 1, 0, 1, 0, 1, 0, 0, 0, 0, 0, 1, 0, 1, 1, 0, 1, 0, 0, 1, 1,\n",
              "       1, 1, 0, 1, 1, 1, 1, 0, 1, 1, 0, 1, 1, 1, 0, 1, 1, 0, 0, 0, 1, 1,\n",
              "       1, 1, 0, 0, 1, 0, 0, 0, 1, 1, 1, 1, 1, 1, 0, 0, 0, 1, 0, 1, 1, 0,\n",
              "       0, 1, 0, 0, 1, 0, 1, 1, 1, 1, 1, 0, 1, 1, 0, 0, 0, 1, 0, 1, 0, 1,\n",
              "       1, 0, 0, 0, 0, 0, 0, 1, 0, 1, 0, 1, 1, 0, 0, 1, 1, 1, 0, 0, 1, 0,\n",
              "       0, 1, 0, 0, 0, 1, 0, 1, 1, 1, 0, 0, 1, 0, 0, 1, 0, 0, 1, 1, 1, 1,\n",
              "       0, 0, 1, 1, 0, 0, 0, 0, 1, 0, 0, 0, 1, 1, 0, 0, 0, 1, 1, 1, 0, 1,\n",
              "       1, 0, 0, 1, 0, 1])"
            ]
          },
          "metadata": {},
          "execution_count": 34
        }
      ]
    },
    {
      "cell_type": "code",
      "source": [
        "from sklearn.metrics import confusion_matrix,classification_report\n",
        "\n",
        "cm = confusion_matrix(y_test,y_predicted)\n",
        "cm"
      ],
      "metadata": {
        "colab": {
          "base_uri": "https://localhost:8080/"
        },
        "id": "q39PeUNuzWkV",
        "outputId": "fc12a1e2-5972-486c-d481-d96fd73d254b"
      },
      "id": "q39PeUNuzWkV",
      "execution_count": 35,
      "outputs": [
        {
          "output_type": "execute_result",
          "data": {
            "text/plain": [
              "array([[357, 119],\n",
              "       [160, 316]])"
            ]
          },
          "metadata": {},
          "execution_count": 35
        }
      ]
    },
    {
      "cell_type": "code",
      "source": [
        "from matplotlib import pyplot as plt\n",
        "import seaborn as sn\n",
        "\n",
        "sn.heatmap(cm, annot = True , fmt = 'd')\n",
        "plt.xlabel(\"Predicted\")\n",
        "plt.ylabel(\"Truth\")"
      ],
      "metadata": {
        "colab": {
          "base_uri": "https://localhost:8080/",
          "height": 296
        },
        "id": "yHv_lusYzmtP",
        "outputId": "cb155852-2cc8-4f4c-8ed1-3605a87dd70f"
      },
      "id": "yHv_lusYzmtP",
      "execution_count": 36,
      "outputs": [
        {
          "output_type": "execute_result",
          "data": {
            "text/plain": [
              "Text(33.0, 0.5, 'Truth')"
            ]
          },
          "metadata": {},
          "execution_count": 36
        },
        {
          "output_type": "display_data",
          "data": {
            "image/png": "[encoded data removed]",
            "text/plain": [
              "<Figure size 432x288 with 2 Axes>"
            ]
          },
          "metadata": {
            "needs_background": "light"
          }
        }
      ]
    },
    {
      "cell_type": "code",
      "source": [
        "print(classification_report(y_test,y_predicted))"
      ],
      "metadata": {
        "colab": {
          "base_uri": "https://localhost:8080/"
        },
        "id": "WY-SRjL-0GeT",
        "outputId": "39a1c883-6f0f-4773-e9f7-5c069848aba7"
      },
      "id": "WY-SRjL-0GeT",
      "execution_count": 37,
      "outputs": [
        {
          "output_type": "stream",
          "name": "stdout",
          "text": [
            "              precision    recall  f1-score   support\n",
            "\n",
            "           0       0.69      0.75      0.72       476\n",
            "           1       0.73      0.66      0.69       476\n",
            "\n",
            "    accuracy                           0.71       952\n",
            "   macro avg       0.71      0.71      0.71       952\n",
            "weighted avg       0.71      0.71      0.71       952\n",
            "\n"
          ]
        }
      ]
    },
    {
      "cell_type": "code",
      "source": [
        ""
      ],
      "metadata": {
        "id": "FFvXIffn1Lyn"
      },
      "id": "FFvXIffn1Lyn",
      "execution_count": null,
      "outputs": []
    }
  ],
  "metadata": {
    "kernelspec": {
      "display_name": "Python 3",
      "language": "python",
      "name": "python3"
    },
    "language_info": {
      "codemirror_mode": {
        "name": "ipython",
        "version": 3
      },
      "file_extension": ".py",
      "mimetype": "text/x-python",
      "name": "python",
      "nbconvert_exporter": "python",
      "pygments_lexer": "ipython3",
      "version": "3.8.8"
    },
    "colab": {
      "name": "Exploratory Data Analysis.ipynb",
      "provenance": [],
      "include_colab_link": true
    },
    "accelerator": "GPU"
  },
  "nbformat": 4,
  "nbformat_minor": 5
}